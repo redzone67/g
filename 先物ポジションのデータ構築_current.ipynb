{
 "cells": [
  {
   "cell_type": "code",
   "execution_count": 1,
   "id": "7c9e86d6-87f2-4856-af69-cc32da3d310e",
   "metadata": {},
   "outputs": [],
   "source": [
    "from datetime import datetime, timedelta"
   ]
  },
  {
   "cell_type": "code",
   "execution_count": 2,
   "id": "e8204f9e-ef73-4f2f-8b42-ca8ea15bddae",
   "metadata": {},
   "outputs": [],
   "source": [
    "import requests"
   ]
  },
  {
   "cell_type": "code",
   "execution_count": 3,
   "id": "fe6210ca-fe73-480b-b93a-94d0c3d8d3a4",
   "metadata": {},
   "outputs": [],
   "source": [
    "import pandas as pd\n",
    "pd.set_option('display.max_rows', None)\n",
    "pd.set_option('display.max_columns', None)\n",
    "\n",
    "import plotly.express as px"
   ]
  },
  {
   "cell_type": "code",
   "execution_count": 4,
   "id": "69e0cbc0-28fd-4e40-bad6-87d58696a898",
   "metadata": {},
   "outputs": [],
   "source": [
    "from IPython.display import clear_output"
   ]
  },
  {
   "cell_type": "code",
   "execution_count": 5,
   "id": "b525c863-db61-4b86-88b8-2cadb9fdf31a",
   "metadata": {},
   "outputs": [],
   "source": [
    "import re"
   ]
  },
  {
   "cell_type": "code",
   "execution_count": 6,
   "id": "8cf49995-597f-4fa2-9de6-d59b65913886",
   "metadata": {},
   "outputs": [],
   "source": [
    "import pickle\n",
    "with open('code_dic.pkl',mode='rb') as f:\n",
    "    code_dic = pickle.load(f)"
   ]
  },
  {
   "cell_type": "markdown",
   "id": "b4b7ef63-f8a5-4cf6-a9d5-b6a600ee3144",
   "metadata": {},
   "source": [
    "### データ更新用（毎週末）"
   ]
  },
  {
   "cell_type": "code",
   "execution_count": 7,
   "id": "4fd06ef3-0afe-4096-b45c-5401f077f4bc",
   "metadata": {},
   "outputs": [
    {
     "data": {
      "text/html": [
       "<div>\n",
       "<style scoped>\n",
       "    .dataframe tbody tr th:only-of-type {\n",
       "        vertical-align: middle;\n",
       "    }\n",
       "\n",
       "    .dataframe tbody tr th {\n",
       "        vertical-align: top;\n",
       "    }\n",
       "\n",
       "    .dataframe thead th {\n",
       "        text-align: right;\n",
       "    }\n",
       "</style>\n",
       "<table border=\"1\" class=\"dataframe\">\n",
       "  <thead>\n",
       "    <tr style=\"text-align: right;\">\n",
       "      <th></th>\n",
       "      <th>date</th>\n",
       "      <th>trader</th>\n",
       "      <th>commodity</th>\n",
       "      <th>long</th>\n",
       "      <th>short</th>\n",
       "    </tr>\n",
       "  </thead>\n",
       "  <tbody>\n",
       "    <tr>\n",
       "      <th>85370</th>\n",
       "      <td>20240806</td>\n",
       "      <td>LeveragedFunds</td>\n",
       "      <td>E-MINI S&amp;P FINANCIAL INDEX - CHICAGO MERCANTIL...</td>\n",
       "      <td>920</td>\n",
       "      <td>1997</td>\n",
       "    </tr>\n",
       "    <tr>\n",
       "      <th>85371</th>\n",
       "      <td>20240806</td>\n",
       "      <td>AssetManager</td>\n",
       "      <td>E-MINI S&amp;P FINANCIAL INDEX - CHICAGO MERCANTIL...</td>\n",
       "      <td>20382</td>\n",
       "      <td>430</td>\n",
       "    </tr>\n",
       "    <tr>\n",
       "      <th>85372</th>\n",
       "      <td>20240806</td>\n",
       "      <td>Dealer</td>\n",
       "      <td>E-MINI S&amp;P FINANCIAL INDEX - CHICAGO MERCANTIL...</td>\n",
       "      <td>30507</td>\n",
       "      <td>51417</td>\n",
       "    </tr>\n",
       "    <tr>\n",
       "      <th>85373</th>\n",
       "      <td>20240806</td>\n",
       "      <td>AssetManager</td>\n",
       "      <td>E-MINI S&amp;P TECHNOLOGY INDEX - CHICAGO MERCANTI...</td>\n",
       "      <td>8507</td>\n",
       "      <td>0</td>\n",
       "    </tr>\n",
       "    <tr>\n",
       "      <th>85374</th>\n",
       "      <td>20240806</td>\n",
       "      <td>NonRep</td>\n",
       "      <td>VIX FUTURES - CBOE FUTURES EXCHANGE   ($1000 X...</td>\n",
       "      <td>28694</td>\n",
       "      <td>40996</td>\n",
       "    </tr>\n",
       "  </tbody>\n",
       "</table>\n",
       "</div>"
      ],
      "text/plain": [
       "           date          trader  \\\n",
       "85370  20240806  LeveragedFunds   \n",
       "85371  20240806    AssetManager   \n",
       "85372  20240806          Dealer   \n",
       "85373  20240806    AssetManager   \n",
       "85374  20240806          NonRep   \n",
       "\n",
       "                                               commodity   long  short  \n",
       "85370  E-MINI S&P FINANCIAL INDEX - CHICAGO MERCANTIL...    920   1997  \n",
       "85371  E-MINI S&P FINANCIAL INDEX - CHICAGO MERCANTIL...  20382    430  \n",
       "85372  E-MINI S&P FINANCIAL INDEX - CHICAGO MERCANTIL...  30507  51417  \n",
       "85373  E-MINI S&P TECHNOLOGY INDEX - CHICAGO MERCANTI...   8507      0  \n",
       "85374  VIX FUTURES - CBOE FUTURES EXCHANGE   ($1000 X...  28694  40996  "
      ]
     },
     "execution_count": 7,
     "metadata": {},
     "output_type": "execute_result"
    }
   ],
   "source": [
    "pos_data = pd.read_excel('cftc先物ポジション_current.xlsx').iloc[:,1:]\n",
    "pos_data.tail()\n",
    "#pos_data.columns = ['date','long','short']\n",
    "pos_data.tail()\n",
    "#pos_data[pos_data['date']==20221004]"
   ]
  },
  {
   "cell_type": "code",
   "execution_count": 8,
   "id": "663a916e-f5c0-4327-a071-e2c7fcf2fe93",
   "metadata": {},
   "outputs": [
    {
     "data": {
      "text/plain": [
       "85375"
      ]
     },
     "execution_count": 8,
     "metadata": {},
     "output_type": "execute_result"
    }
   ],
   "source": [
    "pos_data.shape[0]"
   ]
  },
  {
   "cell_type": "code",
   "execution_count": 9,
   "id": "4bcdb0de-745c-4804-84cb-b9bcd26f866a",
   "metadata": {},
   "outputs": [
    {
     "data": {
      "text/plain": [
       "date          int64\n",
       "trader       object\n",
       "commodity    object\n",
       "long          int64\n",
       "short         int64\n",
       "dtype: object"
      ]
     },
     "execution_count": 9,
     "metadata": {},
     "output_type": "execute_result"
    }
   ],
   "source": [
    "pos_data.dtypes"
   ]
  },
  {
   "cell_type": "code",
   "execution_count": 10,
   "id": "0d82aeb1-492d-434e-b28c-ab301a2bce4f",
   "metadata": {},
   "outputs": [],
   "source": [
    "today = datetime.today()"
   ]
  },
  {
   "cell_type": "code",
   "execution_count": 11,
   "id": "39010a26-871a-4654-a2e0-9625998448aa",
   "metadata": {},
   "outputs": [],
   "source": [
    "tuesdays = []\n",
    "date = str(pos_data['date'].tolist()[-1])\n",
    "date = datetime.strptime(date,'%Y%m%d')+ timedelta(days=7)\n",
    "while True:\n",
    "    if date > today:\n",
    "        break\n",
    "    else:\n",
    "        # 残りの火曜日を見つける\n",
    "        tuesdays.append(date.strftime('%Y%m%d'))\n",
    "    date += timedelta(days=7)"
   ]
  },
  {
   "cell_type": "code",
   "execution_count": 12,
   "id": "6946a15a-cb0c-4ca5-8286-c586e049faa3",
   "metadata": {},
   "outputs": [
    {
     "data": {
      "text/plain": [
       "['20240813', '20240820']"
      ]
     },
     "execution_count": 12,
     "metadata": {},
     "output_type": "execute_result"
    }
   ],
   "source": [
    "tuesdays"
   ]
  },
  {
   "cell_type": "code",
   "execution_count": 13,
   "id": "1eafbfef-1804-4e81-98dc-b3bc0a118f57",
   "metadata": {},
   "outputs": [],
   "source": [
    "#tuesdays = ['20221004']"
   ]
  },
  {
   "cell_type": "code",
   "execution_count": 14,
   "id": "6e21b66d-a4bd-4ae0-b8b6-fa12e4c10d4e",
   "metadata": {},
   "outputs": [
    {
     "data": {
      "text/plain": [
       "5"
      ]
     },
     "execution_count": 14,
     "metadata": {},
     "output_type": "execute_result"
    }
   ],
   "source": [
    "datetime.weekday(datetime.today())"
   ]
  },
  {
   "cell_type": "code",
   "execution_count": 15,
   "id": "b80a0c23-caae-45de-8a65-23c61d7e87d8",
   "metadata": {},
   "outputs": [
    {
     "name": "stdout",
     "output_type": "stream",
     "text": [
      "https://www.cftc.gov/sites/default/files/files/dea/cotarchives/2024/futures/financial_lf081324.htm\n",
      "1/2\n",
      "https://www.cftc.gov/sites/default/files/files/dea/cotarchives/2024/futures/financial_lf082024.htm\n",
      "2/2\n",
      "終わりました\n"
     ]
    }
   ],
   "source": [
    "missed = []\n",
    "i = 1\n",
    "for date in tuesdays:\n",
    "    if datetime.today() < datetime.strptime(date,'%Y%m%d')+timedelta(days=4):\n",
    "        print('future')\n",
    "        break\n",
    "    yyyy = date[:4]\n",
    "    url = \"https://www.cftc.gov/sites/default/files/files/dea/cotarchives/\"\n",
    "    url += yyyy+\"/futures/financial_lf\"+date[-4:]+yyyy[-2:]+\".htm\"\n",
    "    print(url)\n",
    "    #url = 'https://www.cftc.gov/dea/futures/financial_lf.htm'\n",
    "    \n",
    "    texts = requests.get(url).text\n",
    "    pattern = r'<!--ih:includeHTML file=\"financiallf.txt\"-->([^\"]+)<!--/ih:includeHTML-->'\n",
    "    texts = re.findall(pattern, texts)[0]\n",
    "    texts = texts.split('\\r\\n')\n",
    "    texts = [s for s in texts if (s != '')&(s != ' ')]\n",
    "    #if date == '20220517':\n",
    "    #    texts[0] ='USD Malaysian Crude Palm Oil C - CHICAGO MERCANTILE EXCHANGE         Code-037021'\n",
    "\n",
    "    pos = [item for i, element in enumerate(texts) if 'Traders in Financial Futures' in element for item in ((i-1, i) if i > 0 else (i,))]\n",
    "    #print(pos)\n",
    "    nested_list = [texts[pos[i]:pos[i+1]] for i in range(0,len(pos)-1,2)]\n",
    "    #[print(s[9]) for s in nested_list]\n",
    "    for s in nested_list:\n",
    "        datas = [int(ss) for ss in s[9].replace(',','').split(' ') if not ss == '']\n",
    "        #print(datas)\n",
    "        traders = ['Dealer','AssetManager','LeveragedFunds','Other','NonRep']\n",
    "\n",
    "        if (not s[6].startswith(' '))&(s[7].split('  ')[0] not in list(code_dic.keys())):\n",
    "            #print(s[7].split('  ')[0])\n",
    "            #print(s[6])\n",
    "            code_dic[s[7].split('  ')[0]]=s[6]\n",
    "        elif (s[6].startswith(' '))&(s[7].split('  ')[0] in list(code_dic.keys())):\n",
    "            s[6] = code_dic[s[7]]\n",
    "            #print(s[6])\n",
    "            #break\n",
    "            \n",
    "        k = 0\n",
    "        for j in range(0,len(datas),3):\n",
    "            data = datas[j:j+2]\n",
    "            #print(date,traders[k],s[6],data)\n",
    "            temp = pd.DataFrame([date,traders[k],s[6]]+data).T\n",
    "            temp.columns=['date','trader','commodity','long','short']\n",
    "            pos_data = pd.concat([pos_data,temp],axis=0)\n",
    "            k += 1\n",
    "\n",
    "    print(str(i)+'/'+str(len(tuesdays)))\n",
    "    #clear_output(True)\n",
    "    i += 1\n",
    "    \n",
    "print('終わりました')"
   ]
  },
  {
   "cell_type": "code",
   "execution_count": 16,
   "id": "2f84be14-f479-4e6f-90dd-f357900870f3",
   "metadata": {},
   "outputs": [
    {
     "data": {
      "text/plain": [
       "[]"
      ]
     },
     "execution_count": 16,
     "metadata": {},
     "output_type": "execute_result"
    }
   ],
   "source": [
    "missed"
   ]
  },
  {
   "cell_type": "code",
   "execution_count": 17,
   "id": "14212ede-c4fb-4662-a044-fb90c1198772",
   "metadata": {},
   "outputs": [
    {
     "data": {
      "text/html": [
       "<div>\n",
       "<style scoped>\n",
       "    .dataframe tbody tr th:only-of-type {\n",
       "        vertical-align: middle;\n",
       "    }\n",
       "\n",
       "    .dataframe tbody tr th {\n",
       "        vertical-align: top;\n",
       "    }\n",
       "\n",
       "    .dataframe thead th {\n",
       "        text-align: right;\n",
       "    }\n",
       "</style>\n",
       "<table border=\"1\" class=\"dataframe\">\n",
       "  <thead>\n",
       "    <tr style=\"text-align: right;\">\n",
       "      <th></th>\n",
       "      <th>date</th>\n",
       "      <th>trader</th>\n",
       "      <th>commodity</th>\n",
       "      <th>long</th>\n",
       "      <th>short</th>\n",
       "    </tr>\n",
       "  </thead>\n",
       "  <tbody>\n",
       "    <tr>\n",
       "      <th>85960</th>\n",
       "      <td>20240820</td>\n",
       "      <td>Dealer</td>\n",
       "      <td>VIX FUTURES - CBOE FUTURES EXCHANGE   ($1000 X...</td>\n",
       "      <td>56486</td>\n",
       "      <td>27035</td>\n",
       "    </tr>\n",
       "    <tr>\n",
       "      <th>85961</th>\n",
       "      <td>20240820</td>\n",
       "      <td>AssetManager</td>\n",
       "      <td>VIX FUTURES - CBOE FUTURES EXCHANGE   ($1000 X...</td>\n",
       "      <td>34139</td>\n",
       "      <td>55690</td>\n",
       "    </tr>\n",
       "    <tr>\n",
       "      <th>85962</th>\n",
       "      <td>20240820</td>\n",
       "      <td>LeveragedFunds</td>\n",
       "      <td>VIX FUTURES - CBOE FUTURES EXCHANGE   ($1000 X...</td>\n",
       "      <td>63984</td>\n",
       "      <td>88786</td>\n",
       "    </tr>\n",
       "    <tr>\n",
       "      <th>85963</th>\n",
       "      <td>20240820</td>\n",
       "      <td>Other</td>\n",
       "      <td>VIX FUTURES - CBOE FUTURES EXCHANGE   ($1000 X...</td>\n",
       "      <td>15395</td>\n",
       "      <td>1554</td>\n",
       "    </tr>\n",
       "    <tr>\n",
       "      <th>85964</th>\n",
       "      <td>20240820</td>\n",
       "      <td>NonRep</td>\n",
       "      <td>VIX FUTURES - CBOE FUTURES EXCHANGE   ($1000 X...</td>\n",
       "      <td>32701</td>\n",
       "      <td>29640</td>\n",
       "    </tr>\n",
       "  </tbody>\n",
       "</table>\n",
       "</div>"
      ],
      "text/plain": [
       "           date          trader  \\\n",
       "85960  20240820          Dealer   \n",
       "85961  20240820    AssetManager   \n",
       "85962  20240820  LeveragedFunds   \n",
       "85963  20240820           Other   \n",
       "85964  20240820          NonRep   \n",
       "\n",
       "                                               commodity   long  short  \n",
       "85960  VIX FUTURES - CBOE FUTURES EXCHANGE   ($1000 X...  56486  27035  \n",
       "85961  VIX FUTURES - CBOE FUTURES EXCHANGE   ($1000 X...  34139  55690  \n",
       "85962  VIX FUTURES - CBOE FUTURES EXCHANGE   ($1000 X...  63984  88786  \n",
       "85963  VIX FUTURES - CBOE FUTURES EXCHANGE   ($1000 X...  15395   1554  \n",
       "85964  VIX FUTURES - CBOE FUTURES EXCHANGE   ($1000 X...  32701  29640  "
      ]
     },
     "execution_count": 17,
     "metadata": {},
     "output_type": "execute_result"
    }
   ],
   "source": [
    "#pos_data[pos_data['date']==20221004]\n",
    "pos_data = pos_data.reset_index(drop=True)\n",
    "pos_data.tail()"
   ]
  },
  {
   "cell_type": "code",
   "execution_count": 18,
   "id": "f89b8474-afb8-41ce-bbf9-8de1d650b9d6",
   "metadata": {},
   "outputs": [],
   "source": [
    "pos_data.to_excel('cftc先物ポジション_current.xlsx')"
   ]
  },
  {
   "cell_type": "markdown",
   "id": "ffb54f34-495a-429a-94d2-94814f561072",
   "metadata": {},
   "source": [
    "### データベースの構築用"
   ]
  },
  {
   "cell_type": "code",
   "execution_count": 15,
   "id": "a7f3bbb1-f12e-4f66-a6d7-218d0ae64a87",
   "metadata": {},
   "outputs": [],
   "source": [
    "\n",
    "def find_first_tuesday(year):\n",
    "    # その年の1月1日\n",
    "    date = datetime(year, 1, 1)\n",
    "    # 1月1日が火曜日になるまで日付を進める\n",
    "    while date.weekday() != 1:\n",
    "        date += timedelta(days=1)\n",
    "    return date\n",
    "\n",
    "def find_tuesdays(start_year, end_year):\n",
    "    tuesdays = []\n",
    "    # 最初の火曜日を見つける\n",
    "    date = find_first_tuesday(start_year)\n",
    "\n",
    "    while True:\n",
    "        if date.year == end_year + 1:\n",
    "            break\n",
    "        # 残りの火曜日を見つける\n",
    "        tuesdays.append(date.strftime('%Y%m%d'))\n",
    "        date += timedelta(days=7)  # 次の火曜日\n",
    "\n",
    "    return tuesdays"
   ]
  },
  {
   "cell_type": "code",
   "execution_count": 16,
   "id": "5630713b-d344-4645-a1b5-fdd0b2bf1257",
   "metadata": {},
   "outputs": [],
   "source": [
    "def find_yen(arg_list):\n",
    "    key1 = 'JAPANESE YEN - CHICAGO MERCANTILE EXCHANGE                           Code-097741'\n",
    "    for i in range(len(arg_list)):\n",
    "        text = arg_list[i]\n",
    "        if text == key1:\n",
    "            data = [s for s in arg_list[i+9].split(' ') if not s == '']\n",
    "            return [int(data[0].replace(',','')),int(data[1].replace(',','')),int(data[0].replace(',','')) - int(data[1].replace(',',''))]\n",
    "        else:\n",
    "            pass"
   ]
  },
  {
   "cell_type": "code",
   "execution_count": 17,
   "id": "4c471802-136e-4cf6-a195-0605a69db67c",
   "metadata": {},
   "outputs": [],
   "source": [
    "\n",
    "# 関数を実行するための年を指定\n",
    "start_year = 2018\n",
    "end_year = 2024\n",
    "\n",
    "# 結果を取得\n",
    "tuesdays = find_tuesdays(start_year, end_year)\n",
    "\n",
    "today = datetime.today().year"
   ]
  },
  {
   "cell_type": "code",
   "execution_count": 18,
   "id": "b4f36499-5807-4123-8dc3-52dffcf8576c",
   "metadata": {},
   "outputs": [],
   "source": [
    "#tuesdays = ['20240220','20240227']"
   ]
  },
  {
   "cell_type": "markdown",
   "id": "5abee9b1-d083-4387-aa79-2afdaece4f8d",
   "metadata": {},
   "source": [
    "https://www.cftc.gov/sites/default/files/files/dea/cotarchives/2022/futures/financial_lf052422.htm"
   ]
  },
  {
   "cell_type": "code",
   "execution_count": 19,
   "id": "ad8e5fbc-b869-4be5-9d85-4be746538d77",
   "metadata": {},
   "outputs": [],
   "source": [
    "#tuesdays = ['20240220']\n",
    "missed = ['20181225','20190101','20191224','20201222','20230704'] # 本来の火曜日\n",
    "adj =  ['20181224','20181231','20191230','20201221','20230703'] # CFTCに登録された日付\n",
    "tuesdays = [adj[missed.index(tuesdays[i])] if tuesdays[i] in missed else tuesdays[i] for i in range(len(tuesdays))]\n",
    "tuesdays = sorted(tuesdays) # 登録ベースの火曜日"
   ]
  },
  {
   "cell_type": "code",
   "execution_count": 25,
   "id": "9be59021-5b91-4045-bb7c-6a5d2d56b8dd",
   "metadata": {},
   "outputs": [
    {
     "data": {
      "text/plain": [
       "['20241210', '20241217', '20241224', '20241231']"
      ]
     },
     "execution_count": 25,
     "metadata": {},
     "output_type": "execute_result"
    }
   ],
   "source": [
    "tuesdays[-4:]"
   ]
  },
  {
   "cell_type": "code",
   "execution_count": 37,
   "id": "7259bccf-b0d6-453a-9b38-e02cce23cf56",
   "metadata": {},
   "outputs": [
    {
     "data": {
      "text/plain": [
       "datetime.datetime(2024, 8, 17, 8, 56, 0, 764853)"
      ]
     },
     "execution_count": 37,
     "metadata": {},
     "output_type": "execute_result"
    }
   ],
   "source": [
    "datetime.today()+timedelta(days = 5-datetime.today().weekday())"
   ]
  },
  {
   "cell_type": "code",
   "execution_count": 39,
   "id": "5ce5d198-a9de-4767-a25c-8fd47769ef8c",
   "metadata": {},
   "outputs": [
    {
     "data": {
      "text/plain": [
       "['20240716', '20240723', '20240730', '20240806']"
      ]
     },
     "execution_count": 39,
     "metadata": {},
     "output_type": "execute_result"
    }
   ],
   "source": [
    "temp = [s for s in tuesdays if datetime.today() > datetime.strptime(s,'%Y%m%d')+timedelta(days = 6 - datetime.today().weekday())]\n",
    "temp[-4:]"
   ]
  },
  {
   "cell_type": "code",
   "execution_count": 20,
   "id": "ffd6c2fd-ef4c-427d-be92-1ca0a79621c3",
   "metadata": {},
   "outputs": [
    {
     "data": {
      "text/plain": [
       "[]"
      ]
     },
     "execution_count": 20,
     "metadata": {},
     "output_type": "execute_result"
    }
   ],
   "source": [
    "[print(s) for s in missed if s in tuesdays]"
   ]
  },
  {
   "cell_type": "code",
   "execution_count": 40,
   "id": "31540400-9636-4508-b234-653ff2b96439",
   "metadata": {},
   "outputs": [
    {
     "name": "stdout",
     "output_type": "stream",
     "text": [
      "公表済みの処理は終わりました。\n",
      "終わりました\n"
     ]
    }
   ],
   "source": [
    "pos_data = pd.DataFrame(columns=['date','trader','commodity','long','short'])\n",
    "code_dic = {\"a\":\"\"}\n",
    "i = 1\n",
    "for date in tuesdays:\n",
    "    if datetime.today() <= datetime.strptime(date,'%Y%m%d')+timedelta(days = 6 - datetime.today().weekday()):\n",
    "        print('公表済みの処理は終わりました。')\n",
    "        break\n",
    "    yyyy = date[:4]\n",
    "    url = \"https://www.cftc.gov/sites/default/files/files/dea/cotarchives/\"\n",
    "    url += yyyy+\"/futures/financial_lf\"+date[-4:]+yyyy[-2:]+\".htm\"\n",
    "    \n",
    "    texts = requests.get(url).text\n",
    "    pattern = r'<!--ih:includeHTML file=\"financiallf.txt\"-->([^\"]+)<!--/ih:includeHTML-->'\n",
    "    texts = re.findall(pattern, texts)[0]\n",
    "    texts = texts.split('\\r\\n')\n",
    "    texts = [s for s in texts if (s != '')&(s != ' ')]\n",
    "\n",
    "    pos = [item for i, element in enumerate(texts) if 'Traders in Financial Futures' in element for item in ((i-1, i) if i > 0 else (i,))]\n",
    "    #print(pos)\n",
    "    nested_list = [texts[pos[i]:pos[i+1]] for i in range(0,len(pos)-1,2)]\n",
    "    #[print(s[9]) for s in nested_list]\n",
    "    for s in nested_list:\n",
    "        datas = [int(ss) for ss in s[9].replace(',','').split(' ') if not ss == '']\n",
    "        #print(datas)\n",
    "        traders = ['Dealer','AssetManager','LeveragedFunds','Other','NonRep']\n",
    "\n",
    "        if (not s[6].startswith(' '))&(s[7].split('  ')[0] not in list(code_dic.keys())):\n",
    "            code_dic[s[7].split('  ')[0]]=s[6]\n",
    "        elif (s[6].startswith(' '))&(s[7].split('  ')[0] in list(code_dic.keys())):\n",
    "            s[6] = code_dic[s[7].split('  ')[0]]\n",
    "        k = 0\n",
    "        for j in range(0,len(datas),3):\n",
    "            data = datas[j:j+2]\n",
    "            #print(date,traders[k],s[6],data)\n",
    "\n",
    "            # 登録ベースを本来の日付に変更\n",
    "            if date in adj:\n",
    "                date = missed[adj.index(date)]\n",
    "                \n",
    "            temp = pd.DataFrame([date,traders[k],s[6]]+data).T\n",
    "            temp.columns=['date','trader','commodity','long','short']\n",
    "            pos_data = pd.concat([pos_data,temp],axis=0)\n",
    "            k += 1\n",
    "\n",
    "    print(str(i)+'/'+str(len(tuesdays)))\n",
    "    clear_output(True)\n",
    "    i += 1\n",
    "print('終わりました')"
   ]
  },
  {
   "cell_type": "code",
   "execution_count": 41,
   "id": "73320d58-0278-4978-8517-b4b3aca7b06b",
   "metadata": {},
   "outputs": [
    {
     "data": {
      "text/html": [
       "<div>\n",
       "<style scoped>\n",
       "    .dataframe tbody tr th:only-of-type {\n",
       "        vertical-align: middle;\n",
       "    }\n",
       "\n",
       "    .dataframe tbody tr th {\n",
       "        vertical-align: top;\n",
       "    }\n",
       "\n",
       "    .dataframe thead th {\n",
       "        text-align: right;\n",
       "    }\n",
       "</style>\n",
       "<table border=\"1\" class=\"dataframe\">\n",
       "  <thead>\n",
       "    <tr style=\"text-align: right;\">\n",
       "      <th></th>\n",
       "      <th>date</th>\n",
       "      <th>trader</th>\n",
       "      <th>commodity</th>\n",
       "      <th>long</th>\n",
       "      <th>short</th>\n",
       "    </tr>\n",
       "  </thead>\n",
       "  <tbody>\n",
       "    <tr>\n",
       "      <th>0</th>\n",
       "      <td>20240806</td>\n",
       "      <td>Dealer</td>\n",
       "      <td>VIX FUTURES - CBOE FUTURES EXCHANGE   ($1000 X...</td>\n",
       "      <td>116832</td>\n",
       "      <td>49207</td>\n",
       "    </tr>\n",
       "    <tr>\n",
       "      <th>0</th>\n",
       "      <td>20240806</td>\n",
       "      <td>AssetManager</td>\n",
       "      <td>VIX FUTURES - CBOE FUTURES EXCHANGE   ($1000 X...</td>\n",
       "      <td>48231</td>\n",
       "      <td>46293</td>\n",
       "    </tr>\n",
       "    <tr>\n",
       "      <th>0</th>\n",
       "      <td>20240806</td>\n",
       "      <td>LeveragedFunds</td>\n",
       "      <td>VIX FUTURES - CBOE FUTURES EXCHANGE   ($1000 X...</td>\n",
       "      <td>66894</td>\n",
       "      <td>137437</td>\n",
       "    </tr>\n",
       "    <tr>\n",
       "      <th>0</th>\n",
       "      <td>20240806</td>\n",
       "      <td>Other</td>\n",
       "      <td>VIX FUTURES - CBOE FUTURES EXCHANGE   ($1000 X...</td>\n",
       "      <td>20027</td>\n",
       "      <td>6745</td>\n",
       "    </tr>\n",
       "    <tr>\n",
       "      <th>0</th>\n",
       "      <td>20240806</td>\n",
       "      <td>NonRep</td>\n",
       "      <td>VIX FUTURES - CBOE FUTURES EXCHANGE   ($1000 X...</td>\n",
       "      <td>28694</td>\n",
       "      <td>40996</td>\n",
       "    </tr>\n",
       "  </tbody>\n",
       "</table>\n",
       "</div>"
      ],
      "text/plain": [
       "       date          trader  \\\n",
       "0  20240806          Dealer   \n",
       "0  20240806    AssetManager   \n",
       "0  20240806  LeveragedFunds   \n",
       "0  20240806           Other   \n",
       "0  20240806          NonRep   \n",
       "\n",
       "                                           commodity    long   short  \n",
       "0  VIX FUTURES - CBOE FUTURES EXCHANGE   ($1000 X...  116832   49207  \n",
       "0  VIX FUTURES - CBOE FUTURES EXCHANGE   ($1000 X...   48231   46293  \n",
       "0  VIX FUTURES - CBOE FUTURES EXCHANGE   ($1000 X...   66894  137437  \n",
       "0  VIX FUTURES - CBOE FUTURES EXCHANGE   ($1000 X...   20027    6745  \n",
       "0  VIX FUTURES - CBOE FUTURES EXCHANGE   ($1000 X...   28694   40996  "
      ]
     },
     "execution_count": 41,
     "metadata": {},
     "output_type": "execute_result"
    }
   ],
   "source": [
    "pos_data.tail()"
   ]
  },
  {
   "cell_type": "code",
   "execution_count": 42,
   "id": "c1e319b7-0cfa-4b1b-9a2f-b1fc00e68a77",
   "metadata": {},
   "outputs": [
    {
     "data": {
      "text/html": [
       "<div>\n",
       "<style scoped>\n",
       "    .dataframe tbody tr th:only-of-type {\n",
       "        vertical-align: middle;\n",
       "    }\n",
       "\n",
       "    .dataframe tbody tr th {\n",
       "        vertical-align: top;\n",
       "    }\n",
       "\n",
       "    .dataframe thead th {\n",
       "        text-align: right;\n",
       "    }\n",
       "</style>\n",
       "<table border=\"1\" class=\"dataframe\">\n",
       "  <thead>\n",
       "    <tr style=\"text-align: right;\">\n",
       "      <th></th>\n",
       "      <th>date</th>\n",
       "      <th>trader</th>\n",
       "      <th>commodity</th>\n",
       "      <th>long</th>\n",
       "      <th>short</th>\n",
       "    </tr>\n",
       "  </thead>\n",
       "  <tbody>\n",
       "    <tr>\n",
       "      <th>0</th>\n",
       "      <td>20180102</td>\n",
       "      <td>Dealer</td>\n",
       "      <td>CANADIAN DOLLAR - CHICAGO MERCANTILE EXCHANGE ...</td>\n",
       "      <td>3592</td>\n",
       "      <td>56761</td>\n",
       "    </tr>\n",
       "    <tr>\n",
       "      <th>0</th>\n",
       "      <td>20180102</td>\n",
       "      <td>AssetManager</td>\n",
       "      <td>CANADIAN DOLLAR - CHICAGO MERCANTILE EXCHANGE ...</td>\n",
       "      <td>42615</td>\n",
       "      <td>9406</td>\n",
       "    </tr>\n",
       "    <tr>\n",
       "      <th>0</th>\n",
       "      <td>20180102</td>\n",
       "      <td>LeveragedFunds</td>\n",
       "      <td>CANADIAN DOLLAR - CHICAGO MERCANTILE EXCHANGE ...</td>\n",
       "      <td>32395</td>\n",
       "      <td>32533</td>\n",
       "    </tr>\n",
       "    <tr>\n",
       "      <th>0</th>\n",
       "      <td>20180102</td>\n",
       "      <td>Other</td>\n",
       "      <td>CANADIAN DOLLAR - CHICAGO MERCANTILE EXCHANGE ...</td>\n",
       "      <td>5713</td>\n",
       "      <td>1758</td>\n",
       "    </tr>\n",
       "    <tr>\n",
       "      <th>0</th>\n",
       "      <td>20180102</td>\n",
       "      <td>NonRep</td>\n",
       "      <td>CANADIAN DOLLAR - CHICAGO MERCANTILE EXCHANGE ...</td>\n",
       "      <td>35774</td>\n",
       "      <td>19631</td>\n",
       "    </tr>\n",
       "  </tbody>\n",
       "</table>\n",
       "</div>"
      ],
      "text/plain": [
       "       date          trader  \\\n",
       "0  20180102          Dealer   \n",
       "0  20180102    AssetManager   \n",
       "0  20180102  LeveragedFunds   \n",
       "0  20180102           Other   \n",
       "0  20180102          NonRep   \n",
       "\n",
       "                                           commodity   long  short  \n",
       "0  CANADIAN DOLLAR - CHICAGO MERCANTILE EXCHANGE ...   3592  56761  \n",
       "0  CANADIAN DOLLAR - CHICAGO MERCANTILE EXCHANGE ...  42615   9406  \n",
       "0  CANADIAN DOLLAR - CHICAGO MERCANTILE EXCHANGE ...  32395  32533  \n",
       "0  CANADIAN DOLLAR - CHICAGO MERCANTILE EXCHANGE ...   5713   1758  \n",
       "0  CANADIAN DOLLAR - CHICAGO MERCANTILE EXCHANGE ...  35774  19631  "
      ]
     },
     "execution_count": 42,
     "metadata": {},
     "output_type": "execute_result"
    }
   ],
   "source": [
    "pos_data.head()"
   ]
  },
  {
   "cell_type": "code",
   "execution_count": 43,
   "id": "b4985ff5-da56-4583-8dc7-d686418c0cd9",
   "metadata": {},
   "outputs": [
    {
     "data": {
      "text/plain": [
       "date         object\n",
       "trader       object\n",
       "commodity    object\n",
       "long         object\n",
       "short        object\n",
       "dtype: object"
      ]
     },
     "execution_count": 43,
     "metadata": {},
     "output_type": "execute_result"
    }
   ],
   "source": [
    "pos_data.dtypes"
   ]
  },
  {
   "cell_type": "code",
   "execution_count": 44,
   "id": "72b46a1c-a981-4c6f-a8be-6f072ebb64c8",
   "metadata": {},
   "outputs": [
    {
     "data": {
      "text/plain": [
       "date         object\n",
       "trader       object\n",
       "commodity    object\n",
       "long          int64\n",
       "short         int64\n",
       "dtype: object"
      ]
     },
     "execution_count": 44,
     "metadata": {},
     "output_type": "execute_result"
    }
   ],
   "source": [
    "pos_data['date']=pos_data['date'].astype('str')\n",
    "pos_data['trader']=pos_data['trader'].astype('str')\n",
    "pos_data['commodity']=pos_data['commodity'].astype('str')\n",
    "pos_data['long']=pos_data['long'].astype('int')\n",
    "pos_data['short']=pos_data['short'].astype('int')\n",
    "pos_data.dtypes"
   ]
  },
  {
   "cell_type": "code",
   "execution_count": 45,
   "id": "d3df94c2-3c88-4d5e-a3c2-511fbfae1654",
   "metadata": {},
   "outputs": [
    {
     "data": {
      "text/plain": [
       "True"
      ]
     },
     "execution_count": 45,
     "metadata": {},
     "output_type": "execute_result"
    }
   ],
   "source": [
    "# チェック\n",
    "temp = list(set(pos_data['date'].tolist()))\n",
    "chk = [temp[i] for i in range(len(temp)) if temp[i] not in tuesdays]\n",
    "missed == sorted(list(set(chk)))"
   ]
  },
  {
   "cell_type": "code",
   "execution_count": 46,
   "id": "c6aa3945-89d0-4464-8468-35191b5948a4",
   "metadata": {},
   "outputs": [],
   "source": [
    "pos_data = pos_data.sort_values('date')\n",
    "pos_data.to_excel('cftc先物ポジション_current.xlsx')"
   ]
  },
  {
   "cell_type": "code",
   "execution_count": 47,
   "id": "34eb51dd-9ebe-47f9-a2d4-f819b28fb2e8",
   "metadata": {},
   "outputs": [],
   "source": [
    "import pickle\n",
    "\n",
    "with open('code_dic.pkl',mode='wb') as f:\n",
    "    pickle.dump(code_dic,f)"
   ]
  },
  {
   "cell_type": "markdown",
   "id": "270504fe-73a9-4ede-ad78-0557f82d5fca",
   "metadata": {},
   "source": [
    "#### ここまで"
   ]
  },
  {
   "cell_type": "code",
   "execution_count": null,
   "id": "36aa5d03-2623-4ebf-b8bb-f6b588e09cdf",
   "metadata": {},
   "outputs": [],
   "source": [
    "missed2 = []\n",
    "i = 1\n",
    "for date in adj:\n",
    "    if datetime.today() < datetime.strptime(date,'%Y%m%d'):\n",
    "        break\n",
    "    yyyy = date[:4]\n",
    "    url = \"https://www.cftc.gov/sites/default/files/files/dea/cotarchives/\"\n",
    "    url += yyyy+\"/futures/financial_lf\"+date[-4:]+yyyy[-2:]+\".htm\"\n",
    "    try:\n",
    "        texts = requests.get(url).text\n",
    "        pattern = r'<!--ih:includeHTML file=\"financiallf.txt\"-->([^\"]+)<!--/ih:includeHTML-->'\n",
    "        texts = re.findall(pattern, texts)[0]\n",
    "        texts = texts.split('\\r\\n')\n",
    "        texts = [s for s in texts if (s != '')&(s != ' ')]\n",
    "        pos = [item for i, element in enumerate(texts) if 'Traders in Financial Futures' in element for item in ((i-1, i) if i > 0 else (i,))]\n",
    "        #print(pos)\n",
    "        nested_list = [texts[pos[i]:pos[i+1]] for i in range(0,len(pos)-1,2)]\n",
    "        #[print(s[9]) for s in nested_list]\n",
    "        for s in nested_list:\n",
    "            datas = [int(ss) for ss in s[9].replace(',','').split(' ') if not ss == '']\n",
    "            #print(datas)\n",
    "            traders = ['Dealer','AssetManager','LeveragedFunds','Other','NonRep']\n",
    "            k = 0\n",
    "            for j in range(0,len(datas),3):\n",
    "                data = datas[j:j+2]\n",
    "                #print(date,traders[k],s[6],data)\n",
    "                temp = pd.DataFrame([date,traders[k],s[6]]+data).T\n",
    "                temp.columns=['date','trader','commodity','long','short']\n",
    "                pos_data = pd.concat([pos_data,temp],axis=0)\n",
    "                k += 1\n",
    "    except:\n",
    "        print(date)\n",
    "        missed2 += [date]\n",
    "        pass\n",
    "    print(str(i)+'/'+str(len(adj)))\n",
    "    clear_output(True)\n",
    "    i += 1\n",
    "print('終わりました')"
   ]
  },
  {
   "cell_type": "code",
   "execution_count": null,
   "id": "ffeb3087-8f84-4a7b-b530-b134f43f952f",
   "metadata": {},
   "outputs": [],
   "source": [
    "pos_data = pos_data.sort_values('date')"
   ]
  },
  {
   "cell_type": "code",
   "execution_count": null,
   "id": "9cca2366-3b50-4273-948d-0f5435eb5b5a",
   "metadata": {},
   "outputs": [],
   "source": [
    "pos_data.to_excel('cftc先物ポジション_current.xlsx')"
   ]
  },
  {
   "cell_type": "markdown",
   "id": "adeda722-39ee-4d8d-94df-ffb61cfd060a",
   "metadata": {},
   "source": [
    "#### ここまで"
   ]
  },
  {
   "cell_type": "code",
   "execution_count": null,
   "id": "92a771d5-62cf-49fd-82e1-516ba4833326",
   "metadata": {},
   "outputs": [],
   "source": [
    "missed2 = []\n",
    "i = 1\n",
    "for date in ['20220517','20220524']:\n",
    "    if datetime.today() < datetime.strptime(date,'%Y%m%d'):\n",
    "        break\n",
    "    yyyy = date[:4]\n",
    "    url = \"https://www.cftc.gov/sites/default/files/files/dea/cotarchives/\"\n",
    "    url += yyyy+\"/futures/deacmesf\"+date[-4:]+yyyy[-2:]+\".htm\"\n",
    "    #try:\n",
    "    texts = requests.get(url).text\n",
    "    pattern = r'<!--ih:includeHTML file=\"deacmesf.txt\"-->([^\"]+)<!--/ih:includeHTML-->'\n",
    "    texts = re.findall(pattern, texts)[0]\n",
    "    texts = texts.split('\\r\\n')\n",
    "    texts = [s for s in texts if (s != '')&(s != ' ')]\n",
    "    if date == '20220517':\n",
    "        texts[0] ='USD Malaysian Crude Palm Oil C - CHICAGO MERCANTILE EXCHANGE         Code-037021'\n",
    "    pos = [item for i, element in enumerate(texts) if ' - CHICAGO' in element for item in ((i-1, i) if i > 0 else (i,))]\n",
    "        #print(pos)\n",
    "    nested_list = [texts[pos[i]:pos[i+1]] for i in range(0,len(pos)-1,2)]\n",
    "        #[print(s[9]) for s in nested_list]\n",
    "    for s in nested_list:\n",
    "        try:\n",
    "            temp = [int(s) for s in s[9].replace(',','').split(' ') if not s == ''][:2]\n",
    "        except:\n",
    "            print(s)\n",
    "            break\n",
    "            #print(temp)\n",
    "        temp = pd.DataFrame([date,s[0]]+temp).T\n",
    "        temp.columns=['date','commodity','long','short']\n",
    "        pos_data = pd.concat([pos_data,temp],axis=0)\n",
    "    #except:\n",
    "    #    print(date)\n",
    "    #    missed2 += [date]\n",
    "    #    pass\n",
    "    print(str(i)+'/'+str(len(tuesdays)))\n",
    "    #clear_output(True)\n",
    "    i += 1\n",
    "print('終わりました')"
   ]
  },
  {
   "cell_type": "code",
   "execution_count": null,
   "id": "e3d15c6d-e096-46a4-bec4-9809fc9484a6",
   "metadata": {},
   "outputs": [],
   "source": [
    "missed2"
   ]
  },
  {
   "cell_type": "code",
   "execution_count": null,
   "id": "e4ee7291-f564-4538-a180-5e10329a4054",
   "metadata": {},
   "outputs": [],
   "source": [
    "pos_data.to_excel('cftc通貨先物ポジション_円.xlsx')"
   ]
  },
  {
   "cell_type": "markdown",
   "id": "165a5f84-7563-4a92-9838-897b28a8d797",
   "metadata": {},
   "source": [
    "## テスト用"
   ]
  },
  {
   "cell_type": "code",
   "execution_count": null,
   "id": "d9e1f055-49eb-4094-9c22-9a7b82ddaa08",
   "metadata": {},
   "outputs": [],
   "source": [
    "tuesdays = ['20240326']"
   ]
  },
  {
   "cell_type": "code",
   "execution_count": null,
   "id": "c7087b02-8ae4-4664-8ecd-b58f3fa93dc9",
   "metadata": {},
   "outputs": [],
   "source": [
    "#pos_data = pd.DataFrame(columns=['date','trader','commodity','long','short'])\n",
    "\n",
    "missed = []\n",
    "code_dic = {\"a\":\"\"}\n",
    "i = 1\n",
    "for date in tuesdays:\n",
    "    if datetime.today() < datetime.strptime(date,'%Y%m%d'):\n",
    "        print('future')\n",
    "        break\n",
    "    #date = '20240319'\n",
    "    yyyy = date[:4]\n",
    "    url = \"https://www.cftc.gov/sites/default/files/files/dea/cotarchives/\"\n",
    "    url += yyyy+\"/futures/financial_lf\"+date[-4:]+yyyy[-2:]+\".htm\"\n",
    "    \n",
    "    #url = 'https://www.cftc.gov/dea/futures/financial_lf.htm'\n",
    "    texts = requests.get(url).text\n",
    "    #print(texts)\n",
    "    pattern = r'<!--ih:includeHTML file=\"financiallf.txt\"-->([^\"]+)<!--/ih:includeHTML-->'\n",
    "    texts = re.findall(pattern, texts)[0].replace('$',' ')\n",
    "    texts = texts.split('\\r\\n')\n",
    "    texts = [s for s in texts if (s != '')&(s != ' ')]\n",
    "        #if date == '20220517':\n",
    "        #    texts[0] ='USD Malaysian Crude Palm Oil C - CHICAGO MERCANTILE EXCHANGE         Code-037021'\n",
    "\n",
    "    pos = [item for i, element in enumerate(texts) if 'Traders in Financial Futures' in element for item in ((i-1, i) if i > 0 else (i,))]\n",
    "        #print(pos)\n",
    "    nested_list = [texts[pos[i]:pos[i+1]] for i in range(0,len(pos)-1,2)]\n",
    "        #[print(s[9]) for s in nested_list]\n",
    "    \n",
    "    for s in nested_list:\n",
    "        datas = [int(ss) for ss in s[9].replace(',','').split(' ') if not ss == '']\n",
    "        #print(datas)\n",
    "        traders = ['Dealer','AssetManager','LeveragedFunds','Other','NonRep']\n",
    "\n",
    "        if (not s[6].startswith(' '))&(s[7].split('  ')[0] not in list(code_dic.keys())):\n",
    "            #print(s[7].split('  ')[0])\n",
    "            #print(s[6])\n",
    "            code_dic[s[7].split('  ')[0]]=s[6]\n",
    "        elif (s[6].startswith(' '))&(s[7].split('  ')[0] in list(code_dic.keys())):\n",
    "            s[6] = code_dic[s[7]]\n",
    "            #print(s[6])\n",
    "            #break\n",
    "        \n",
    "        k = 0\n",
    "        for j in range(0,len(datas),3):\n",
    "            data = datas[j:j+2]\n",
    "            #print(date,traders[k],s[6],data)\n",
    "            temp = pd.DataFrame([date,traders[k],s[6]]+data).T\n",
    "            temp.columns=['date','trader','commodity','long','short']\n",
    "            pos_data = pd.concat([pos_data,temp],axis=0)\n",
    "            k += 1\n",
    "    break\n",
    "    print(str(i)+'/'+str(len(tuesdays)))\n",
    "    clear_output(True)\n",
    "    i += 1\n",
    "print('終わりました')"
   ]
  },
  {
   "cell_type": "code",
   "execution_count": null,
   "id": "534036c8-35ce-492d-ae5c-cc490f7c7daa",
   "metadata": {},
   "outputs": [],
   "source": [
    "pos_data.shape"
   ]
  },
  {
   "cell_type": "code",
   "execution_count": null,
   "id": "261500f1-06b3-43cf-9036-be65b2372bfc",
   "metadata": {},
   "outputs": [],
   "source": [
    "pos_data.tail()"
   ]
  },
  {
   "cell_type": "code",
   "execution_count": null,
   "id": "7a56b4cc-9f36-4e65-a7e2-05a499ee79cf",
   "metadata": {},
   "outputs": [],
   "source": []
  }
 ],
 "metadata": {
  "kernelspec": {
   "display_name": "Python 3 (ipykernel)",
   "language": "python",
   "name": "python3"
  },
  "language_info": {
   "codemirror_mode": {
    "name": "ipython",
    "version": 3
   },
   "file_extension": ".py",
   "mimetype": "text/x-python",
   "name": "python",
   "nbconvert_exporter": "python",
   "pygments_lexer": "ipython3",
   "version": "3.8.18"
  }
 },
 "nbformat": 4,
 "nbformat_minor": 5
}
