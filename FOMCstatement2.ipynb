{
 "cells": [
  {
   "cell_type": "code",
   "execution_count": 1,
   "id": "bee10b28-3eb5-45f9-9072-086a81cf48d7",
   "metadata": {},
   "outputs": [],
   "source": [
    "import time\n",
    "import warnings\n",
    "warnings.simplefilter(\"ignore\")"
   ]
  },
  {
   "cell_type": "code",
   "execution_count": 2,
   "id": "5c1d9512-a4fa-42ab-ab44-3b65b21940f7",
   "metadata": {},
   "outputs": [],
   "source": [
    "import os\n",
    "os.environ[\"TOKENIZERS_PARALLELISM\"] = \"false\""
   ]
  },
  {
   "cell_type": "code",
   "execution_count": 3,
   "id": "2a835adc-c811-4679-8337-d67924fbf9b9",
   "metadata": {},
   "outputs": [],
   "source": [
    "from sentence_transformers import SentenceTransformer\n",
    "import faiss\n",
    "\n",
    "from sklearn.neighbors import NearestNeighbors\n",
    "\n",
    "from newspaper import Article\n",
    "from sklearn.cluster import KMeans\n",
    "import numpy as np\n",
    "#from wordcloud import WordCloud\n",
    "import matplotlib.pyplot as plt"
   ]
  },
  {
   "cell_type": "code",
   "execution_count": 4,
   "id": "f6a1a95d-74b9-4e21-8ead-41de048c6696",
   "metadata": {},
   "outputs": [],
   "source": [
    "import re"
   ]
  },
  {
   "cell_type": "code",
   "execution_count": 5,
   "id": "08014ebc-2320-4746-9025-9c780b01807c",
   "metadata": {},
   "outputs": [],
   "source": [
    "#import markdown"
   ]
  },
  {
   "cell_type": "code",
   "execution_count": 6,
   "id": "8ef783b6-7911-4427-bf9e-a8d4cfce9b24",
   "metadata": {},
   "outputs": [],
   "source": [
    "from collections import defaultdict"
   ]
  },
  {
   "cell_type": "markdown",
   "id": "f44a5838-3a64-478b-b3ba-785751f37adc",
   "metadata": {},
   "source": [
    "# sentence-transformersのモデルを選択"
   ]
  },
  {
   "cell_type": "code",
   "execution_count": 7,
   "id": "7d97cf3c-5e6f-482a-a9d9-a838fecc5283",
   "metadata": {},
   "outputs": [],
   "source": [
    " \n",
    "model = SentenceTransformer('sentence-transformers/distiluse-base-multilingual-cased-v2')"
   ]
  },
  {
   "cell_type": "markdown",
   "id": "ecd311b1-8d86-4c58-937f-c5427ee58297",
   "metadata": {},
   "source": [
    "### これより上のセルは事前に読み込んでおく"
   ]
  },
  {
   "cell_type": "code",
   "execution_count": 8,
   "id": "d427510a-5f23-41df-a92c-142321aa880f",
   "metadata": {},
   "outputs": [],
   "source": [
    "def news_fetcher(arg_url):\n",
    "    article = Article(arg_url)\n",
    "    article.download()\n",
    "    article.parse()\n",
    "    return article.text"
   ]
  },
  {
   "cell_type": "code",
   "execution_count": 9,
   "id": "225a2abf-565d-430a-a8ab-2ad59bc113c3",
   "metadata": {},
   "outputs": [],
   "source": [
    "url_list000 = ['https://www.federalreserve.gov/newsevents/pressreleases/monetary20231101a.htm',\n",
    "            'https://www.federalreserve.gov/newsevents/pressreleases/monetary20231213a.htm',\n",
    "            'https://www.federalreserve.gov/newsevents/pressreleases/monetary20240131a.htm',\n",
    "            'https://www.federalreserve.gov/newsevents/pressreleases/monetary20240320a.htm',\n",
    "            'https://www.federalreserve.gov/newsevents/pressreleases/monetary20240501a.htm',\n",
    "            'https://www.federalreserve.gov/newsevents/pressreleases/monetary20240612a.htm',\n",
    "            'https://www.federalreserve.gov/newsevents/pressreleases/monetary20240731a.htm',\n",
    "            'https://www.federalreserve.gov/newsevents/pressreleases/monetary20240918a.htm',\n",
    "            'https://www.federalreserve.gov/newsevents/pressreleases/monetary20241107a.htm',\n",
    "            'https://www.federalreserve.gov/newsevents/pressreleases/monetary20241218a.htm',\n",
    "            'https://www.federalreserve.gov/newsevents/pressreleases/monetary20250129a.htm',\n",
    "            'https://www.federalreserve.gov/newsevents/pressreleases/monetary20250319a.htm',\n",
    "            'https://www.federalreserve.gov/newsevents/pressreleases/monetary20250507a.htm',\n",
    "            'https://www.federalreserve.gov/newsevents/pressreleases/monetary20250618a.htm'\n",
    "            ]\n",
    "\n",
    "#url_list = ['https://www.federalreserve.gov/newsevents/pressreleases/monetary20190130a.htm',\n",
    "#            'https://www.federalreserve.gov/newsevents/pressreleases/monetary20190320a.htm']\n"
   ]
  },
  {
   "cell_type": "code",
   "execution_count": 10,
   "id": "7fbb9049-3098-4be3-bcd1-2cc95f3868c2",
   "metadata": {},
   "outputs": [
    {
     "data": {
      "text/plain": [
       "['https://www.federalreserve.gov/newsevents/pressreleases/monetary20250507a.htm',\n",
       " 'https://www.federalreserve.gov/newsevents/pressreleases/monetary20250618a.htm']"
      ]
     },
     "execution_count": 10,
     "metadata": {},
     "output_type": "execute_result"
    }
   ],
   "source": [
    "url_list=url_list000[-2:]\n",
    "url_list"
   ]
  },
  {
   "cell_type": "markdown",
   "id": "11020ea2-3dcd-4cdb-ac88-d3029076378c",
   "metadata": {},
   "source": [
    "### FOMC当日　14:00"
   ]
  },
  {
   "cell_type": "code",
   "execution_count": 11,
   "id": "97515315-78d9-47d5-8750-0d77a233b9e6",
   "metadata": {},
   "outputs": [],
   "source": [
    "start = time.time()"
   ]
  },
  {
   "cell_type": "code",
   "execution_count": 12,
   "id": "42827b95-14c2-42d9-84d5-6c738ed78a5c",
   "metadata": {},
   "outputs": [],
   "source": [
    "notes = []\n",
    "for url in url_list:\n",
    "    txt = news_fetcher(url)\n",
    "        \n",
    "    txt = txt.replace('Voting for','***Voting for').split('***')\n",
    "    txt[1] = txt[1].replace('.',' ')\n",
    "    txt = txt[0]+txt[1]\n",
    "    \n",
    "    txt = re.sub(r'\\n+','\\n',txt)\n",
    "    txt = txt.replace('U.S.','US').replace('.\\n','.****').replace('\\n','****').replace('. ','.****').split('****')\n",
    "    txt = [s for s in txt if not s == '']\n",
    "    notes += [txt]"
   ]
  },
  {
   "cell_type": "code",
   "execution_count": 13,
   "id": "428dc81c-0115-4b0e-bda6-c55f79abaf8d",
   "metadata": {},
   "outputs": [],
   "source": [
    "old = notes[0]\n",
    "new = notes[1]"
   ]
  },
  {
   "cell_type": "code",
   "execution_count": 14,
   "id": "949b4a78-524a-4287-b08f-6fbc1522c076",
   "metadata": {},
   "outputs": [
    {
     "data": {
      "text/plain": [
       "['Although swings in net exports have affected the data, recent indicators suggest that economic activity has continued to expand at a solid pace.',\n",
       " 'The unemployment rate has stabilized at a low level in recent months, and labor market conditions remain solid.',\n",
       " 'Inflation remains somewhat elevated.',\n",
       " 'The Committee seeks to achieve maximum employment and inflation at the rate of 2 percent over the longer run.',\n",
       " 'Uncertainty about the economic outlook has increased further.',\n",
       " 'The Committee is attentive to the risks to both sides of its dual mandate and judges that the risks of higher unemployment and higher inflation have risen.',\n",
       " 'In support of its goals, the Committee decided to maintain the target range for the federal funds rate at 4-1/4 to 4-1/2 percent.',\n",
       " 'In considering the extent and timing of additional adjustments to the target range for the federal funds rate, the Committee will carefully assess incoming data, the evolving outlook, and the balance of risks.',\n",
       " 'The Committee will continue reducing its holdings of Treasury securities and agency debt and agency mortgage‑backed securities.',\n",
       " 'The Committee is strongly committed to supporting maximum employment and returning inflation to its 2 percent objective.',\n",
       " 'In assessing the appropriate stance of monetary policy, the Committee will continue to monitor the implications of incoming information for the economic outlook.',\n",
       " \"The Committee would be prepared to adjust the stance of monetary policy as appropriate if risks emerge that could impede the attainment of the Committee's goals.\",\n",
       " \"The Committee's assessments will take into account a wide range of information, including readings on labor market conditions, inflation pressures and inflation expectations, and financial and international developments.\",\n",
       " 'Voting for the monetary policy action were Jerome H  Powell, Chair; John C  Williams, Vice Chair; Michael S  Barr; Michelle W  Bowman; Susan M  Collins; Lisa D  Cook; Austan D  Goolsbee; Philip N  Jefferson; Neel Kashkari; Adriana D  Kugler; Alberto G  Musalem; and Christopher J  Waller  Neel Kashkari voted as an alternate member at this meeting ',\n",
       " 'For media inquiries, please email [email protected] or call 202-452-2955 ',\n",
       " 'Implementation Note issued May 7, 2025']"
      ]
     },
     "execution_count": 14,
     "metadata": {},
     "output_type": "execute_result"
    }
   ],
   "source": [
    "old"
   ]
  },
  {
   "cell_type": "code",
   "execution_count": 15,
   "id": "5bd44888-c62c-4e9a-940b-1bc6547d1941",
   "metadata": {},
   "outputs": [
    {
     "data": {
      "text/plain": [
       "['Although swings in net exports have affected the data, recent indicators suggest that economic activity has continued to expand at a solid pace.',\n",
       " 'The unemployment rate remains low, and labor market conditions remain solid.',\n",
       " 'Inflation remains somewhat elevated.',\n",
       " 'The Committee seeks to achieve maximum employment and inflation at the rate of 2 percent over the longer run.',\n",
       " 'Uncertainty about the economic outlook has diminished but remains elevated.',\n",
       " 'The Committee is attentive to the risks to both sides of its dual mandate.',\n",
       " 'In support of its goals, the Committee decided to maintain the target range for the federal funds rate at 4-1/4 to 4-1/2 percent.',\n",
       " 'In considering the extent and timing of additional adjustments to the target range for the federal funds rate, the Committee will carefully assess incoming data, the evolving outlook, and the balance of risks.',\n",
       " 'The Committee will continue reducing its holdings of Treasury securities and agency debt and agency mortgage‑backed securities.',\n",
       " 'The Committee is strongly committed to supporting maximum employment and returning inflation to its 2 percent objective.',\n",
       " 'In assessing the appropriate stance of monetary policy, the Committee will continue to monitor the implications of incoming information for the economic outlook.',\n",
       " \"The Committee would be prepared to adjust the stance of monetary policy as appropriate if risks emerge that could impede the attainment of the Committee's goals.\",\n",
       " \"The Committee's assessments will take into account a wide range of information, including readings on labor market conditions, inflation pressures and inflation expectations, and financial and international developments.\",\n",
       " 'Voting for the monetary policy action were Jerome H  Powell, Chair; John C  Williams, Vice Chair; Michael S  Barr; Michelle W  Bowman; Susan M  Collins; Lisa D  Cook; Austan D  Goolsbee; Philip N  Jefferson; Adriana D  Kugler; Alberto G  Musalem; Jeffrey R  Schmid; and Christopher J  Waller ',\n",
       " 'For media inquiries, please email [email protected] or call 202-452-2955 ',\n",
       " 'Implementation Note issued June 18, 2025']"
      ]
     },
     "execution_count": 15,
     "metadata": {},
     "output_type": "execute_result"
    }
   ],
   "source": [
    "new"
   ]
  },
  {
   "cell_type": "markdown",
   "id": "7e86ad78-767d-4c1b-9dc1-5d420e00ebad",
   "metadata": {},
   "source": [
    "# sentence-transformersを使用したベクトル化:\n",
    "sentence-transformersを使用して各文をベクトルに変換します。これにより、文の意味を考慮した表現が得られます。"
   ]
  },
  {
   "cell_type": "code",
   "execution_count": 16,
   "id": "e8c4e341-f0b2-4531-bf24-c308b118456c",
   "metadata": {},
   "outputs": [],
   "source": [
    "# ベクトル生成（旧文書）\n",
    "vectors = model.encode(old)\n",
    "vectors = np.array(vectors, dtype='float32')\n",
    "\n",
    "# インデックス化\n",
    "K = len(vectors)\n",
    "nn = NearestNeighbors(n_neighbors=K, metric='euclidean')  # または 'cosine'\n",
    "nn.fit(vectors)\n",
    "\n",
    "# 新文書ベクトル\n",
    "ref_vector = model.encode(new)\n",
    "ref_vector = np.array(ref_vector, dtype='float32')\n",
    "\n",
    "if ref_vector.ndim == 1:\n",
    "    ref_vector = ref_vector.reshape(1, -1)\n",
    "\n",
    "# 検索\n",
    "D, I = nn.kneighbors(ref_vector)"
   ]
  },
  {
   "cell_type": "code",
   "execution_count": 17,
   "id": "888a2474-6432-47f1-8273-1040c4e56ccc",
   "metadata": {},
   "outputs": [
    {
     "data": {
      "text/plain": [
       "(16, 16)"
      ]
     },
     "execution_count": 17,
     "metadata": {},
     "output_type": "execute_result"
    }
   ],
   "source": [
    "D.shape"
   ]
  },
  {
   "cell_type": "markdown",
   "id": "4c1752a5-b104-4a18-9032-43c6e3ec6024",
   "metadata": {},
   "source": [
    "# Faissによる検索"
   ]
  },
  {
   "cell_type": "code",
   "execution_count": 18,
   "id": "8e56afe2-a535-45d7-9786-36d4e5030e97",
   "metadata": {},
   "outputs": [],
   "source": [
    "# 前回の声明文\n",
    "#vectors = model.encode(old)\n",
    "#dim = len(vectors[0])"
   ]
  },
  {
   "cell_type": "code",
   "execution_count": 19,
   "id": "f0774006-45dd-4547-b806-6694cc395fd5",
   "metadata": {},
   "outputs": [],
   "source": [
    "# インデックス化\n",
    "#index = faiss.IndexFlatL2(dim)\n",
    "#index.add(vectors)\n",
    "#K = len(vectors)\n",
    "#K"
   ]
  },
  {
   "cell_type": "code",
   "execution_count": 20,
   "id": "41cbb550-7c39-491e-ab5b-6e9c45816802",
   "metadata": {},
   "outputs": [],
   "source": [
    "#今回の声明文\n",
    "#ref_vector = model.encode(new)\n",
    "\n",
    "# 必ずfloat32に変換\n",
    "#ref_vector = np.array(ref_vector, dtype='float32')\n",
    "\n",
    "\n",
    "#if ref_vector.ndim == 1:\n",
    "#    ref_vector = ref_vector.reshape(1, -1)\n",
    "\n",
    "#len(ref_vector)"
   ]
  },
  {
   "cell_type": "code",
   "execution_count": 21,
   "id": "fd3f21fc-82a2-464d-b6fc-935385433930",
   "metadata": {},
   "outputs": [],
   "source": [
    "#print(\"ref_vector.shape:\", ref_vector.shape)\n",
    "#print(\"ref_vector.dtype:\", ref_vector.dtype)\n",
    "#print(\"index.ntotal:\", index.ntotal)\n",
    "#print(\"K:\", K)"
   ]
  },
  {
   "cell_type": "code",
   "execution_count": 22,
   "id": "f152b450-e596-42ff-bc1c-562fc1a14849",
   "metadata": {},
   "outputs": [],
   "source": [
    "# Faissによる検索\n",
    "#D, I = index.search(ref_vector,K) # 行が新、列が旧\n",
    "#D.shape"
   ]
  },
  {
   "cell_type": "markdown",
   "id": "97ca4dfa-f259-4dbe-b21b-f5b7338c6826",
   "metadata": {},
   "source": [
    "### 最短近傍の重複がないことを確認"
   ]
  },
  {
   "cell_type": "code",
   "execution_count": 23,
   "id": "050350bc-82dd-4d74-bb98-bc014e98b5ad",
   "metadata": {},
   "outputs": [],
   "source": [
    "def find_duplicate_pairs(lst):\n",
    "    # 重複したペアのインデックスを格納するディクショナリ\n",
    "    duplicate_indexes = defaultdict(list)\n",
    "\n",
    "    # ペアをディクショナリに格納\n",
    "    pair_dict = defaultdict(list)\n",
    "    for i, value in enumerate(lst):\n",
    "        pair_dict[value].append(i)\n",
    "\n",
    "    # 重複したペアのインデックスを抽出\n",
    "    for key, indexes in pair_dict.items():\n",
    "        if len(indexes) > 1:\n",
    "            duplicate_indexes[key] = indexes\n",
    "\n",
    "    return duplicate_indexes"
   ]
  },
  {
   "cell_type": "code",
   "execution_count": 24,
   "id": "6f684a27-ded0-4d25-be9d-6760b6f2761c",
   "metadata": {},
   "outputs": [
    {
     "name": "stdout",
     "output_type": "stream",
     "text": [
      "defaultdict(<class 'list'>, {})\n"
     ]
    }
   ],
   "source": [
    "\n",
    "idx = I[:,0].tolist()\n",
    "\n",
    "chk = find_duplicate_pairs(idx)\n",
    "print(chk)\n",
    "\n",
    "if chk != {}:\n",
    "    for k,v in chk.items(): #k 重複している旧声明文の文番号、　lst 新声明文の文番号のリスト\n",
    "        for i in v:\n",
    "            idx[i]=''\n",
    "        win = np.argmin(D[v,0])\n",
    "        idx[v[win]]=k"
   ]
  },
  {
   "cell_type": "markdown",
   "id": "1f2dbf94-899b-4294-86e7-461a630bb412",
   "metadata": {},
   "source": [
    "### ペアになれなかった旧声明文の文番号"
   ]
  },
  {
   "cell_type": "code",
   "execution_count": 25,
   "id": "b1685d37-9a1e-4400-913d-081d44972d8e",
   "metadata": {},
   "outputs": [
    {
     "data": {
      "text/plain": [
       "[]"
      ]
     },
     "execution_count": 25,
     "metadata": {},
     "output_type": "execute_result"
    }
   ],
   "source": [
    "txt_remain = []\n",
    "chk = [s for s in idx if not s=='']\n",
    "for s in list(range(len(old))):\n",
    "    if s not in chk:\n",
    "        txt_remain += [s]\n",
    "txt_remain"
   ]
  },
  {
   "cell_type": "code",
   "execution_count": 26,
   "id": "2e2204d5-aa27-4072-bae8-328f45a4e29e",
   "metadata": {},
   "outputs": [],
   "source": [
    "def group_consecutive_numbers(lst):\n",
    "    result = []\n",
    "    current_group = []\n",
    "\n",
    "    for number in lst:\n",
    "        if not current_group or number == current_group[-1] + 1:\n",
    "            current_group.append(number)\n",
    "        else:\n",
    "            result.append(current_group)\n",
    "            current_group = [number]\n",
    "\n",
    "    if current_group:\n",
    "        result.append(current_group)\n",
    "\n",
    "    return result"
   ]
  },
  {
   "cell_type": "code",
   "execution_count": 27,
   "id": "3ddcf2ad-5121-4eb6-9fce-9ef039d07b17",
   "metadata": {},
   "outputs": [
    {
     "data": {
      "text/plain": [
       "16"
      ]
     },
     "execution_count": 27,
     "metadata": {},
     "output_type": "execute_result"
    }
   ],
   "source": [
    "len(old)"
   ]
  },
  {
   "cell_type": "code",
   "execution_count": 28,
   "id": "bba02f37-f810-46c3-9df4-0cc17b06430c",
   "metadata": {},
   "outputs": [
    {
     "data": {
      "text/plain": [
       "[]"
      ]
     },
     "execution_count": 28,
     "metadata": {},
     "output_type": "execute_result"
    }
   ],
   "source": [
    "pairs = group_consecutive_numbers(txt_remain)\n",
    "pairs"
   ]
  },
  {
   "cell_type": "code",
   "execution_count": 29,
   "id": "0cb2e1e5-358d-4ddb-bbed-812520200e54",
   "metadata": {},
   "outputs": [],
   "source": [
    "if pairs != []:pairs[0][0]"
   ]
  },
  {
   "cell_type": "code",
   "execution_count": 30,
   "id": "42c3046a-39b1-4180-b602-183e2baff343",
   "metadata": {},
   "outputs": [
    {
     "data": {
      "text/plain": [
       "{}"
      ]
     },
     "execution_count": 30,
     "metadata": {},
     "output_type": "execute_result"
    }
   ],
   "source": [
    "pairs_dic = {}\n",
    "for pair in pairs:\n",
    "    pairs_dic[pair[0]-1]=pair\n",
    "pairs_dic"
   ]
  },
  {
   "cell_type": "code",
   "execution_count": 31,
   "id": "d3dba448-d239-415b-8d22-e0f481ca6bef",
   "metadata": {},
   "outputs": [
    {
     "name": "stdout",
     "output_type": "stream",
     "text": [
      "(0, [0])\n",
      "(1, [1])\n",
      "(2, [2])\n",
      "(3, [3])\n",
      "(4, [4])\n",
      "(5, [5])\n",
      "(6, [6])\n",
      "(7, [7])\n",
      "(8, [8])\n",
      "(9, [9])\n",
      "(10, [10])\n",
      "(11, [11])\n",
      "(12, [12])\n",
      "(13, [13])\n",
      "(14, [14])\n",
      "(15, [15])\n"
     ]
    },
    {
     "data": {
      "text/plain": [
       "[None,\n",
       " None,\n",
       " None,\n",
       " None,\n",
       " None,\n",
       " None,\n",
       " None,\n",
       " None,\n",
       " None,\n",
       " None,\n",
       " None,\n",
       " None,\n",
       " None,\n",
       " None,\n",
       " None,\n",
       " None]"
      ]
     },
     "execution_count": 31,
     "metadata": {},
     "output_type": "execute_result"
    }
   ],
   "source": [
    "lookup =[(i,s1,s2) for i,s1,s2 in zip(list(range(D.shape[0])),D[:,0].tolist(),I[:,0].tolist())]\n",
    "locked = [(i,s1,s2) for i,s1,s2 in lookup if s1 == 0.0]\n",
    "used = [s2 for i,s1,s2 in lookup if s1 == 0.0]\n",
    "#[print(i,s1,s2) for i,s1,s2 in zip(list(range(D.shape[0])),D[:,0].tolist(),I[:,0].tolist())]\n",
    "#[print(i,s1,s2) for i,s1,s2 in lookup if s1 == 0.0]\n",
    "locked = locked+[(i,s1,s2) for i,s1,s2 in lookup if s2 not in used]\n",
    "locked = sorted(locked, key=lambda x: x[0])\n",
    "chk1 = []\n",
    "for i in range(len(locked)):\n",
    "    try:\n",
    "        if locked[i][0]+1==locked[i+1][0]:\n",
    "            chk1 += [(locked[i][0],[locked[i][-1]]+pairs_dic[locked[i][-1]])]\n",
    "        else:\n",
    "            chk1 += [(locked[i][0],[locked[i][-1]])]\n",
    "    except:\n",
    "        chk1 += [(locked[i][0],[locked[i][-1]])]\n",
    "[print(s) for s in chk1]"
   ]
  },
  {
   "cell_type": "code",
   "execution_count": 32,
   "id": "2b6f10e4-2803-403e-a74c-bc043ac15a39",
   "metadata": {},
   "outputs": [],
   "source": [
    "def flatten_list(nested_list):\n",
    "    \"\"\"入れ子になったリストをフラット化する関数\"\"\"\n",
    "    flat_list = []\n",
    "    for item in nested_list:\n",
    "        if isinstance(item, list):\n",
    "            # 再帰的にリストをフラット化\n",
    "            flat_list.extend(flatten_list(item))\n",
    "        else:\n",
    "            flat_list.append(item)\n",
    "    return flat_list"
   ]
  },
  {
   "cell_type": "code",
   "execution_count": 33,
   "id": "89dcb793-1793-4a1a-975a-ad95eeebc12c",
   "metadata": {},
   "outputs": [
    {
     "name": "stdout",
     "output_type": "stream",
     "text": [
      "[]\n",
      "[]\n"
     ]
    }
   ],
   "source": [
    "unused_new = [i for i in range(D.shape[0]) if not i in [s[0] for s in chk1]]\n",
    "print(unused_new)\n",
    "unused_old = [i for i in range(D.shape[1]) if not i in flatten_list([s[1] for s in chk1])]\n",
    "print(unused_old)"
   ]
  },
  {
   "cell_type": "code",
   "execution_count": 34,
   "id": "0f12bf35-c0c7-4a0f-b818-0d59d66b376c",
   "metadata": {},
   "outputs": [],
   "source": [
    "if (unused_old != [])&(unused_new != []):\n",
    "    # 前回の声明文\n",
    "    old1 = [old[i] for i in unused_old]\n",
    "    vectors1 = model.encode(old1)\n",
    "    dim = len(vectors1[0])\n",
    "    # インデックス化\n",
    "    index = faiss.IndexFlatL2(dim)\n",
    "    index.add(vectors1)\n",
    "    K = len(vectors1)\n",
    "\n",
    "    #今回の声明文\n",
    "    new1 = [new[i] for i in unused_new]\n",
    "    ref_vector1 = model.encode(new1)\n",
    "    len(ref_vector1)\n",
    "    # Faissによる検索\n",
    "    D1, I1 = index.search(ref_vector1,K) # 行が新、列が旧\n",
    "    new_pairs = [(s0,s1,unused_old[s2]) for s0,s1,s2 in zip(unused_new,D1[:,0].tolist(),I1[:,0].tolist())]\n",
    "    [print(s0,s1,unused_old[s2]) for s0,s1,s2 in zip(unused_new,D1[:,0].tolist(),I1[:,0].tolist())]\n",
    "\n",
    "    new_pairs = sorted(new_pairs , key=lambda x: x[1])\n",
    "    temp = []\n",
    "    for s in new_pairs:\n",
    "        if s[-1] not in temp:\n",
    "            chk1 += [(s[0],[s[-1]])]\n",
    "            temp += [s[-1]]\n",
    "        else:\n",
    "            chk1 += [(s[0],[''])]"
   ]
  },
  {
   "cell_type": "code",
   "execution_count": 35,
   "id": "da5f7d2f-10f4-4482-887d-d7441d045fbf",
   "metadata": {},
   "outputs": [
    {
     "data": {
      "text/plain": [
       "[(0, [0]),\n",
       " (1, [1]),\n",
       " (2, [2]),\n",
       " (3, [3]),\n",
       " (4, [4]),\n",
       " (5, [5]),\n",
       " (6, [6]),\n",
       " (7, [7]),\n",
       " (8, [8]),\n",
       " (9, [9]),\n",
       " (10, [10]),\n",
       " (11, [11]),\n",
       " (12, [12]),\n",
       " (13, [13]),\n",
       " (14, [14]),\n",
       " (15, [15])]"
      ]
     },
     "execution_count": 35,
     "metadata": {},
     "output_type": "execute_result"
    }
   ],
   "source": [
    "\n",
    "chk1 = sorted(chk1,key=lambda x: x[0])\n",
    "chk1"
   ]
  },
  {
   "cell_type": "code",
   "execution_count": 36,
   "id": "60dde9d6-3d82-40fb-9193-484e3ac323a9",
   "metadata": {},
   "outputs": [
    {
     "data": {
      "text/plain": [
       "[(0, [0]),\n",
       " (1, [1]),\n",
       " (2, [2]),\n",
       " (3, [3]),\n",
       " (4, [4]),\n",
       " (5, [5]),\n",
       " (6, [6]),\n",
       " (7, [7]),\n",
       " (8, [8]),\n",
       " (9, [9]),\n",
       " (10, [10]),\n",
       " (11, [11]),\n",
       " (12, [12]),\n",
       " (13, [13]),\n",
       " (14, [14]),\n",
       " (15, [15])]"
      ]
     },
     "execution_count": 36,
     "metadata": {},
     "output_type": "execute_result"
    }
   ],
   "source": [
    "chk1"
   ]
  },
  {
   "cell_type": "code",
   "execution_count": 37,
   "id": "8a5194b2-9f7a-4f1a-9c0a-2dc5fb79ad50",
   "metadata": {},
   "outputs": [
    {
     "data": {
      "text/plain": [
       "16"
      ]
     },
     "execution_count": 37,
     "metadata": {},
     "output_type": "execute_result"
    }
   ],
   "source": [
    "old1 = []\n",
    "for s in chk1:\n",
    "    ll = s[1]\n",
    "    if not ll[0] == '':\n",
    "        temp =''\n",
    "        for i in ll:\n",
    "            temp += old[i]\n",
    "        old1 +=[temp]\n",
    "    else:\n",
    "        old1 += ['']\n",
    "len(old1)"
   ]
  },
  {
   "cell_type": "code",
   "execution_count": 38,
   "id": "11d7ef32-b79b-4fe8-b189-a1c8120d22cf",
   "metadata": {},
   "outputs": [
    {
     "data": {
      "text/plain": [
       "['Although swings in net exports have affected the data, recent indicators suggest that economic activity has continued to expand at a solid pace.',\n",
       " 'The unemployment rate has stabilized at a low level in recent months, and labor market conditions remain solid.',\n",
       " 'Inflation remains somewhat elevated.',\n",
       " 'The Committee seeks to achieve maximum employment and inflation at the rate of 2 percent over the longer run.',\n",
       " 'Uncertainty about the economic outlook has increased further.',\n",
       " 'The Committee is attentive to the risks to both sides of its dual mandate and judges that the risks of higher unemployment and higher inflation have risen.',\n",
       " 'In support of its goals, the Committee decided to maintain the target range for the federal funds rate at 4-1/4 to 4-1/2 percent.',\n",
       " 'In considering the extent and timing of additional adjustments to the target range for the federal funds rate, the Committee will carefully assess incoming data, the evolving outlook, and the balance of risks.',\n",
       " 'The Committee will continue reducing its holdings of Treasury securities and agency debt and agency mortgage‑backed securities.',\n",
       " 'The Committee is strongly committed to supporting maximum employment and returning inflation to its 2 percent objective.',\n",
       " 'In assessing the appropriate stance of monetary policy, the Committee will continue to monitor the implications of incoming information for the economic outlook.',\n",
       " \"The Committee would be prepared to adjust the stance of monetary policy as appropriate if risks emerge that could impede the attainment of the Committee's goals.\",\n",
       " \"The Committee's assessments will take into account a wide range of information, including readings on labor market conditions, inflation pressures and inflation expectations, and financial and international developments.\",\n",
       " 'Voting for the monetary policy action were Jerome H  Powell, Chair; John C  Williams, Vice Chair; Michael S  Barr; Michelle W  Bowman; Susan M  Collins; Lisa D  Cook; Austan D  Goolsbee; Philip N  Jefferson; Neel Kashkari; Adriana D  Kugler; Alberto G  Musalem; and Christopher J  Waller  Neel Kashkari voted as an alternate member at this meeting ',\n",
       " 'For media inquiries, please email [email protected] or call 202-452-2955 ',\n",
       " 'Implementation Note issued May 7, 2025']"
      ]
     },
     "execution_count": 38,
     "metadata": {},
     "output_type": "execute_result"
    }
   ],
   "source": [
    "old1"
   ]
  },
  {
   "cell_type": "markdown",
   "id": "696e9839-6e98-4c24-b45c-0efa2916cba3",
   "metadata": {},
   "source": [
    "### メモリの解放"
   ]
  },
  {
   "cell_type": "code",
   "execution_count": 39,
   "id": "1b71ab8a-cac5-48a0-8b38-3577c8da467d",
   "metadata": {},
   "outputs": [],
   "source": [
    "#del model, vectors, ref_vector"
   ]
  },
  {
   "cell_type": "markdown",
   "id": "3e0da8c7-a537-49ee-9f26-2ae5255338d3",
   "metadata": {},
   "source": [
    "### 新旧の声明文を文単位で比較し、単語の相違を抽出"
   ]
  },
  {
   "cell_type": "code",
   "execution_count": 40,
   "id": "1c5b8f95-4662-499b-9186-4f0b346354fb",
   "metadata": {},
   "outputs": [],
   "source": [
    "\n",
    "red_ita = '<span style=\"color:red;font-style:italic;\">'\n",
    "red_del = '<span style=\"color:red; text-decoration:line-through;\">'\n",
    "\n",
    "def matching(txt1,txt2):\n",
    "    txt1 = txt1.split(' ')\n",
    "    txt2 = txt2.split(' ')\n",
    "    for i in range(len(txt1)):\n",
    "        s = txt1[i]\n",
    "        if s not in txt2:\n",
    "            txt1[i] = red_ita + s + \"</span>\"\n",
    "    for i in range(len(txt2)):\n",
    "        s = txt2[i]\n",
    "        if s not in txt1:\n",
    "            txt2[i] = red_del + s + \"</span>\"\n",
    "\n",
    "    txt1 = ' '.join(txt1).replace('</span> '+red_ita,' ')\n",
    "    txt2 = ' '.join(txt2).replace('</span> '+red_del,' ')\n",
    "    \n",
    "    return txt1,txt2"
   ]
  },
  {
   "cell_type": "code",
   "execution_count": 41,
   "id": "40f30485-4487-4098-be76-38554e94d252",
   "metadata": {},
   "outputs": [
    {
     "data": {
      "text/plain": [
       "16"
      ]
     },
     "execution_count": 41,
     "metadata": {},
     "output_type": "execute_result"
    }
   ],
   "source": [
    "len(new)"
   ]
  },
  {
   "cell_type": "code",
   "execution_count": 42,
   "id": "98fb5066-808f-46b0-9a75-247cb35447db",
   "metadata": {},
   "outputs": [
    {
     "data": {
      "text/plain": [
       "16"
      ]
     },
     "execution_count": 42,
     "metadata": {},
     "output_type": "execute_result"
    }
   ],
   "source": [
    "len(old)"
   ]
  },
  {
   "cell_type": "code",
   "execution_count": 43,
   "id": "b2bad0a9-01c4-47d6-bdfa-2e00d77fcd91",
   "metadata": {},
   "outputs": [
    {
     "data": {
      "text/plain": [
       "16"
      ]
     },
     "execution_count": 43,
     "metadata": {},
     "output_type": "execute_result"
    }
   ],
   "source": [
    "len(old1)"
   ]
  },
  {
   "cell_type": "code",
   "execution_count": 44,
   "id": "dbd52166-cc6b-4101-8f47-66f016670e97",
   "metadata": {},
   "outputs": [
    {
     "data": {
      "text/plain": [
       "2"
      ]
     },
     "execution_count": 44,
     "metadata": {},
     "output_type": "execute_result"
    }
   ],
   "source": [
    "len(notes)"
   ]
  },
  {
   "cell_type": "code",
   "execution_count": 45,
   "id": "e76994de-af3d-4099-93c3-53f512c097b3",
   "metadata": {},
   "outputs": [],
   "source": [
    "    \n",
    "pairs = []\n",
    "for s1,s2 in zip(new,old1):\n",
    "    if not s2 == '':\n",
    "        if s1 == s2:\n",
    "            pairs += ['<tr><td>'+s1+'</td><td>'+'UNCHANGED'+'</td></tr>']\n",
    "        else:\n",
    "            s1,s2 = matching(s1,s2)\n",
    "            pairs += ['<tr><td>'+s1+'</td><td>'+s2+'</td></tr>']\n",
    "    else:\n",
    "        pairs += ['<tr><td>'+red_ita+s1+'</span>'+'</td><td>'+'NEW TEXT'+'</td></tr>'] \n",
    "\n",
    "#if not txt_remain == []:\n",
    "#    for i in txt_remain:\n",
    "#        s2 = old[i]\n",
    "#        pairs += ['<tr><td></td><td>'+s2+'</td></tr>']\n",
    "\n",
    "html = ''.join(pairs)\n",
    "\n",
    "new_date = re.findall(r'[0-9]{8}',url_list[-1])[0]\n",
    "old_date = re.findall(r'[0-9]{8}',url_list[-2])[0]\n",
    "\n",
    "html = '<tr><th>Latest Statement<br>'+new_date+'</th><th>Prior Statement<br>'+old_date+'</th></tr>'+html\n",
    "\n",
    "html = '''\n",
    "<head>\n",
    "    <style>.valign td {vertical-align: top;} table, td, th { border: 2px #2b2b2b solid; } \n",
    "    </style>\n",
    "</head>\n",
    "    <body>\n",
    "    <h1 style=\"font-size: 1.6rem;font-family: Arial, Helvetica, sans-serif;\">\n",
    "    <table class=\"valign\">\n",
    "        <colgroup>\n",
    "            <col style=\"width: 60%;\">\n",
    "            <col style=\"width: 40%;\">\n",
    "        </colgroup>\n",
    "    '''+html+'</table></h1></body>'\n",
    "\n",
    "with open('html/'+new_date+'_statement.html',encoding='utf-8',mode='w') as f:\n",
    "    f.write(html)\n",
    "\n",
    "with open('txt/'+new_date+'_statement.txt',encoding='utf-8',mode='w') as f:\n",
    "    f.write('###'.join(new))\n",
    "with open('txt/'+new_date+'_statement_prior.txt',encoding='utf-8',mode='w') as f:\n",
    "    f.write('###'.join(old1))"
   ]
  },
  {
   "cell_type": "code",
   "execution_count": 46,
   "id": "71f2045f-3399-48a0-8807-b46c0da5eb0e",
   "metadata": {},
   "outputs": [
    {
     "name": "stdout",
     "output_type": "stream",
     "text": [
      "1.5389950275421143\n"
     ]
    }
   ],
   "source": [
    "print(time.time()-start)"
   ]
  },
  {
   "cell_type": "code",
   "execution_count": 47,
   "id": "e12350f4-87b2-470a-9748-4b315afff9bf",
   "metadata": {},
   "outputs": [],
   "source": [
    "data = ''\n"
   ]
  },
  {
   "cell_type": "code",
   "execution_count": null,
   "id": "9e1ad8da-4359-4df4-bad6-b34fc76144d5",
   "metadata": {},
   "outputs": [],
   "source": []
  },
  {
   "cell_type": "code",
   "execution_count": null,
   "id": "e177ca4f-8e8a-42d5-8a59-8668ba57d533",
   "metadata": {},
   "outputs": [],
   "source": []
  },
  {
   "cell_type": "code",
   "execution_count": null,
   "id": "d62b5b72-1efc-49f9-9991-84fe9cc3901e",
   "metadata": {},
   "outputs": [],
   "source": []
  },
  {
   "cell_type": "code",
   "execution_count": null,
   "id": "41dd95af-e0fb-4be1-b1ab-867bafcb4730",
   "metadata": {},
   "outputs": [],
   "source": []
  }
 ],
 "metadata": {
  "kernelspec": {
   "display_name": "Python 3 (ipykernel)",
   "language": "python",
   "name": "python3"
  },
  "language_info": {
   "codemirror_mode": {
    "name": "ipython",
    "version": 3
   },
   "file_extension": ".py",
   "mimetype": "text/x-python",
   "name": "python",
   "nbconvert_exporter": "python",
   "pygments_lexer": "ipython3",
   "version": "3.11.10"
  }
 },
 "nbformat": 4,
 "nbformat_minor": 5
}
