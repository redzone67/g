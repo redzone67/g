{
 "cells": [
  {
   "cell_type": "code",
   "execution_count": 1,
   "id": "bbedd7dc-92ba-44a9-92c6-ba9f80413e49",
   "metadata": {},
   "outputs": [],
   "source": [
    "import pandas as pd"
   ]
  },
  {
   "cell_type": "code",
   "execution_count": 2,
   "id": "c8352bd0-e99e-4321-af88-cb1187f54e33",
   "metadata": {},
   "outputs": [],
   "source": [
    "filename = '202406_ECB.txt'"
   ]
  },
  {
   "cell_type": "code",
   "execution_count": 6,
   "id": "483300e7-1e1c-41c5-b379-0a09d9fb5e17",
   "metadata": {},
   "outputs": [],
   "source": [
    "with open(filename,encoding='utf-8') as f:\n",
    "    txt = f.read().split('###')\n",
    "txt = [s.split('\\n') for s  in txt]\n",
    "dfs = []\n",
    "for i in range(len(txt)):\n",
    "    txt[i] = [s for s in txt[i] if not s=='']\n",
    "    dfs += [pd.DataFrame(txt[i])]"
   ]
  },
  {
   "cell_type": "code",
   "execution_count": 9,
   "id": "2fabde6a-11f4-45c3-b06d-5e5980a6b1ea",
   "metadata": {},
   "outputs": [
    {
     "data": {
      "text/html": [
       "<div>\n",
       "<style scoped>\n",
       "    .dataframe tbody tr th:only-of-type {\n",
       "        vertical-align: middle;\n",
       "    }\n",
       "\n",
       "    .dataframe tbody tr th {\n",
       "        vertical-align: top;\n",
       "    }\n",
       "\n",
       "    .dataframe thead th {\n",
       "        text-align: right;\n",
       "    }\n",
       "</style>\n",
       "<table border=\"1\" class=\"dataframe\">\n",
       "  <thead>\n",
       "    <tr style=\"text-align: right;\">\n",
       "      <th></th>\n",
       "      <th>Original</th>\n",
       "      <th>DeepL</th>\n",
       "    </tr>\n",
       "  </thead>\n",
       "  <tbody>\n",
       "    <tr>\n",
       "      <th>0</th>\n",
       "      <td>Good afternoon, the Vice-President and I welco...</td>\n",
       "      <td>こんにちは、副総裁とともに記者会見にようこそ。</td>\n",
       "    </tr>\n",
       "    <tr>\n",
       "      <th>1</th>\n",
       "      <td>The Governing Council today decided to lower t...</td>\n",
       "      <td>欧州中央銀行（ECB）理事会は本日、主要3金利を25bp引き下げることを決定した。インフレ見...</td>\n",
       "    </tr>\n",
       "    <tr>\n",
       "      <th>2</th>\n",
       "      <td>At the same time, despite the progress over re...</td>\n",
       "      <td>同時に、ここ数四半期の進展にもかかわらず、賃金上昇率が高いため、国内物価圧力は依然として強く...</td>\n",
       "    </tr>\n",
       "    <tr>\n",
       "      <th>3</th>\n",
       "      <td>We are determined to ensure that inflation ret...</td>\n",
       "      <td>我々は、インフレ率がタイムリーに2％の中期目標に戻ることを確実にすることを決定要因としている...</td>\n",
       "    </tr>\n",
       "    <tr>\n",
       "      <th>4</th>\n",
       "      <td>The Governing Council today also confirmed tha...</td>\n",
       "      <td>また本日、ユーロシステム運営理事会は、パンデミック緊急購入プログラム（PEPP）の下でユーロ...</td>\n",
       "    </tr>\n",
       "    <tr>\n",
       "      <th>...</th>\n",
       "      <td>...</td>\n",
       "      <td>...</td>\n",
       "    </tr>\n",
       "    <tr>\n",
       "      <th>57</th>\n",
       "      <td>More seriously, on the neutral rate, you know ...</td>\n",
       "      <td>より深刻なのは、中立金利についてですが、私が特定の数字に偏ったり、中立金利や中立金利周辺の範...</td>\n",
       "    </tr>\n",
       "    <tr>\n",
       "      <th>58</th>\n",
       "      <td>Q: I’m from Croatia, the latest member of the ...</td>\n",
       "      <td>Q: 私はユーロ圏に最近加盟したクロアチアから来ました。クロアチアの5月のインフレ率は4.3...</td>\n",
       "    </tr>\n",
       "    <tr>\n",
       "      <th>59</th>\n",
       "      <td>First of all, welcome to this circle, and we’r...</td>\n",
       "      <td>まず最初に、この輪にようこそ。クロアチアが加わり、輪が20に広がったことを大変嬉しく思います...</td>\n",
       "    </tr>\n",
       "    <tr>\n",
       "      <th>60</th>\n",
       "      <td>Q: The French President, Emmanuel Macron, has ...</td>\n",
       "      <td>Q：フランスのエマニュエル・マクロン大統領は、ECBのマンデートを経済成長と気候保護に拡大す...</td>\n",
       "    </tr>\n",
       "    <tr>\n",
       "      <th>61</th>\n",
       "      <td>At the ECB we have a very clear mandate, and t...</td>\n",
       "      <td>ECBには非常に明確なマンデートがあり、そのマンデートは条約に明記されています。ECBは、物...</td>\n",
       "    </tr>\n",
       "  </tbody>\n",
       "</table>\n",
       "<p>62 rows × 2 columns</p>\n",
       "</div>"
      ],
      "text/plain": [
       "                                             Original  \\\n",
       "0   Good afternoon, the Vice-President and I welco...   \n",
       "1   The Governing Council today decided to lower t...   \n",
       "2   At the same time, despite the progress over re...   \n",
       "3   We are determined to ensure that inflation ret...   \n",
       "4   The Governing Council today also confirmed tha...   \n",
       "..                                                ...   \n",
       "57  More seriously, on the neutral rate, you know ...   \n",
       "58  Q: I’m from Croatia, the latest member of the ...   \n",
       "59  First of all, welcome to this circle, and we’r...   \n",
       "60  Q: The French President, Emmanuel Macron, has ...   \n",
       "61  At the ECB we have a very clear mandate, and t...   \n",
       "\n",
       "                                                DeepL  \n",
       "0                             こんにちは、副総裁とともに記者会見にようこそ。  \n",
       "1   欧州中央銀行（ECB）理事会は本日、主要3金利を25bp引き下げることを決定した。インフレ見...  \n",
       "2   同時に、ここ数四半期の進展にもかかわらず、賃金上昇率が高いため、国内物価圧力は依然として強く...  \n",
       "3   我々は、インフレ率がタイムリーに2％の中期目標に戻ることを確実にすることを決定要因としている...  \n",
       "4   また本日、ユーロシステム運営理事会は、パンデミック緊急購入プログラム（PEPP）の下でユーロ...  \n",
       "..                                                ...  \n",
       "57  より深刻なのは、中立金利についてですが、私が特定の数字に偏ったり、中立金利や中立金利周辺の範...  \n",
       "58  Q: 私はユーロ圏に最近加盟したクロアチアから来ました。クロアチアの5月のインフレ率は4.3...  \n",
       "59  まず最初に、この輪にようこそ。クロアチアが加わり、輪が20に広がったことを大変嬉しく思います...  \n",
       "60  Q：フランスのエマニュエル・マクロン大統領は、ECBのマンデートを経済成長と気候保護に拡大す...  \n",
       "61  ECBには非常に明確なマンデートがあり、そのマンデートは条約に明記されています。ECBは、物...  \n",
       "\n",
       "[62 rows x 2 columns]"
      ]
     },
     "execution_count": 9,
     "metadata": {},
     "output_type": "execute_result"
    }
   ],
   "source": [
    "df = pd.concat(dfs,axis=1)\n",
    "df.columns = ['Original','DeepL']\n",
    "df"
   ]
  },
  {
   "cell_type": "code",
   "execution_count": null,
   "id": "c5a443f0-7bed-4370-929f-7daddc5c6ffb",
   "metadata": {},
   "outputs": [],
   "source": []
  }
 ],
 "metadata": {
  "kernelspec": {
   "display_name": "Python 3 (ipykernel)",
   "language": "python",
   "name": "python3"
  },
  "language_info": {
   "codemirror_mode": {
    "name": "ipython",
    "version": 3
   },
   "file_extension": ".py",
   "mimetype": "text/x-python",
   "name": "python",
   "nbconvert_exporter": "python",
   "pygments_lexer": "ipython3",
   "version": "3.8.18"
  }
 },
 "nbformat": 4,
 "nbformat_minor": 5
}
