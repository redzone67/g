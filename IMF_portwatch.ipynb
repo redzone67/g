{
 "cells": [
  {
   "cell_type": "code",
   "execution_count": null,
   "id": "e2ea03ad-3256-4741-b28a-1c18894c3237",
   "metadata": {},
   "outputs": [],
   "source": [
    "import pandas as pd\n",
    "import japanize_matplotlib\n",
    "from datetime import datetime"
   ]
  },
  {
   "cell_type": "code",
   "execution_count": null,
   "id": "f1d47068-5adb-4721-9e99-454f43a39349",
   "metadata": {},
   "outputs": [],
   "source": [
    "url = \"/Users/xxxx/Downloads/Daily_Port_Activity_Data_and_Trade_Estimates.csv\""
   ]
  },
  {
   "cell_type": "code",
   "execution_count": null,
   "id": "96df253a-7a7b-4b4e-bcb7-397499039eca",
   "metadata": {},
   "outputs": [],
   "source": [
    "df = pd.read_csv(url)\n",
    "#df.head()"
   ]
  },
  {
   "cell_type": "code",
   "execution_count": null,
   "id": "b0ef6085-f8bc-4d81-811f-dcbee4fa0e10",
   "metadata": {},
   "outputs": [],
   "source": [
    "dfx = pd.pivot_table(df,index='date',columns='country',values='import',aggfunc='sum')"
   ]
  },
  {
   "cell_type": "code",
   "execution_count": null,
   "id": "9b206d9c-939b-4ef7-8815-88d15ac09a08",
   "metadata": {},
   "outputs": [],
   "source": [
    "dfx.index = [datetime.strptime(s[:10],\"%Y/%m/%d\") for s in list(dfx.index)]"
   ]
  },
  {
   "cell_type": "code",
   "execution_count": null,
   "id": "0fb954c0-aed9-47d3-9b0b-1d909f759805",
   "metadata": {},
   "outputs": [],
   "source": [
    "#dfx.resample('ME').sum().tail()"
   ]
  },
  {
   "cell_type": "code",
   "execution_count": null,
   "id": "21ef0862-c8c3-4b13-9170-496a58b0eebf",
   "metadata": {},
   "outputs": [],
   "source": [
    "dfz = dfx.resample('ME').sum()"
   ]
  },
  {
   "cell_type": "code",
   "execution_count": null,
   "id": "22036263-6dbe-4daa-a0fd-1df153a5e580",
   "metadata": {},
   "outputs": [],
   "source": [
    "#dfz['United States'].plot()"
   ]
  },
  {
   "cell_type": "code",
   "execution_count": null,
   "id": "52c3304a-9535-4682-9bea-59f947b07f8f",
   "metadata": {},
   "outputs": [],
   "source": []
  }
 ],
 "metadata": {
  "kernelspec": {
   "display_name": "Python 3 (ipykernel)",
   "language": "python",
   "name": "python3"
  },
  "language_info": {
   "codemirror_mode": {
    "name": "ipython",
    "version": 3
   },
   "file_extension": ".py",
   "mimetype": "text/x-python",
   "name": "python",
   "nbconvert_exporter": "python",
   "pygments_lexer": "ipython3",
   "version": "3.11.10"
  }
 },
 "nbformat": 4,
 "nbformat_minor": 5
}
