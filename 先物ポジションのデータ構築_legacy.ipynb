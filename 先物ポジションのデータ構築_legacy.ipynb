{
 "cells": [
  {
   "cell_type": "code",
   "execution_count": 1,
   "id": "7c9e86d6-87f2-4856-af69-cc32da3d310e",
   "metadata": {},
   "outputs": [],
   "source": [
    "from datetime import datetime, timedelta"
   ]
  },
  {
   "cell_type": "code",
   "execution_count": 2,
   "id": "e8204f9e-ef73-4f2f-8b42-ca8ea15bddae",
   "metadata": {},
   "outputs": [],
   "source": [
    "import requests"
   ]
  },
  {
   "cell_type": "code",
   "execution_count": 3,
   "id": "fe6210ca-fe73-480b-b93a-94d0c3d8d3a4",
   "metadata": {},
   "outputs": [],
   "source": [
    "import pandas as pd\n",
    "import plotly.express as px"
   ]
  },
  {
   "cell_type": "code",
   "execution_count": 4,
   "id": "69e0cbc0-28fd-4e40-bad6-87d58696a898",
   "metadata": {},
   "outputs": [],
   "source": [
    "from IPython.display import clear_output"
   ]
  },
  {
   "cell_type": "code",
   "execution_count": 5,
   "id": "b525c863-db61-4b86-88b8-2cadb9fdf31a",
   "metadata": {},
   "outputs": [],
   "source": [
    "import re"
   ]
  },
  {
   "cell_type": "markdown",
   "id": "b4b7ef63-f8a5-4cf6-a9d5-b6a600ee3144",
   "metadata": {},
   "source": [
    "### データ更新用（毎週末）"
   ]
  },
  {
   "cell_type": "code",
   "execution_count": 6,
   "id": "4fd06ef3-0afe-4096-b45c-5401f077f4bc",
   "metadata": {},
   "outputs": [
    {
     "data": {
      "text/html": [
       "<div>\n",
       "<style scoped>\n",
       "    .dataframe tbody tr th:only-of-type {\n",
       "        vertical-align: middle;\n",
       "    }\n",
       "\n",
       "    .dataframe tbody tr th {\n",
       "        vertical-align: top;\n",
       "    }\n",
       "\n",
       "    .dataframe thead th {\n",
       "        text-align: right;\n",
       "    }\n",
       "</style>\n",
       "<table border=\"1\" class=\"dataframe\">\n",
       "  <thead>\n",
       "    <tr style=\"text-align: right;\">\n",
       "      <th></th>\n",
       "      <th>date</th>\n",
       "      <th>commodity</th>\n",
       "      <th>long</th>\n",
       "      <th>short</th>\n",
       "    </tr>\n",
       "  </thead>\n",
       "  <tbody>\n",
       "    <tr>\n",
       "      <th>13656</th>\n",
       "      <td>20240430</td>\n",
       "      <td>EMINI RUSSELL 1000 VALUE INDEX - CHICAGO MERCA...</td>\n",
       "      <td>2970</td>\n",
       "      <td>152</td>\n",
       "    </tr>\n",
       "    <tr>\n",
       "      <th>13657</th>\n",
       "      <td>20240430</td>\n",
       "      <td>MICRO E-MINI RUSSELL 2000 INDX - CHICAGO MERCA...</td>\n",
       "      <td>8705</td>\n",
       "      <td>17114</td>\n",
       "    </tr>\n",
       "    <tr>\n",
       "      <th>13658</th>\n",
       "      <td>20240430</td>\n",
       "      <td>NIKKEI STOCK AVERAGE - CHICAGO MERCANTILE EXCH...</td>\n",
       "      <td>1161</td>\n",
       "      <td>2952</td>\n",
       "    </tr>\n",
       "    <tr>\n",
       "      <th>13659</th>\n",
       "      <td>20240430</td>\n",
       "      <td>NIKKEI STOCK AVERAGE YEN DENOM - CHICAGO MERCA...</td>\n",
       "      <td>12994</td>\n",
       "      <td>4273</td>\n",
       "    </tr>\n",
       "    <tr>\n",
       "      <th>13660</th>\n",
       "      <td>20240430</td>\n",
       "      <td>S&amp;P 500 ANNUAL DIVIDEND INDEX - CHICAGO MERCAN...</td>\n",
       "      <td>126760</td>\n",
       "      <td>16563</td>\n",
       "    </tr>\n",
       "  </tbody>\n",
       "</table>\n",
       "</div>"
      ],
      "text/plain": [
       "           date                                          commodity    long  \\\n",
       "13656  20240430  EMINI RUSSELL 1000 VALUE INDEX - CHICAGO MERCA...    2970   \n",
       "13657  20240430  MICRO E-MINI RUSSELL 2000 INDX - CHICAGO MERCA...    8705   \n",
       "13658  20240430  NIKKEI STOCK AVERAGE - CHICAGO MERCANTILE EXCH...    1161   \n",
       "13659  20240430  NIKKEI STOCK AVERAGE YEN DENOM - CHICAGO MERCA...   12994   \n",
       "13660  20240430  S&P 500 ANNUAL DIVIDEND INDEX - CHICAGO MERCAN...  126760   \n",
       "\n",
       "       short  \n",
       "13656    152  \n",
       "13657  17114  \n",
       "13658   2952  \n",
       "13659   4273  \n",
       "13660  16563  "
      ]
     },
     "execution_count": 6,
     "metadata": {},
     "output_type": "execute_result"
    }
   ],
   "source": [
    "pos_data = pd.read_excel('cftc通貨先物ポジション_円.xlsx').iloc[:,1:]\n",
    "pos_data.tail()\n",
    "#pos_data.columns = ['date','long','short']\n",
    "#pos_data.tail()"
   ]
  },
  {
   "cell_type": "code",
   "execution_count": 7,
   "id": "4bcdb0de-745c-4804-84cb-b9bcd26f866a",
   "metadata": {},
   "outputs": [
    {
     "data": {
      "text/plain": [
       "date          int64\n",
       "commodity    object\n",
       "long          int64\n",
       "short         int64\n",
       "dtype: object"
      ]
     },
     "execution_count": 7,
     "metadata": {},
     "output_type": "execute_result"
    }
   ],
   "source": [
    "pos_data.dtypes"
   ]
  },
  {
   "cell_type": "code",
   "execution_count": 8,
   "id": "0d82aeb1-492d-434e-b28c-ab301a2bce4f",
   "metadata": {},
   "outputs": [],
   "source": [
    "today = datetime.today()"
   ]
  },
  {
   "cell_type": "code",
   "execution_count": 9,
   "id": "39010a26-871a-4654-a2e0-9625998448aa",
   "metadata": {},
   "outputs": [],
   "source": [
    "tuesdays = []\n",
    "date = str(pos_data['date'].tolist()[-1])\n",
    "date = datetime.strptime(date,'%Y%m%d')+ timedelta(days=7)\n",
    "while True:\n",
    "    if date > today:\n",
    "        break\n",
    "    else:\n",
    "        # 残りの火曜日を見つける\n",
    "        tuesdays.append(date.strftime('%Y%m%d'))\n",
    "    date += timedelta(days=7)"
   ]
  },
  {
   "cell_type": "code",
   "execution_count": 10,
   "id": "6946a15a-cb0c-4ca5-8286-c586e049faa3",
   "metadata": {},
   "outputs": [
    {
     "data": {
      "text/plain": [
       "['20240507',\n",
       " '20240514',\n",
       " '20240521',\n",
       " '20240528',\n",
       " '20240604',\n",
       " '20240611',\n",
       " '20240618',\n",
       " '20240625',\n",
       " '20240702',\n",
       " '20240709',\n",
       " '20240716',\n",
       " '20240723',\n",
       " '20240730',\n",
       " '20240806']"
      ]
     },
     "execution_count": 10,
     "metadata": {},
     "output_type": "execute_result"
    }
   ],
   "source": [
    "tuesdays"
   ]
  },
  {
   "cell_type": "code",
   "execution_count": 11,
   "id": "b80a0c23-caae-45de-8a65-23c61d7e87d8",
   "metadata": {},
   "outputs": [
    {
     "name": "stdout",
     "output_type": "stream",
     "text": [
      "終わりました\n"
     ]
    }
   ],
   "source": [
    "missed = []\n",
    "i = 1\n",
    "i = 1\n",
    "for date in tuesdays:\n",
    "    if datetime.today() < datetime.strptime(date,'%Y%m%d'):\n",
    "        print('dd')\n",
    "        break\n",
    "    yyyy = date[:4]\n",
    "    url = \"https://www.cftc.gov/sites/default/files/files/dea/cotarchives/\"\n",
    "    url += yyyy+\"/futures/deacmesf\"+date[-4:]+yyyy[-2:]+\".htm\"\n",
    "    try:\n",
    "        texts = requests.get(url).text\n",
    "        pattern = r'<!--ih:includeHTML file=\"deacmesf.txt\"-->([^\"]+)<!--/ih:includeHTML-->'\n",
    "        texts = re.findall(pattern, texts)[0]\n",
    "        texts = texts.split('\\r\\n')\n",
    "        texts = [s for s in texts if (s != '')&(s != ' ')]\n",
    "        pos = [item for i, element in enumerate(texts) if ' - CHICAGO' in element for item in ((i-1, i) if i > 0 else (i,))]\n",
    "        #print(pos)\n",
    "        nested_list = [texts[pos[i]:pos[i+1]] for i in range(0,len(pos)-1,2)]\n",
    "        #[print(s[9]) for s in nested_list]\n",
    "        for s in nested_list:\n",
    "            temp = [int(s) for s in s[9].replace(',','').split(' ') if not s == ''][:2]\n",
    "            #print(temp)\n",
    "            temp = pd.DataFrame([date,s[0]]+temp).T\n",
    "            temp.columns=['date','commodity','long','short']\n",
    "            pos_data = pd.concat([pos_data,temp],axis=0)\n",
    "    except:\n",
    "        print(date)\n",
    "        missed += [date]\n",
    "        pass\n",
    "    print(str(i)+'/'+str(len(tuesdays)))\n",
    "    clear_output(True)\n",
    "    i += 1\n",
    "print('終わりました')"
   ]
  },
  {
   "cell_type": "code",
   "execution_count": 12,
   "id": "f89b8474-afb8-41ce-bbf9-8de1d650b9d6",
   "metadata": {},
   "outputs": [],
   "source": [
    "pos_data.to_excel('cftc通貨先物ポジション_円.xlsx')"
   ]
  },
  {
   "cell_type": "markdown",
   "id": "ffb54f34-495a-429a-94d2-94814f561072",
   "metadata": {},
   "source": [
    "### データベースの構築用"
   ]
  },
  {
   "cell_type": "code",
   "execution_count": 6,
   "id": "a7f3bbb1-f12e-4f66-a6d7-218d0ae64a87",
   "metadata": {},
   "outputs": [],
   "source": [
    "\n",
    "def find_first_tuesday(year):\n",
    "    # その年の1月1日\n",
    "    date = datetime(year, 1, 1)\n",
    "    # 1月1日が火曜日になるまで日付を進める\n",
    "    while date.weekday() != 1:\n",
    "        date += timedelta(days=1)\n",
    "    return date\n",
    "\n",
    "def find_tuesdays(start_year, end_year):\n",
    "    tuesdays = []\n",
    "    # 最初の火曜日を見つける\n",
    "    date = find_first_tuesday(start_year)\n",
    "\n",
    "    while True:\n",
    "        if date.year == end_year + 1:\n",
    "            break\n",
    "        # 残りの火曜日を見つける\n",
    "        tuesdays.append(date.strftime('%Y%m%d'))\n",
    "        date += timedelta(days=7)  # 次の火曜日\n",
    "\n",
    "    return tuesdays"
   ]
  },
  {
   "cell_type": "code",
   "execution_count": 7,
   "id": "0c3cb7d9-714a-48e5-906e-3354f4e8ed21",
   "metadata": {},
   "outputs": [],
   "source": [
    "\n",
    "# 関数を実行するための年を指定\n",
    "start_year = 2018\n",
    "end_year = 2024\n",
    "\n",
    "start_year = 1998\n",
    "end_year = 2009\n",
    "\n",
    "# 結果を取得\n",
    "tuesdays = find_tuesdays(start_year, end_year)\n",
    "\n",
    "today = datetime.today().year"
   ]
  },
  {
   "cell_type": "code",
   "execution_count": 8,
   "id": "5630713b-d344-4645-a1b5-fdd0b2bf1257",
   "metadata": {},
   "outputs": [],
   "source": [
    "def find_yen(arg_list):\n",
    "    key1 = 'JAPANESE YEN - CHICAGO MERCANTILE EXCHANGE                           Code-097741'\n",
    "    for i in range(len(arg_list)):\n",
    "        text = arg_list[i]\n",
    "        if text == key1:\n",
    "            data = [s for s in arg_list[i+9].split(' ') if not s == '']\n",
    "            return [int(data[0].replace(',','')),int(data[1].replace(',','')),int(data[0].replace(',','')) - int(data[1].replace(',',''))]\n",
    "        else:\n",
    "            pass"
   ]
  },
  {
   "cell_type": "code",
   "execution_count": 9,
   "id": "b4f36499-5807-4123-8dc3-52dffcf8576c",
   "metadata": {},
   "outputs": [],
   "source": [
    "#tuesdays = ['20240220','20240227']"
   ]
  },
  {
   "cell_type": "markdown",
   "id": "5abee9b1-d083-4387-aa79-2afdaece4f8d",
   "metadata": {},
   "source": [
    "https://www.cftc.gov/sites/default/files/files/dea/cotarchives/2022/futures/financial_lf052422.htm"
   ]
  },
  {
   "cell_type": "code",
   "execution_count": 10,
   "id": "b56f77b2-923d-4202-ba27-243d718c4bae",
   "metadata": {},
   "outputs": [
    {
     "data": {
      "text/plain": [
       "'fgfa'"
      ]
     },
     "execution_count": 10,
     "metadata": {},
     "output_type": "execute_result"
    }
   ],
   "source": [
    "a = r'fg'+r'fa'\n",
    "a"
   ]
  },
  {
   "cell_type": "code",
   "execution_count": 11,
   "id": "31540400-9636-4508-b234-653ff2b96439",
   "metadata": {},
   "outputs": [
    {
     "name": "stdout",
     "output_type": "stream",
     "text": [
      "終わりました\n"
     ]
    }
   ],
   "source": [
    "pos_data = pd.DataFrame(columns=['date','commodity','long','short'])\n",
    "missed = []\n",
    "i = 1\n",
    "for date in tuesdays:\n",
    "    if datetime.today() < datetime.strptime(date,'%Y%m%d'):\n",
    "        print('future')\n",
    "        break\n",
    "    yyyy = date[:4]\n",
    "    url = \"https://www.cftc.gov/sites/default/files/files/dea/cotarchives/\"\n",
    "    url += yyyy+\"/futures/deacmesf\"+date[-4:]+yyyy[-2:]+\".htm\"\n",
    "    try:\n",
    "        texts = requests.get(url).text\n",
    "        pattern = r'<!--ih:includeHTML file=\"deacmesf.txt\"-->([^\"]+)<!--/ih:includeHTML-->'\n",
    "        texts = re.findall(pattern, texts)[0]\n",
    "        texts = texts.split('\\r\\n')\n",
    "        texts = [s for s in texts if (s != '')&(s != ' ')]\n",
    "        if date == '20220517':\n",
    "            texts[0] ='USD Malaysian Crude Palm Oil C - CHICAGO MERCANTILE EXCHANGE         Code-037021'\n",
    "\n",
    "        pos = [item for i, element in enumerate(texts) if ' - CHICAGO' in element for item in ((i-1, i) if i > 0 else (i,))]\n",
    "        #print(pos)\n",
    "        nested_list = [texts[pos[i]:pos[i+1]] for i in range(0,len(pos)-1,2)]\n",
    "        #[print(s[9]) for s in nested_list]\n",
    "        for s in nested_list:\n",
    "            temp = [int(s) for s in s[9].replace(',','').split(' ') if not s == ''][:2]\n",
    "            #print(temp)\n",
    "            temp = pd.DataFrame([date,s[0]]+temp).T\n",
    "            temp.columns=['date','commodity','long','short']\n",
    "            pos_data = pd.concat([pos_data,temp],axis=0)\n",
    "    except:\n",
    "        print(date)\n",
    "        missed += [date]\n",
    "        pass\n",
    "    print(str(i)+'/'+str(len(tuesdays)))\n",
    "    clear_output(True)\n",
    "    i += 1\n",
    "print('終わりました')"
   ]
  },
  {
   "cell_type": "code",
   "execution_count": null,
   "id": "c1e319b7-0cfa-4b1b-9a2f-b1fc00e68a77",
   "metadata": {},
   "outputs": [],
   "source": [
    "pos_data"
   ]
  },
  {
   "cell_type": "code",
   "execution_count": null,
   "id": "074b21a9-d90b-4784-800d-c94a5ff771ed",
   "metadata": {},
   "outputs": [],
   "source": [
    "missed"
   ]
  },
  {
   "cell_type": "code",
   "execution_count": null,
   "id": "87788b8f-ef4c-4826-b6bb-8c2b1719c2b7",
   "metadata": {},
   "outputs": [],
   "source": [
    "adj = ['20181224','20181231','20191230','20201221','20230703']"
   ]
  },
  {
   "cell_type": "code",
   "execution_count": null,
   "id": "36aa5d03-2623-4ebf-b8bb-f6b588e09cdf",
   "metadata": {},
   "outputs": [],
   "source": [
    "missed2 = []\n",
    "i = 1\n",
    "for date in adj:\n",
    "    if datetime.today() < datetime.strptime(date,'%Y%m%d'):\n",
    "        break\n",
    "    yyyy = date[:4]\n",
    "    url = \"https://www.cftc.gov/sites/default/files/files/dea/cotarchives/\"\n",
    "    url += yyyy+\"/futures/deacmesf\"+date[-4:]+yyyy[-2:]+\".htm\"\n",
    "    try:\n",
    "        texts = requests.get(url).text\n",
    "        pattern = r'<!--ih:includeHTML file=\"deacmesf.txt\"-->([^\"]+)<!--/ih:includeHTML-->'\n",
    "        texts = re.findall(pattern, texts)[0]\n",
    "        texts = texts.split('\\r\\n')\n",
    "        texts = [s for s in texts if (s != '')&(s != ' ')]\n",
    "        pos = [item for i, element in enumerate(texts) if ' - CHICAGO' in element for item in ((i-1, i) if i > 0 else (i,))]\n",
    "        #print(pos)\n",
    "        nested_list = [texts[pos[i]:pos[i+1]] for i in range(0,len(pos)-1,2)]\n",
    "        #[print(s[9]) for s in nested_list]\n",
    "        for s in nested_list:\n",
    "            temp = [int(s) for s in s[9].replace(',','').split(' ') if not s == ''][:2]\n",
    "            #print(temp)\n",
    "            temp = pd.DataFrame([date,s[0]]+temp).T\n",
    "            temp.columns=['date','commodity','long','short']\n",
    "            pos_data = pd.concat([pos_data,temp],axis=0)\n",
    "    except:\n",
    "        print(date)\n",
    "        missed2 += [date]\n",
    "        pass\n",
    "    print(str(i)+'/'+str(len(adj)))\n",
    "    clear_output(True)\n",
    "    i += 1\n",
    "print('終わりました')"
   ]
  },
  {
   "cell_type": "code",
   "execution_count": null,
   "id": "ffeb3087-8f84-4a7b-b530-b134f43f952f",
   "metadata": {},
   "outputs": [],
   "source": [
    "pos_data = pos_data.sort_values('date')"
   ]
  },
  {
   "cell_type": "code",
   "execution_count": null,
   "id": "9cca2366-3b50-4273-948d-0f5435eb5b5a",
   "metadata": {},
   "outputs": [],
   "source": [
    "pos_data.to_excel('cftc通貨先物ポジション_円_IT_GFC.xlsx')"
   ]
  },
  {
   "cell_type": "code",
   "execution_count": null,
   "id": "680991c6-3b3e-4e04-8d17-8f967314a625",
   "metadata": {},
   "outputs": [],
   "source": []
  },
  {
   "cell_type": "code",
   "execution_count": null,
   "id": "92a771d5-62cf-49fd-82e1-516ba4833326",
   "metadata": {},
   "outputs": [],
   "source": [
    "missed2 = []\n",
    "i = 1\n",
    "for date in ['20220517','20220524']:\n",
    "    if datetime.today() < datetime.strptime(date,'%Y%m%d'):\n",
    "        break\n",
    "    yyyy = date[:4]\n",
    "    url = \"https://www.cftc.gov/sites/default/files/files/dea/cotarchives/\"\n",
    "    url += yyyy+\"/futures/deacmesf\"+date[-4:]+yyyy[-2:]+\".htm\"\n",
    "    #try:\n",
    "    texts = requests.get(url).text\n",
    "    pattern = r'<!--ih:includeHTML file=\"deacmesf.txt\"-->([^\"]+)<!--/ih:includeHTML-->'\n",
    "    texts = re.findall(pattern, texts)[0]\n",
    "    texts = texts.split('\\r\\n')\n",
    "    texts = [s for s in texts if (s != '')&(s != ' ')]\n",
    "    if date == '20220517':\n",
    "        texts[0] ='USD Malaysian Crude Palm Oil C - CHICAGO MERCANTILE EXCHANGE         Code-037021'\n",
    "    pos = [item for i, element in enumerate(texts) if ' - CHICAGO' in element for item in ((i-1, i) if i > 0 else (i,))]\n",
    "        #print(pos)\n",
    "    nested_list = [texts[pos[i]:pos[i+1]] for i in range(0,len(pos)-1,2)]\n",
    "        #[print(s[9]) for s in nested_list]\n",
    "    for s in nested_list:\n",
    "        try:\n",
    "            temp = [int(s) for s in s[9].replace(',','').split(' ') if not s == ''][:2]\n",
    "        except:\n",
    "            print(s)\n",
    "            break\n",
    "            #print(temp)\n",
    "        temp = pd.DataFrame([date,s[0]]+temp).T\n",
    "        temp.columns=['date','commodity','long','short']\n",
    "        pos_data = pd.concat([pos_data,temp],axis=0)\n",
    "    #except:\n",
    "    #    print(date)\n",
    "    #    missed2 += [date]\n",
    "    #    pass\n",
    "    print(str(i)+'/'+str(len(tuesdays)))\n",
    "    #clear_output(True)\n",
    "    i += 1\n",
    "print('終わりました')"
   ]
  },
  {
   "cell_type": "code",
   "execution_count": null,
   "id": "e3d15c6d-e096-46a4-bec4-9809fc9484a6",
   "metadata": {},
   "outputs": [],
   "source": [
    "missed2"
   ]
  },
  {
   "cell_type": "code",
   "execution_count": null,
   "id": "e4ee7291-f564-4538-a180-5e10329a4054",
   "metadata": {},
   "outputs": [],
   "source": [
    "pos_data.to_excel('cftc通貨先物ポジション_円.xlsx')"
   ]
  },
  {
   "cell_type": "code",
   "execution_count": null,
   "id": "c7087b02-8ae4-4664-8ecd-b58f3fa93dc9",
   "metadata": {},
   "outputs": [],
   "source": [
    "import re\n",
    "# 文字列を定義\n",
    "prefix = r\"Hello\"\n",
    "suffix = r\"World\"\n",
    "\n",
    "# 連結して正規表現パターンを作成\n",
    "pattern = prefix + r\".*\" + suffix\n",
    "\n",
    "# テストする文字列\n",
    "test_string = \"Hello, how are you? World\"\n",
    "\n",
    "# 正規表現を使って検索\n",
    "match = re.search(pattern, test_string)\n",
    "\n",
    "if match:\n",
    "    print(\"一致が見つかりました。\")\n",
    "else:\n",
    "    print(\"一致が見つかりませんでした。\")"
   ]
  },
  {
   "cell_type": "code",
   "execution_count": null,
   "id": "261500f1-06b3-43cf-9036-be65b2372bfc",
   "metadata": {},
   "outputs": [],
   "source": []
  }
 ],
 "metadata": {
  "kernelspec": {
   "display_name": "Python 3 (ipykernel)",
   "language": "python",
   "name": "python3"
  },
  "language_info": {
   "codemirror_mode": {
    "name": "ipython",
    "version": 3
   },
   "file_extension": ".py",
   "mimetype": "text/x-python",
   "name": "python",
   "nbconvert_exporter": "python",
   "pygments_lexer": "ipython3",
   "version": "3.8.18"
  }
 },
 "nbformat": 4,
 "nbformat_minor": 5
}
