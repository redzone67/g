{
 "cells": [
  {
   "cell_type": "code",
   "execution_count": 6,
   "id": "cdafaa62-d3b6-4d55-8fea-23a5013aec9a",
   "metadata": {},
   "outputs": [],
   "source": [
    "from selenium import webdriver\n",
    "from selenium.webdriver.common.by import By\n",
    "from selenium.webdriver.chrome.service import Service\n",
    "from selenium.webdriver.chrome.options import Options\n",
    "\n",
    "from webdriver_manager.chrome import ChromeDriverManager\n",
    "\n",
    "# WebDriverのセットアップ\n",
    "options = Options()\n",
    "options.headless = False  # ヘッドレスモードを無効にしてブラウザを表示する\n",
    "\n",
    "# Serviceを使用してドライバーのパスを指定\n",
    "service = Service(ChromeDriverManager().install())\n",
    "\n",
    "# WebDriverのセットアップ\n",
    "driver = webdriver.Chrome(service=service, options=options)\n",
    "\n",
    "# URLを開く\n",
    "url = \"https://doge.gov/savings\"\n",
    "driver.get(url)\n",
    "\n"
   ]
  },
  {
   "cell_type": "code",
   "execution_count": 7,
   "id": "e4d94f83-21a1-46d5-a427-ae78fe6fd3f9",
   "metadata": {},
   "outputs": [],
   "source": [
    "# 「see more」ボタンをクリックする\n",
    "see_more_button = driver.find_element(By.XPATH, \"//td[text()='see more']\")\n",
    "see_more_button.click()\n",
    "\n",
    "# ページの読み込みを待つ\n",
    "driver.implicitly_wait(5)\n",
    "\n",
    "# ページのHTMLを取得\n",
    "html = driver.page_source\n",
    "\n",
    "# BeautifulSoupでパース\n",
    "from bs4 import BeautifulSoup\n",
    "soup = BeautifulSoup(html, 'html.parser')\n",
    "\n",
    "# テーブルを取得\n",
    "table = soup.find('table', {'class': 'min-w-full'})\n",
    "\n",
    "# テーブルの内容を抽出\n",
    "rows = table.find_all('tr')"
   ]
  },
  {
   "cell_type": "code",
   "execution_count": 13,
   "id": "f3730943-15c8-4b5e-8937-3c1f0cbac7bd",
   "metadata": {},
   "outputs": [],
   "source": [
    "import pandas as pd\n",
    "\n",
    "# ヘッダー（列名）を抽出\n",
    "headers = [header.get_text(strip=True) for header in rows[0].find_all('th')]\n",
    "\n",
    "# 各行のデータを抽出\n",
    "data = []\n",
    "for row in rows[1:]:  # rows[0]はヘッダーなので、それ以外の行を処理\n",
    "    cells = row.find_all('td')\n",
    "    data.append([cell.get_text(strip=True) for cell in cells])\n",
    "\n",
    "# DataFrameに変換\n",
    "df = pd.DataFrame(data, columns=headers)"
   ]
  },
  {
   "cell_type": "code",
   "execution_count": 14,
   "id": "2c04bdb1-47a4-482e-80c2-3bc05835ca7e",
   "metadata": {},
   "outputs": [
    {
     "data": {
      "text/html": [
       "<div>\n",
       "<style scoped>\n",
       "    .dataframe tbody tr th:only-of-type {\n",
       "        vertical-align: middle;\n",
       "    }\n",
       "\n",
       "    .dataframe tbody tr th {\n",
       "        vertical-align: top;\n",
       "    }\n",
       "\n",
       "    .dataframe thead th {\n",
       "        text-align: right;\n",
       "    }\n",
       "</style>\n",
       "<table border=\"1\" class=\"dataframe\">\n",
       "  <thead>\n",
       "    <tr style=\"text-align: right;\">\n",
       "      <th></th>\n",
       "      <th>Agency</th>\n",
       "      <th>Description</th>\n",
       "      <th>Uploaded on</th>\n",
       "      <th>Link</th>\n",
       "      <th>Value</th>\n",
       "    </tr>\n",
       "  </thead>\n",
       "  <tbody>\n",
       "    <tr>\n",
       "      <th>0</th>\n",
       "      <td>BUREAU OF LAND MANAGEMENT</td>\n",
       "      <td>EEO DEIA SUPPORT</td>\n",
       "      <td>2/13/2025</td>\n",
       "      <td></td>\n",
       "      <td>$440,000</td>\n",
       "    </tr>\n",
       "    <tr>\n",
       "      <th>1</th>\n",
       "      <td>COMMITTEE FOR PURCHASE FROM PEOPLE WHO ARE BLI...</td>\n",
       "      <td>Legal Database that allows ...</td>\n",
       "      <td>2/20/2025</td>\n",
       "      <td></td>\n",
       "      <td>$199,305</td>\n",
       "    </tr>\n",
       "    <tr>\n",
       "      <th>2</th>\n",
       "      <td>COMMODITY FUTURES TRADING COMMISSION</td>\n",
       "      <td>RENEW WEST PRINT SUBSCRIPTI...</td>\n",
       "      <td>2/11/2025</td>\n",
       "      <td></td>\n",
       "      <td>$21,382.14</td>\n",
       "    </tr>\n",
       "    <tr>\n",
       "      <th>3</th>\n",
       "      <td>COMMODITY FUTURES TRADING COMMISSION</td>\n",
       "      <td>Annual subscription to Poli...</td>\n",
       "      <td>2/13/2025</td>\n",
       "      <td></td>\n",
       "      <td>$255,863</td>\n",
       "    </tr>\n",
       "    <tr>\n",
       "      <th>4</th>\n",
       "      <td>CONSUMER FINANCIAL PROTECTION BUREAU</td>\n",
       "      <td>OMWI Training Support  - DE...</td>\n",
       "      <td>1/29/2025</td>\n",
       "      <td></td>\n",
       "      <td>$9,999,999</td>\n",
       "    </tr>\n",
       "  </tbody>\n",
       "</table>\n",
       "</div>"
      ],
      "text/plain": [
       "                                              Agency  \\\n",
       "0                          BUREAU OF LAND MANAGEMENT   \n",
       "1  COMMITTEE FOR PURCHASE FROM PEOPLE WHO ARE BLI...   \n",
       "2               COMMODITY FUTURES TRADING COMMISSION   \n",
       "3               COMMODITY FUTURES TRADING COMMISSION   \n",
       "4               CONSUMER FINANCIAL PROTECTION BUREAU   \n",
       "\n",
       "                      Description Uploaded on Link       Value  \n",
       "0                EEO DEIA SUPPORT   2/13/2025         $440,000  \n",
       "1  Legal Database that allows ...   2/20/2025         $199,305  \n",
       "2  RENEW WEST PRINT SUBSCRIPTI...   2/11/2025       $21,382.14  \n",
       "3  Annual subscription to Poli...   2/13/2025         $255,863  \n",
       "4  OMWI Training Support  - DE...   1/29/2025       $9,999,999  "
      ]
     },
     "execution_count": 14,
     "metadata": {},
     "output_type": "execute_result"
    }
   ],
   "source": [
    "df.head()"
   ]
  },
  {
   "cell_type": "code",
   "execution_count": 16,
   "id": "122e3d55-5a8a-417c-94ba-75ea8ec0263c",
   "metadata": {},
   "outputs": [
    {
     "data": {
      "text/html": [
       "<div>\n",
       "<style scoped>\n",
       "    .dataframe tbody tr th:only-of-type {\n",
       "        vertical-align: middle;\n",
       "    }\n",
       "\n",
       "    .dataframe tbody tr th {\n",
       "        vertical-align: top;\n",
       "    }\n",
       "\n",
       "    .dataframe thead th {\n",
       "        text-align: right;\n",
       "    }\n",
       "</style>\n",
       "<table border=\"1\" class=\"dataframe\">\n",
       "  <thead>\n",
       "    <tr style=\"text-align: right;\">\n",
       "      <th></th>\n",
       "      <th>Agency</th>\n",
       "      <th>Description</th>\n",
       "      <th>Uploaded on</th>\n",
       "      <th>Link</th>\n",
       "      <th>Value</th>\n",
       "    </tr>\n",
       "  </thead>\n",
       "  <tbody>\n",
       "    <tr>\n",
       "      <th>0</th>\n",
       "      <td>BUREAU OF LAND MANAGEMENT</td>\n",
       "      <td>EEO DEIA SUPPORT</td>\n",
       "      <td>2/13/2025</td>\n",
       "      <td>https://www.fpds.gov/ezsearch/jsp/viewLinkCont...</td>\n",
       "      <td>$440,000</td>\n",
       "    </tr>\n",
       "    <tr>\n",
       "      <th>1</th>\n",
       "      <td>COMMITTEE FOR PURCHASE FROM PEOPLE WHO ARE BLI...</td>\n",
       "      <td>Legal Database that allows ...</td>\n",
       "      <td>2/20/2025</td>\n",
       "      <td>https://www.fpds.gov/ezsearch/jsp/viewLinkCont...</td>\n",
       "      <td>$199,305</td>\n",
       "    </tr>\n",
       "    <tr>\n",
       "      <th>2</th>\n",
       "      <td>COMMODITY FUTURES TRADING COMMISSION</td>\n",
       "      <td>RENEW WEST PRINT SUBSCRIPTI...</td>\n",
       "      <td>2/11/2025</td>\n",
       "      <td>https://www.fpds.gov/ezsearch/jsp/viewLinkCont...</td>\n",
       "      <td>$21,382.14</td>\n",
       "    </tr>\n",
       "    <tr>\n",
       "      <th>3</th>\n",
       "      <td>COMMODITY FUTURES TRADING COMMISSION</td>\n",
       "      <td>Annual subscription to Poli...</td>\n",
       "      <td>2/13/2025</td>\n",
       "      <td>https://www.fpds.gov/ezsearch/jsp/viewLinkCont...</td>\n",
       "      <td>$255,863</td>\n",
       "    </tr>\n",
       "    <tr>\n",
       "      <th>4</th>\n",
       "      <td>CONSUMER FINANCIAL PROTECTION BUREAU</td>\n",
       "      <td>OMWI Training Support  - DE...</td>\n",
       "      <td>1/29/2025</td>\n",
       "      <td>https://www.fpds.gov/ezsearch/jsp/viewLinkCont...</td>\n",
       "      <td>$9,999,999</td>\n",
       "    </tr>\n",
       "  </tbody>\n",
       "</table>\n",
       "</div>"
      ],
      "text/plain": [
       "                                              Agency  \\\n",
       "0                          BUREAU OF LAND MANAGEMENT   \n",
       "1  COMMITTEE FOR PURCHASE FROM PEOPLE WHO ARE BLI...   \n",
       "2               COMMODITY FUTURES TRADING COMMISSION   \n",
       "3               COMMODITY FUTURES TRADING COMMISSION   \n",
       "4               CONSUMER FINANCIAL PROTECTION BUREAU   \n",
       "\n",
       "                      Description Uploaded on  \\\n",
       "0                EEO DEIA SUPPORT   2/13/2025   \n",
       "1  Legal Database that allows ...   2/20/2025   \n",
       "2  RENEW WEST PRINT SUBSCRIPTI...   2/11/2025   \n",
       "3  Annual subscription to Poli...   2/13/2025   \n",
       "4  OMWI Training Support  - DE...   1/29/2025   \n",
       "\n",
       "                                                Link       Value  \n",
       "0  https://www.fpds.gov/ezsearch/jsp/viewLinkCont...    $440,000  \n",
       "1  https://www.fpds.gov/ezsearch/jsp/viewLinkCont...    $199,305  \n",
       "2  https://www.fpds.gov/ezsearch/jsp/viewLinkCont...  $21,382.14  \n",
       "3  https://www.fpds.gov/ezsearch/jsp/viewLinkCont...    $255,863  \n",
       "4  https://www.fpds.gov/ezsearch/jsp/viewLinkCont...  $9,999,999  "
      ]
     },
     "execution_count": 16,
     "metadata": {},
     "output_type": "execute_result"
    }
   ],
   "source": [
    "# 各行のデータを抽出\n",
    "data = []\n",
    "for row in rows[1:]:  # rows[0]はヘッダーなので、それ以外の行を処理\n",
    "    cells = row.find_all('td')\n",
    "    # リンクを取得（aタグのhref属性）\n",
    "    link = cells[3].find('a')['href'] if cells[3].find('a') else None\n",
    "    data.append([cell.get_text(strip=True) for cell in cells[:3]] + [link] + [cells[4].get_text(strip=True)])\n",
    "\n",
    "# DataFrameに変換\n",
    "df = pd.DataFrame(data, columns=headers)\n",
    "df.head()"
   ]
  },
  {
   "cell_type": "code",
   "execution_count": 17,
   "id": "df2ab4bd-e82f-421f-8cda-996863545b3d",
   "metadata": {},
   "outputs": [
    {
     "data": {
      "text/plain": [
       "'https://www.fpds.gov/ezsearch/jsp/viewLinkController.jsp?agencyID=9300&PIID=93310023P0021&modNumber=A00002&idvAgencyID=&idvPIID=&contractType=AWARD'"
      ]
     },
     "execution_count": 17,
     "metadata": {},
     "output_type": "execute_result"
    }
   ],
   "source": [
    "df.iloc[0,-2]"
   ]
  },
  {
   "cell_type": "code",
   "execution_count": 18,
   "id": "296a4093-dc21-408e-a0ac-5244b8a33024",
   "metadata": {},
   "outputs": [
    {
     "data": {
      "text/plain": [
       "'https://www.fpds.gov/ezsearch/jsp/viewLinkController.jsp?agencyID=9518&PIID=95044124P0006&modNumber=P00001&idvAgencyID=&idvPIID=&contractType=AWARD'"
      ]
     },
     "execution_count": 18,
     "metadata": {},
     "output_type": "execute_result"
    }
   ],
   "source": [
    "df.iloc[1,-2]"
   ]
  },
  {
   "cell_type": "code",
   "execution_count": 11,
   "id": "04859633-85c2-404f-b057-fb6d5a31604a",
   "metadata": {},
   "outputs": [
    {
     "data": {
      "text/plain": [
       "<tr><th class=\"px-6 py-3 text-left text-xs font-medium text-gray-300 uppercase tracking-wider cursor-pointer\">Agency</th><th class=\"px-6 py-3 text-left text-xs font-medium text-gray-300 uppercase tracking-wider cursor-pointer\">Description</th><th class=\"px-6 py-3 text-left text-xs font-medium text-gray-300 uppercase tracking-wider cursor-pointer\">Uploaded on</th><th class=\"px-6 py-3 text-left text-xs font-medium text-gray-300 uppercase tracking-wider cursor-pointer\">Link</th><th class=\"px-6 py-3 text-right text-xs font-medium text-gray-300 uppercase tracking-wider cursor-pointer\">Value</th></tr>"
      ]
     },
     "execution_count": 11,
     "metadata": {},
     "output_type": "execute_result"
    }
   ],
   "source": [
    "rows[0]"
   ]
  },
  {
   "cell_type": "code",
   "execution_count": 12,
   "id": "63a11bb1-673f-4ab1-9d36-a6fdbeccaf8b",
   "metadata": {},
   "outputs": [
    {
     "data": {
      "text/plain": [
       "<tr class=\"hover:bg-gray-900 cursor-pointer\"><td class=\"px-6 py-4 whitespace-nowrap text-sm text-gray-300 truncate max-w-xs\" title=\"USAID\">USAID</td><td class=\"px-6 py-4 whitespace-nowrap text-sm text-gray-300 truncate max-w-xs\">New PPL/LER Evaluation IDIQs</td><td class=\"px-6 py-4 whitespace-nowrap text-sm text-gray-300 truncate max-w-xs\">2/12/2025</td><td class=\"px-6 py-4 whitespace-nowrap text-sm text-gray-300 truncate max-w-xs\" title=\"https://www.fpds.gov/ezsearch/jsp/viewLinkController.jsp?agencyID=7200&amp;PIID=7200AA20D00023&amp;modNumber=P00004&amp;idvAgencyID=&amp;idvPIID=&amp;contractType=IDV\"><a href=\"https://www.fpds.gov/ezsearch/jsp/viewLinkController.jsp?agencyID=7200&amp;PIID=7200AA20D00023&amp;modNumber=P00004&amp;idvAgencyID=&amp;idvPIID=&amp;contractType=IDV\" rel=\"noopener noreferrer\" target=\"_blank\"><svg class=\"lucide lucide-external-link w-5 h-5\" fill=\"none\" height=\"24\" stroke=\"currentColor\" stroke-linecap=\"round\" stroke-linejoin=\"round\" stroke-width=\"2\" viewbox=\"0 0 24 24\" width=\"24\" xmlns=\"http://www.w3.org/2000/svg\"><path d=\"M15 3h6v6\"></path><path d=\"M10 14 21 3\"></path><path d=\"M18 13v6a2 2 0 0 1-2 2H5a2 2 0 0 1-2-2V8a2 2 0 0 1 2-2h6\"></path></svg></a></td><td class=\"px-6 py-4 whitespace-nowrap text-sm text-right text-green-400 truncate max-w-xs\">$63,024,474</td></tr>"
      ]
     },
     "execution_count": 12,
     "metadata": {},
     "output_type": "execute_result"
    }
   ],
   "source": [
    "rows[-1]"
   ]
  },
  {
   "cell_type": "code",
   "execution_count": null,
   "id": "f5ae0d72-1d1b-4928-aefa-b1bda1041bf5",
   "metadata": {},
   "outputs": [],
   "source": []
  }
 ],
 "metadata": {
  "kernelspec": {
   "display_name": "Python 3 (ipykernel)",
   "language": "python",
   "name": "python3"
  },
  "language_info": {
   "codemirror_mode": {
    "name": "ipython",
    "version": 3
   },
   "file_extension": ".py",
   "mimetype": "text/x-python",
   "name": "python",
   "nbconvert_exporter": "python",
   "pygments_lexer": "ipython3",
   "version": "3.11.10"
  }
 },
 "nbformat": 4,
 "nbformat_minor": 5
}
