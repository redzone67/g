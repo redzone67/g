{
 "cells": [
  {
   "cell_type": "code",
   "execution_count": 1,
   "id": "5cd87d2b-c44c-483a-b467-da06ecd93609",
   "metadata": {},
   "outputs": [],
   "source": [
    "import pandas as pd\n",
    "pd.set_option('display.max_columns', None)\n",
    "pd.set_option('display.max_rows', None)\n",
    "import numpy as np\n",
    "import matplotlib.pyplot as plt\n",
    "import japanize_matplotlib\n",
    "from scipy.linalg import eigh\n",
    "from scipy.signal import hilbert"
   ]
  },
  {
   "cell_type": "code",
   "execution_count": 2,
   "id": "fe5fcbac-2e54-4980-9235-7132de807a14",
   "metadata": {},
   "outputs": [],
   "source": [
    "import pickle"
   ]
  },
  {
   "cell_type": "code",
   "execution_count": 3,
   "id": "5ac56a93-3b1d-4bb4-82b2-eb87dcc625b3",
   "metadata": {},
   "outputs": [],
   "source": [
    "import sys\n",
    "import os\n",
    "parent = os.path.dirname(os.getcwd())\n",
    "sys.path.append(parent+'/my_module')"
   ]
  },
  {
   "cell_type": "code",
   "execution_count": 4,
   "id": "fb70ec40-497d-4376-bee4-3c57493e3c90",
   "metadata": {},
   "outputs": [],
   "source": [
    "import chpca as hv"
   ]
  },
  {
   "cell_type": "code",
   "execution_count": 5,
   "id": "2b9b845f-41ae-4d8e-8bfb-e2091a49db11",
   "metadata": {},
   "outputs": [],
   "source": [
    "import statsmodels.api as sm"
   ]
  },
  {
   "cell_type": "code",
   "execution_count": 6,
   "id": "66103424-6d08-4045-89b9-0a29bcd93599",
   "metadata": {},
   "outputs": [],
   "source": [
    "from datetime import datetime"
   ]
  },
  {
   "cell_type": "code",
   "execution_count": 7,
   "id": "53a9f146-5c39-45fc-93f6-88830cf6fe0f",
   "metadata": {},
   "outputs": [],
   "source": [
    "from fredapi import Fred\n",
    "fred = Fred(api_key=\"efedf207a63071188c699caf884a4ee9\")"
   ]
  },
  {
   "cell_type": "code",
   "execution_count": 65,
   "id": "a03293ed-21b2-4ed6-9473-dc8f4d1f9e91",
   "metadata": {},
   "outputs": [],
   "source": [
    "\n",
    "def get_fred(arg_list):\n",
    "    for i in range(len(arg_list)):\n",
    "        s = arg_list[i]\n",
    "        if i == 0:\n",
    "            arg_data = fred.get_series(s)\n",
    "            print(s)\n",
    "        else:\n",
    "            arg_data = pd.concat([arg_data,fred.get_series(s)],axis=1)\n",
    "            print(s)\n",
    "\n",
    "    arg_data = arg_data\n",
    "    arg_data.columns = arg_list\n",
    "    #arg_data = arg_data.dropna(how='any',axis=0)\n",
    "    arg_data = arg_data.resample('M').mean()\n",
    "    print('success')\n",
    "    return arg_data"
   ]
  },
  {
   "cell_type": "code",
   "execution_count": 72,
   "id": "00189fb0-553d-4da8-899a-32a725dda34f",
   "metadata": {},
   "outputs": [],
   "source": [
    "\n",
    "daily_list = ['BAMLH0A0HYM2']\n",
    "weekly_list = ['ICSA']\n",
    "monthly_list = ['T10YFFM','UMCSENT','PERMIT','JTSJOL','NEWORDER','ACDGNO',\n",
    "                'PAYEMS','W875RX1','CE16OV','INDPRO']"
   ]
  },
  {
   "cell_type": "code",
   "execution_count": 73,
   "id": "977457f2-84c2-4fb9-ab44-1653ee63848a",
   "metadata": {},
   "outputs": [
    {
     "name": "stdout",
     "output_type": "stream",
     "text": [
      "BAMLH0A0HYM2\n",
      "success\n",
      "ICSA\n",
      "success\n",
      "T10YFFM\n",
      "UMCSENT\n",
      "PERMIT\n",
      "JTSJOL\n",
      "NEWORDER\n",
      "ACDGNO\n",
      "PAYEMS\n",
      "W875RX1\n",
      "CE16OV\n",
      "INDPRO\n",
      "success\n"
     ]
    }
   ],
   "source": [
    "daily = get_fred(daily_list)\n",
    "weekly = get_fred(weekly_list)\n",
    "monthly = get_fred(monthly_list)"
   ]
  },
  {
   "cell_type": "code",
   "execution_count": 74,
   "id": "596bd977-991e-411b-b281-2d8269149b17",
   "metadata": {},
   "outputs": [
    {
     "data": {
      "text/html": [
       "<div>\n",
       "<style scoped>\n",
       "    .dataframe tbody tr th:only-of-type {\n",
       "        vertical-align: middle;\n",
       "    }\n",
       "\n",
       "    .dataframe tbody tr th {\n",
       "        vertical-align: top;\n",
       "    }\n",
       "\n",
       "    .dataframe thead th {\n",
       "        text-align: right;\n",
       "    }\n",
       "</style>\n",
       "<table border=\"1\" class=\"dataframe\">\n",
       "  <thead>\n",
       "    <tr style=\"text-align: right;\">\n",
       "      <th></th>\n",
       "      <th>BAMLH0A0HYM2</th>\n",
       "      <th>ICSA</th>\n",
       "      <th>T10YFFM</th>\n",
       "      <th>UMCSENT</th>\n",
       "      <th>PERMIT</th>\n",
       "      <th>JTSJOL</th>\n",
       "      <th>NEWORDER</th>\n",
       "      <th>ACDGNO</th>\n",
       "      <th>PAYEMS</th>\n",
       "      <th>W875RX1</th>\n",
       "      <th>CE16OV</th>\n",
       "      <th>INDPRO</th>\n",
       "    </tr>\n",
       "  </thead>\n",
       "  <tbody>\n",
       "    <tr>\n",
       "      <th>1996-12-31</th>\n",
       "      <td>3.130000</td>\n",
       "      <td>353500.0</td>\n",
       "      <td>1.01</td>\n",
       "      <td>96.9</td>\n",
       "      <td>1411.0</td>\n",
       "      <td>NaN</td>\n",
       "      <td>50765.0</td>\n",
       "      <td>26790.0</td>\n",
       "      <td>121145.0</td>\n",
       "      <td>8442.0</td>\n",
       "      <td>127860.0</td>\n",
       "      <td>77.3731</td>\n",
       "    </tr>\n",
       "    <tr>\n",
       "      <th>1997-01-31</th>\n",
       "      <td>3.032727</td>\n",
       "      <td>339000.0</td>\n",
       "      <td>1.33</td>\n",
       "      <td>97.4</td>\n",
       "      <td>1382.0</td>\n",
       "      <td>NaN</td>\n",
       "      <td>51958.0</td>\n",
       "      <td>28524.0</td>\n",
       "      <td>121363.0</td>\n",
       "      <td>8477.0</td>\n",
       "      <td>128298.0</td>\n",
       "      <td>77.5138</td>\n",
       "    </tr>\n",
       "    <tr>\n",
       "      <th>1997-02-28</th>\n",
       "      <td>2.951053</td>\n",
       "      <td>320750.0</td>\n",
       "      <td>1.23</td>\n",
       "      <td>99.7</td>\n",
       "      <td>1445.0</td>\n",
       "      <td>NaN</td>\n",
       "      <td>54285.0</td>\n",
       "      <td>29287.0</td>\n",
       "      <td>121675.0</td>\n",
       "      <td>8516.0</td>\n",
       "      <td>128298.0</td>\n",
       "      <td>78.4246</td>\n",
       "    </tr>\n",
       "    <tr>\n",
       "      <th>1997-03-31</th>\n",
       "      <td>2.697500</td>\n",
       "      <td>319400.0</td>\n",
       "      <td>1.30</td>\n",
       "      <td>100.0</td>\n",
       "      <td>1436.0</td>\n",
       "      <td>NaN</td>\n",
       "      <td>54195.0</td>\n",
       "      <td>29168.0</td>\n",
       "      <td>121989.0</td>\n",
       "      <td>8555.7</td>\n",
       "      <td>128891.0</td>\n",
       "      <td>78.9266</td>\n",
       "    </tr>\n",
       "    <tr>\n",
       "      <th>1997-04-30</th>\n",
       "      <td>2.893182</td>\n",
       "      <td>327000.0</td>\n",
       "      <td>1.38</td>\n",
       "      <td>101.4</td>\n",
       "      <td>1421.0</td>\n",
       "      <td>NaN</td>\n",
       "      <td>55044.0</td>\n",
       "      <td>29915.0</td>\n",
       "      <td>122284.0</td>\n",
       "      <td>8568.6</td>\n",
       "      <td>129143.0</td>\n",
       "      <td>78.9924</td>\n",
       "    </tr>\n",
       "  </tbody>\n",
       "</table>\n",
       "</div>"
      ],
      "text/plain": [
       "            BAMLH0A0HYM2      ICSA  T10YFFM  UMCSENT  PERMIT  JTSJOL  \\\n",
       "1996-12-31      3.130000  353500.0     1.01     96.9  1411.0     NaN   \n",
       "1997-01-31      3.032727  339000.0     1.33     97.4  1382.0     NaN   \n",
       "1997-02-28      2.951053  320750.0     1.23     99.7  1445.0     NaN   \n",
       "1997-03-31      2.697500  319400.0     1.30    100.0  1436.0     NaN   \n",
       "1997-04-30      2.893182  327000.0     1.38    101.4  1421.0     NaN   \n",
       "\n",
       "            NEWORDER   ACDGNO    PAYEMS  W875RX1    CE16OV   INDPRO  \n",
       "1996-12-31   50765.0  26790.0  121145.0   8442.0  127860.0  77.3731  \n",
       "1997-01-31   51958.0  28524.0  121363.0   8477.0  128298.0  77.5138  \n",
       "1997-02-28   54285.0  29287.0  121675.0   8516.0  128298.0  78.4246  \n",
       "1997-03-31   54195.0  29168.0  121989.0   8555.7  128891.0  78.9266  \n",
       "1997-04-30   55044.0  29915.0  122284.0   8568.6  129143.0  78.9924  "
      ]
     },
     "execution_count": 74,
     "metadata": {},
     "output_type": "execute_result"
    }
   ],
   "source": [
    "data = pd.concat([daily,weekly,monthly],axis=1,join='inner')\n",
    "data = data.dropna(how='any',axis=0)\n",
    "data.columns = daily_list+weekly_list+monthly_list\n",
    "data.head()"
   ]
  },
  {
   "cell_type": "code",
   "execution_count": 75,
   "id": "93fff9c0-33f6-4671-8482-afa566b81cf5",
   "metadata": {},
   "outputs": [
    {
     "data": {
      "text/html": [
       "<div>\n",
       "<style scoped>\n",
       "    .dataframe tbody tr th:only-of-type {\n",
       "        vertical-align: middle;\n",
       "    }\n",
       "\n",
       "    .dataframe tbody tr th {\n",
       "        vertical-align: top;\n",
       "    }\n",
       "\n",
       "    .dataframe thead th {\n",
       "        text-align: right;\n",
       "    }\n",
       "</style>\n",
       "<table border=\"1\" class=\"dataframe\">\n",
       "  <thead>\n",
       "    <tr style=\"text-align: right;\">\n",
       "      <th></th>\n",
       "      <th>CREDIT SPREAD</th>\n",
       "      <th>T10YFFM</th>\n",
       "      <th>ICSA</th>\n",
       "      <th>UM CSENT</th>\n",
       "      <th>HOUSING PERMIT</th>\n",
       "      <th>JOB VACANCY</th>\n",
       "      <th>NEW ORDER</th>\n",
       "      <th>CONSUMER DGOODS</th>\n",
       "      <th>NONFARM PAYROLL</th>\n",
       "      <th>REAL INCOME exTRANSFER</th>\n",
       "      <th>EMPLOYED</th>\n",
       "      <th>INDUSTRIAL PRODUCTION</th>\n",
       "    </tr>\n",
       "  </thead>\n",
       "  <tbody>\n",
       "    <tr>\n",
       "      <th>2001-01-31</th>\n",
       "      <td>-0.550628</td>\n",
       "      <td>0.34</td>\n",
       "      <td>-0.017493</td>\n",
       "      <td>-0.038327</td>\n",
       "      <td>0.096311</td>\n",
       "      <td>0.028291</td>\n",
       "      <td>-0.028309</td>\n",
       "      <td>-0.078197</td>\n",
       "      <td>-0.000143</td>\n",
       "      <td>0.004384</td>\n",
       "      <td>0.001191</td>\n",
       "      <td>-0.004946</td>\n",
       "    </tr>\n",
       "    <tr>\n",
       "      <th>2001-02-28</th>\n",
       "      <td>-0.855682</td>\n",
       "      <td>0.43</td>\n",
       "      <td>0.087930</td>\n",
       "      <td>-0.044260</td>\n",
       "      <td>-0.025635</td>\n",
       "      <td>-0.026524</td>\n",
       "      <td>-0.001827</td>\n",
       "      <td>0.061739</td>\n",
       "      <td>0.000655</td>\n",
       "      <td>0.002046</td>\n",
       "      <td>-0.001206</td>\n",
       "      <td>-0.006538</td>\n",
       "    </tr>\n",
       "    <tr>\n",
       "      <th>2001-03-31</th>\n",
       "      <td>0.307717</td>\n",
       "      <td>-0.03</td>\n",
       "      <td>0.042066</td>\n",
       "      <td>0.009885</td>\n",
       "      <td>0.001810</td>\n",
       "      <td>-0.067984</td>\n",
       "      <td>-0.042937</td>\n",
       "      <td>0.000929</td>\n",
       "      <td>-0.000264</td>\n",
       "      <td>0.002970</td>\n",
       "      <td>0.001242</td>\n",
       "      <td>-0.002620</td>\n",
       "    </tr>\n",
       "    <tr>\n",
       "      <th>2001-04-30</th>\n",
       "      <td>0.587783</td>\n",
       "      <td>0.76</td>\n",
       "      <td>0.024365</td>\n",
       "      <td>-0.034467</td>\n",
       "      <td>0.004211</td>\n",
       "      <td>-0.031356</td>\n",
       "      <td>-0.058519</td>\n",
       "      <td>-0.027055</td>\n",
       "      <td>-0.002232</td>\n",
       "      <td>-0.004045</td>\n",
       "      <td>-0.003519</td>\n",
       "      <td>-0.003557</td>\n",
       "    </tr>\n",
       "    <tr>\n",
       "      <th>2001-05-31</th>\n",
       "      <td>-0.814304</td>\n",
       "      <td>0.84</td>\n",
       "      <td>-0.005687</td>\n",
       "      <td>0.039917</td>\n",
       "      <td>-0.000600</td>\n",
       "      <td>-0.042042</td>\n",
       "      <td>0.031553</td>\n",
       "      <td>0.052459</td>\n",
       "      <td>-0.000332</td>\n",
       "      <td>-0.003242</td>\n",
       "      <td>-0.001509</td>\n",
       "      <td>-0.005211</td>\n",
       "    </tr>\n",
       "  </tbody>\n",
       "</table>\n",
       "</div>"
      ],
      "text/plain": [
       "            CREDIT SPREAD  T10YFFM      ICSA  UM CSENT  HOUSING PERMIT  \\\n",
       "2001-01-31      -0.550628     0.34 -0.017493 -0.038327        0.096311   \n",
       "2001-02-28      -0.855682     0.43  0.087930 -0.044260       -0.025635   \n",
       "2001-03-31       0.307717    -0.03  0.042066  0.009885        0.001810   \n",
       "2001-04-30       0.587783     0.76  0.024365 -0.034467        0.004211   \n",
       "2001-05-31      -0.814304     0.84 -0.005687  0.039917       -0.000600   \n",
       "\n",
       "            JOB VACANCY  NEW ORDER  CONSUMER DGOODS  NONFARM PAYROLL  \\\n",
       "2001-01-31     0.028291  -0.028309        -0.078197        -0.000143   \n",
       "2001-02-28    -0.026524  -0.001827         0.061739         0.000655   \n",
       "2001-03-31    -0.067984  -0.042937         0.000929        -0.000264   \n",
       "2001-04-30    -0.031356  -0.058519        -0.027055        -0.002232   \n",
       "2001-05-31    -0.042042   0.031553         0.052459        -0.000332   \n",
       "\n",
       "            REAL INCOME exTRANSFER  EMPLOYED  INDUSTRIAL PRODUCTION  \n",
       "2001-01-31                0.004384  0.001191              -0.004946  \n",
       "2001-02-28                0.002046 -0.001206              -0.006538  \n",
       "2001-03-31                0.002970  0.001242              -0.002620  \n",
       "2001-04-30               -0.004045 -0.003519              -0.003557  \n",
       "2001-05-31               -0.003242 -0.001509              -0.005211  "
      ]
     },
     "execution_count": 75,
     "metadata": {},
     "output_type": "execute_result"
    }
   ],
   "source": [
    "\n",
    "data.columns = ['CREDIT SPREAD',\n",
    "                'ICSA',\n",
    "                'T10YFFM','UM CSENT','HOUSING PERMIT','JOB VACANCY','NEW ORDER','CONSUMER DGOODS',\n",
    "                'NONFARM PAYROLL','REAL INCOME exTRANSFER','EMPLOYED','INDUSTRIAL PRODUCTION']\n",
    "data = data.loc[:,['CREDIT SPREAD','T10YFFM','ICSA','UM CSENT','HOUSING PERMIT',\n",
    "                   'JOB VACANCY','NEW ORDER','CONSUMER DGOODS',\n",
    "                   'NONFARM PAYROLL','REAL INCOME exTRANSFER','EMPLOYED','INDUSTRIAL PRODUCTION']]\n",
    "\n",
    "\n",
    "ref = 'NONFARM PAYROLL'\n",
    "\n",
    "data = pd.concat([data.iloc[:,:2].diff(),np.log(data.iloc[:,2:]).diff()],axis=1)\n",
    "data = data.dropna(how='any',axis=0)\n",
    "data.head()"
   ]
  },
  {
   "cell_type": "code",
   "execution_count": 90,
   "id": "981ccccb-2312-498b-aacb-2613762055a7",
   "metadata": {},
   "outputs": [],
   "source": [
    "data = data.loc['2021':,:]\n",
    "data = (data - data.mean())/data.std()"
   ]
  },
  {
   "cell_type": "code",
   "execution_count": 91,
   "id": "e8525a09-4917-4a86-adbb-95ffec16d33c",
   "metadata": {},
   "outputs": [],
   "source": [
    "start = datetime.now()"
   ]
  },
  {
   "cell_type": "code",
   "execution_count": 92,
   "id": "6ef10b13-bb02-4396-b782-ce53cc1c8321",
   "metadata": {},
   "outputs": [
    {
     "data": {
      "text/plain": [
       "(37, 12)"
      ]
     },
     "execution_count": 92,
     "metadata": {},
     "output_type": "execute_result"
    }
   ],
   "source": [
    "T,N = data.shape\n",
    "data.shape"
   ]
  },
  {
   "cell_type": "markdown",
   "id": "1be678cc-49e1-46d8-934b-2b98b96c0303",
   "metadata": {},
   "source": [
    "### ヒルベルト変換(固有値は大きい順にソート)"
   ]
  },
  {
   "cell_type": "code",
   "execution_count": 93,
   "id": "8519916d-1a06-455e-91cf-c096f6cda3f2",
   "metadata": {},
   "outputs": [],
   "source": [
    "eigenvals, eigenvecs, mode_signal, intensity =hv.make_hilvert(data)\n",
    "#np.real(eigenvals)"
   ]
  },
  {
   "cell_type": "markdown",
   "id": "7a1e89f9-7d4c-401c-a915-9919ae76fc82",
   "metadata": {},
   "source": [
    "### 累積寄与率"
   ]
  },
  {
   "cell_type": "code",
   "execution_count": 94,
   "id": "ea3cb222-7528-4c1a-9346-c87f79493fd1",
   "metadata": {},
   "outputs": [
    {
     "data": {
      "text/html": [
       "<div>\n",
       "<style scoped>\n",
       "    .dataframe tbody tr th:only-of-type {\n",
       "        vertical-align: middle;\n",
       "    }\n",
       "\n",
       "    .dataframe tbody tr th {\n",
       "        vertical-align: top;\n",
       "    }\n",
       "\n",
       "    .dataframe thead th {\n",
       "        text-align: right;\n",
       "    }\n",
       "</style>\n",
       "<table border=\"1\" class=\"dataframe\">\n",
       "  <thead>\n",
       "    <tr style=\"text-align: right;\">\n",
       "      <th></th>\n",
       "      <th>0</th>\n",
       "      <th>1</th>\n",
       "      <th>2</th>\n",
       "      <th>3</th>\n",
       "      <th>4</th>\n",
       "      <th>5</th>\n",
       "      <th>6</th>\n",
       "      <th>7</th>\n",
       "      <th>8</th>\n",
       "      <th>9</th>\n",
       "      <th>10</th>\n",
       "      <th>11</th>\n",
       "    </tr>\n",
       "  </thead>\n",
       "  <tbody>\n",
       "    <tr>\n",
       "      <th>0</th>\n",
       "      <td>0.30691</td>\n",
       "      <td>0.487873</td>\n",
       "      <td>0.639804</td>\n",
       "      <td>0.737711</td>\n",
       "      <td>0.810887</td>\n",
       "      <td>0.873074</td>\n",
       "      <td>0.913212</td>\n",
       "      <td>0.943334</td>\n",
       "      <td>0.964971</td>\n",
       "      <td>0.983426</td>\n",
       "      <td>0.994517</td>\n",
       "      <td>1.0</td>\n",
       "    </tr>\n",
       "  </tbody>\n",
       "</table>\n",
       "</div>"
      ],
      "text/plain": [
       "        0         1         2         3         4         5         6   \\\n",
       "0  0.30691  0.487873  0.639804  0.737711  0.810887  0.873074  0.913212   \n",
       "\n",
       "         7         8         9         10   11  \n",
       "0  0.943334  0.964971  0.983426  0.994517  1.0  "
      ]
     },
     "execution_count": 94,
     "metadata": {},
     "output_type": "execute_result"
    }
   ],
   "source": [
    "pd.DataFrame(eigenvals.cumsum() / eigenvals.sum()).T"
   ]
  },
  {
   "cell_type": "markdown",
   "id": "eefea165-7f21-4051-8fd3-d287cdb9cff0",
   "metadata": {},
   "source": [
    "### 固有ベクトル"
   ]
  },
  {
   "cell_type": "code",
   "execution_count": 95,
   "id": "13f1b016-6f66-4f41-9ef9-e7dd56d5fcfe",
   "metadata": {},
   "outputs": [],
   "source": [
    "#eigenvecs.iloc[:,0]"
   ]
  },
  {
   "cell_type": "markdown",
   "id": "1b12c9ef-19b4-411d-b993-1277973a1786",
   "metadata": {},
   "source": [
    "### 検定"
   ]
  },
  {
   "cell_type": "code",
   "execution_count": 96,
   "id": "7ca34ba6-926e-4042-b577-a43d07fc7228",
   "metadata": {},
   "outputs": [
    {
     "name": "stdout",
     "output_type": "stream",
     "text": [
      "ループ処理時間:  0:00:01.606773\n"
     ]
    },
    {
     "data": {
      "text/html": [
       "<div>\n",
       "<style scoped>\n",
       "    .dataframe tbody tr th:only-of-type {\n",
       "        vertical-align: middle;\n",
       "    }\n",
       "\n",
       "    .dataframe tbody tr th {\n",
       "        vertical-align: top;\n",
       "    }\n",
       "\n",
       "    .dataframe thead th {\n",
       "        text-align: right;\n",
       "    }\n",
       "</style>\n",
       "<table border=\"1\" class=\"dataframe\">\n",
       "  <thead>\n",
       "    <tr style=\"text-align: right;\">\n",
       "      <th></th>\n",
       "      <th>actual</th>\n",
       "      <th>RRS</th>\n",
       "      <th>RTM</th>\n",
       "      <th>RRS_chk</th>\n",
       "      <th>RMT_chk</th>\n",
       "    </tr>\n",
       "  </thead>\n",
       "  <tbody>\n",
       "    <tr>\n",
       "      <th>0</th>\n",
       "      <td>7.166774</td>\n",
       "      <td>6.960068</td>\n",
       "      <td>3.259423</td>\n",
       "      <td>True</td>\n",
       "      <td>True</td>\n",
       "    </tr>\n",
       "  </tbody>\n",
       "</table>\n",
       "</div>"
      ],
      "text/plain": [
       "     actual       RRS       RTM  RRS_chk  RMT_chk\n",
       "0  7.166774  6.960068  3.259423     True     True"
      ]
     },
     "execution_count": 96,
     "metadata": {},
     "output_type": "execute_result"
    }
   ],
   "source": [
    "sim_num = 1000\n",
    "input_data = data\n",
    "chk = hv.make_rss(sim_num,input_data,eigenvals)\n",
    "chk"
   ]
  },
  {
   "cell_type": "markdown",
   "id": "0ef962d5-af31-4832-9b4a-97f569612d1a",
   "metadata": {},
   "source": [
    "### 固有ベクトル成分のプロット"
   ]
  },
  {
   "cell_type": "code",
   "execution_count": 97,
   "id": "35278be4-a2ec-4a4d-9e07-bc2c681712a1",
   "metadata": {},
   "outputs": [
    {
     "data": {
      "image/png": "[encoded data removed]",
      "text/plain": [
       "<Figure size 1200x400 with 1 Axes>"
      ]
     },
     "metadata": {},
     "output_type": "display_data"
    }
   ],
   "source": [
    "# 固有ベクトルの成分を複素平面にプロット\n",
    "variable_names = list(eigenvecs.index)\n",
    "variable_namesX = [s if not s=='DPCCRG' else 'CORE inflation' for s in variable_names]\n",
    "\n",
    "cols = 2  # 1行あたりのサブプロットの数\n",
    "rows = chk.shape[0] // cols + (chk.shape[0] % cols > 0)  # 必要な行数\n",
    "\n",
    "plt.figure(figsize=(12, rows * 4))\n",
    "\n",
    "k = 0\n",
    "for i in list(chk.index):  # 各固有ベクトルに対して\n",
    "    plt.subplot(rows, cols, k + 1)  # サブプロットの位置を指定\n",
    "    vec = eigenvecs.loc[:,i].values    \n",
    "    for j in range(vec.shape[0]):\n",
    "        plt.scatter(vec[j].real, vec[j].imag, alpha=0.7)\n",
    "        plt.text(vec[j].real,\n",
    "                 vec[j].imag,\n",
    "                 variable_namesX[j].replace(' ','\\n'),\n",
    "                 fontsize=8)\n",
    "\n",
    "    # 座標軸の表示\n",
    "    plt.xlabel('Real Part')\n",
    "    plt.ylabel('Imaginary Part')\n",
    "    plt.axhline(0, color='black', linewidth=1)\n",
    "    plt.axvline(0, color='black', linewidth=1)\n",
    "    plt.title(f'Eigenvector {i}')\n",
    "\n",
    "    k += 1\n",
    "    \n",
    "plt.tight_layout()\n",
    "plt.savefig('img/主要固有ベクトルの成分分布.png')\n",
    "plt.show()\n"
   ]
  },
  {
   "cell_type": "markdown",
   "id": "3d67ec30-8294-4264-87f7-16e5d6025a0c",
   "metadata": {},
   "source": [
    "### 主成分ベクトルの要素の有意水準を計算"
   ]
  },
  {
   "cell_type": "code",
   "execution_count": 98,
   "id": "094e7ae8-5cd6-4e71-ba77-8653eb4e771d",
   "metadata": {},
   "outputs": [
    {
     "data": {
      "text/html": [
       "<div>\n",
       "<style scoped>\n",
       "    .dataframe tbody tr th:only-of-type {\n",
       "        vertical-align: middle;\n",
       "    }\n",
       "\n",
       "    .dataframe tbody tr th {\n",
       "        vertical-align: top;\n",
       "    }\n",
       "\n",
       "    .dataframe thead th {\n",
       "        text-align: right;\n",
       "    }\n",
       "</style>\n",
       "<table border=\"1\" class=\"dataframe\">\n",
       "  <thead>\n",
       "    <tr style=\"text-align: right;\">\n",
       "      <th></th>\n",
       "      <th>0</th>\n",
       "      <th>1</th>\n",
       "      <th>2</th>\n",
       "      <th>3</th>\n",
       "      <th>4</th>\n",
       "      <th>5</th>\n",
       "      <th>6</th>\n",
       "      <th>7</th>\n",
       "      <th>8</th>\n",
       "      <th>9</th>\n",
       "      <th>10</th>\n",
       "      <th>11</th>\n",
       "    </tr>\n",
       "  </thead>\n",
       "  <tbody>\n",
       "    <tr>\n",
       "      <th>0</th>\n",
       "      <td>0.310365</td>\n",
       "      <td>0.524484</td>\n",
       "      <td>0.399382</td>\n",
       "      <td>0.692697</td>\n",
       "      <td>0.571388</td>\n",
       "      <td>0.354225</td>\n",
       "      <td>0.583394</td>\n",
       "      <td>0.415788</td>\n",
       "      <td>0.380381</td>\n",
       "      <td>0.214306</td>\n",
       "      <td>0.416803</td>\n",
       "      <td>0.422973</td>\n",
       "    </tr>\n",
       "  </tbody>\n",
       "</table>\n",
       "</div>"
      ],
      "text/plain": [
       "         0         1         2         3         4         5         6   \\\n",
       "0  0.310365  0.524484  0.399382  0.692697  0.571388  0.354225  0.583394   \n",
       "\n",
       "         7         8         9         10        11  \n",
       "0  0.415788  0.380381  0.214306  0.416803  0.422973  "
      ]
     },
     "execution_count": 98,
     "metadata": {},
     "output_type": "execute_result"
    }
   ],
   "source": [
    "sig_mean,sig_std = hv.make_sig(sim_num,data)\n",
    "pd.DataFrame(sig_mean+2*sig_std).T"
   ]
  },
  {
   "cell_type": "markdown",
   "id": "4439c274-be29-402c-8443-3170cff075b1",
   "metadata": {},
   "source": [
    "### 各固有ベクトル成分の位相を計算"
   ]
  },
  {
   "cell_type": "code",
   "execution_count": 99,
   "id": "e4af4db9-07ae-4afc-83f0-decf196e9bb4",
   "metadata": {},
   "outputs": [],
   "source": [
    "phase = pd.DataFrame(np.angle(eigenvecs))\n",
    "phase.index = list(data.columns)\n",
    "phase = phase / np.pi\n",
    "abs = np.abs(eigenvecs)"
   ]
  },
  {
   "cell_type": "code",
   "execution_count": 100,
   "id": "27062bf4-6328-4303-bf98-fcd9daae2734",
   "metadata": {},
   "outputs": [],
   "source": [
    "\n",
    "phase,mags = hv.make_phase(eigenvecs,ref)"
   ]
  },
  {
   "cell_type": "code",
   "execution_count": 101,
   "id": "b6ed507c-01ce-4225-a105-ceb2fbb2410e",
   "metadata": {},
   "outputs": [
    {
     "data": {
      "text/html": [
       "<div>\n",
       "<style scoped>\n",
       "    .dataframe tbody tr th:only-of-type {\n",
       "        vertical-align: middle;\n",
       "    }\n",
       "\n",
       "    .dataframe tbody tr th {\n",
       "        vertical-align: top;\n",
       "    }\n",
       "\n",
       "    .dataframe thead th {\n",
       "        text-align: right;\n",
       "    }\n",
       "</style>\n",
       "<table border=\"1\" class=\"dataframe\">\n",
       "  <thead>\n",
       "    <tr style=\"text-align: right;\">\n",
       "      <th></th>\n",
       "      <th>0</th>\n",
       "      <th>1</th>\n",
       "      <th>2</th>\n",
       "      <th>3</th>\n",
       "      <th>4</th>\n",
       "      <th>5</th>\n",
       "      <th>6</th>\n",
       "      <th>7</th>\n",
       "      <th>8</th>\n",
       "      <th>9</th>\n",
       "      <th>10</th>\n",
       "      <th>11</th>\n",
       "    </tr>\n",
       "  </thead>\n",
       "  <tbody>\n",
       "    <tr>\n",
       "      <th>CREDIT SPREAD</th>\n",
       "      <td>0.365151</td>\n",
       "      <td>-0.237875</td>\n",
       "      <td>-0.653897</td>\n",
       "      <td>-0.971136</td>\n",
       "      <td>0.661716</td>\n",
       "      <td>0.975236</td>\n",
       "      <td>-0.923253</td>\n",
       "      <td>0.569354</td>\n",
       "      <td>-0.422809</td>\n",
       "      <td>-0.099976</td>\n",
       "      <td>0.790421</td>\n",
       "      <td>-0.376823</td>\n",
       "    </tr>\n",
       "    <tr>\n",
       "      <th>T10YFFM</th>\n",
       "      <td>-0.152020</td>\n",
       "      <td>-0.594922</td>\n",
       "      <td>-0.810316</td>\n",
       "      <td>0.290743</td>\n",
       "      <td>0.896889</td>\n",
       "      <td>-0.356363</td>\n",
       "      <td>0.231900</td>\n",
       "      <td>0.774495</td>\n",
       "      <td>0.374739</td>\n",
       "      <td>0.118575</td>\n",
       "      <td>-0.582134</td>\n",
       "      <td>-0.911477</td>\n",
       "    </tr>\n",
       "    <tr>\n",
       "      <th>ICSA</th>\n",
       "      <td>0.936410</td>\n",
       "      <td>0.426185</td>\n",
       "      <td>-0.640053</td>\n",
       "      <td>0.043575</td>\n",
       "      <td>-0.904198</td>\n",
       "      <td>0.543337</td>\n",
       "      <td>0.847729</td>\n",
       "      <td>-0.058346</td>\n",
       "      <td>0.130044</td>\n",
       "      <td>-0.532954</td>\n",
       "      <td>-0.072074</td>\n",
       "      <td>-0.741996</td>\n",
       "    </tr>\n",
       "    <tr>\n",
       "      <th>UM CSENT</th>\n",
       "      <td>-0.542215</td>\n",
       "      <td>0.733873</td>\n",
       "      <td>0.155037</td>\n",
       "      <td>0.442974</td>\n",
       "      <td>0.471174</td>\n",
       "      <td>-0.061399</td>\n",
       "      <td>0.659183</td>\n",
       "      <td>0.945100</td>\n",
       "      <td>-0.514578</td>\n",
       "      <td>-0.031409</td>\n",
       "      <td>-0.493939</td>\n",
       "      <td>-0.250614</td>\n",
       "    </tr>\n",
       "    <tr>\n",
       "      <th>HOUSING PERMIT</th>\n",
       "      <td>0.378517</td>\n",
       "      <td>-0.876183</td>\n",
       "      <td>-0.108088</td>\n",
       "      <td>-0.254377</td>\n",
       "      <td>0.693949</td>\n",
       "      <td>0.948788</td>\n",
       "      <td>-0.049253</td>\n",
       "      <td>-0.784515</td>\n",
       "      <td>0.731528</td>\n",
       "      <td>-0.817281</td>\n",
       "      <td>0.174315</td>\n",
       "      <td>-0.206147</td>\n",
       "    </tr>\n",
       "  </tbody>\n",
       "</table>\n",
       "</div>"
      ],
      "text/plain": [
       "                      0         1         2         3         4         5   \\\n",
       "CREDIT SPREAD   0.365151 -0.237875 -0.653897 -0.971136  0.661716  0.975236   \n",
       "T10YFFM        -0.152020 -0.594922 -0.810316  0.290743  0.896889 -0.356363   \n",
       "ICSA            0.936410  0.426185 -0.640053  0.043575 -0.904198  0.543337   \n",
       "UM CSENT       -0.542215  0.733873  0.155037  0.442974  0.471174 -0.061399   \n",
       "HOUSING PERMIT  0.378517 -0.876183 -0.108088 -0.254377  0.693949  0.948788   \n",
       "\n",
       "                      6         7         8         9         10        11  \n",
       "CREDIT SPREAD  -0.923253  0.569354 -0.422809 -0.099976  0.790421 -0.376823  \n",
       "T10YFFM         0.231900  0.774495  0.374739  0.118575 -0.582134 -0.911477  \n",
       "ICSA            0.847729 -0.058346  0.130044 -0.532954 -0.072074 -0.741996  \n",
       "UM CSENT        0.659183  0.945100 -0.514578 -0.031409 -0.493939 -0.250614  \n",
       "HOUSING PERMIT -0.049253 -0.784515  0.731528 -0.817281  0.174315 -0.206147  "
      ]
     },
     "execution_count": 101,
     "metadata": {},
     "output_type": "execute_result"
    }
   ],
   "source": [
    "phase.head()"
   ]
  },
  {
   "cell_type": "code",
   "execution_count": 102,
   "id": "364a5b84-f136-4a53-8930-16ad2d039b59",
   "metadata": {},
   "outputs": [
    {
     "data": {
      "text/html": [
       "<div>\n",
       "<style scoped>\n",
       "    .dataframe tbody tr th:only-of-type {\n",
       "        vertical-align: middle;\n",
       "    }\n",
       "\n",
       "    .dataframe tbody tr th {\n",
       "        vertical-align: top;\n",
       "    }\n",
       "\n",
       "    .dataframe thead th {\n",
       "        text-align: right;\n",
       "    }\n",
       "</style>\n",
       "<table border=\"1\" class=\"dataframe\">\n",
       "  <thead>\n",
       "    <tr style=\"text-align: right;\">\n",
       "      <th></th>\n",
       "      <th>0</th>\n",
       "      <th>1</th>\n",
       "      <th>2</th>\n",
       "      <th>3</th>\n",
       "      <th>4</th>\n",
       "      <th>5</th>\n",
       "      <th>6</th>\n",
       "      <th>7</th>\n",
       "      <th>8</th>\n",
       "      <th>9</th>\n",
       "      <th>10</th>\n",
       "      <th>11</th>\n",
       "    </tr>\n",
       "  </thead>\n",
       "  <tbody>\n",
       "    <tr>\n",
       "      <th>CREDIT SPREAD</th>\n",
       "      <td>0.222972</td>\n",
       "      <td>0.413629</td>\n",
       "      <td>0.311180</td>\n",
       "      <td>0.093978</td>\n",
       "      <td>0.396840</td>\n",
       "      <td>0.145291</td>\n",
       "      <td>0.126202</td>\n",
       "      <td>0.241843</td>\n",
       "      <td>0.387020</td>\n",
       "      <td>0.322737</td>\n",
       "      <td>0.199597</td>\n",
       "      <td>0.356007</td>\n",
       "    </tr>\n",
       "    <tr>\n",
       "      <th>T10YFFM</th>\n",
       "      <td>0.121671</td>\n",
       "      <td>0.461953</td>\n",
       "      <td>0.098182</td>\n",
       "      <td>0.503189</td>\n",
       "      <td>0.193136</td>\n",
       "      <td>0.212577</td>\n",
       "      <td>0.193275</td>\n",
       "      <td>0.161599</td>\n",
       "      <td>0.430337</td>\n",
       "      <td>0.161871</td>\n",
       "      <td>0.370649</td>\n",
       "      <td>0.119269</td>\n",
       "    </tr>\n",
       "    <tr>\n",
       "      <th>ICSA</th>\n",
       "      <td>0.410818</td>\n",
       "      <td>0.101152</td>\n",
       "      <td>0.106277</td>\n",
       "      <td>0.172607</td>\n",
       "      <td>0.278359</td>\n",
       "      <td>0.353663</td>\n",
       "      <td>0.286817</td>\n",
       "      <td>0.251206</td>\n",
       "      <td>0.340298</td>\n",
       "      <td>0.348280</td>\n",
       "      <td>0.323617</td>\n",
       "      <td>0.300247</td>\n",
       "    </tr>\n",
       "    <tr>\n",
       "      <th>UM CSENT</th>\n",
       "      <td>0.219310</td>\n",
       "      <td>0.431444</td>\n",
       "      <td>0.190386</td>\n",
       "      <td>0.233464</td>\n",
       "      <td>0.171632</td>\n",
       "      <td>0.410732</td>\n",
       "      <td>0.460405</td>\n",
       "      <td>0.122007</td>\n",
       "      <td>0.237052</td>\n",
       "      <td>0.108140</td>\n",
       "      <td>0.042063</td>\n",
       "      <td>0.424656</td>\n",
       "    </tr>\n",
       "    <tr>\n",
       "      <th>HOUSING PERMIT</th>\n",
       "      <td>0.280651</td>\n",
       "      <td>0.307937</td>\n",
       "      <td>0.341851</td>\n",
       "      <td>0.246010</td>\n",
       "      <td>0.295044</td>\n",
       "      <td>0.158748</td>\n",
       "      <td>0.242210</td>\n",
       "      <td>0.354604</td>\n",
       "      <td>0.233503</td>\n",
       "      <td>0.214901</td>\n",
       "      <td>0.384228</td>\n",
       "      <td>0.322534</td>\n",
       "    </tr>\n",
       "  </tbody>\n",
       "</table>\n",
       "</div>"
      ],
      "text/plain": [
       "                      0         1         2         3         4         5   \\\n",
       "CREDIT SPREAD   0.222972  0.413629  0.311180  0.093978  0.396840  0.145291   \n",
       "T10YFFM         0.121671  0.461953  0.098182  0.503189  0.193136  0.212577   \n",
       "ICSA            0.410818  0.101152  0.106277  0.172607  0.278359  0.353663   \n",
       "UM CSENT        0.219310  0.431444  0.190386  0.233464  0.171632  0.410732   \n",
       "HOUSING PERMIT  0.280651  0.307937  0.341851  0.246010  0.295044  0.158748   \n",
       "\n",
       "                      6         7         8         9         10        11  \n",
       "CREDIT SPREAD   0.126202  0.241843  0.387020  0.322737  0.199597  0.356007  \n",
       "T10YFFM         0.193275  0.161599  0.430337  0.161871  0.370649  0.119269  \n",
       "ICSA            0.286817  0.251206  0.340298  0.348280  0.323617  0.300247  \n",
       "UM CSENT        0.460405  0.122007  0.237052  0.108140  0.042063  0.424656  \n",
       "HOUSING PERMIT  0.242210  0.354604  0.233503  0.214901  0.384228  0.322534  "
      ]
     },
     "execution_count": 102,
     "metadata": {},
     "output_type": "execute_result"
    }
   ],
   "source": [
    "mags.head()"
   ]
  },
  {
   "cell_type": "code",
   "execution_count": 103,
   "id": "55a87db2-b55b-4a55-a242-edaf3446a5b6",
   "metadata": {},
   "outputs": [
    {
     "data": {
      "image/png": "[encoded data removed]",
      "text/plain": [
       "<Figure size 1200x400 with 1 Axes>"
      ]
     },
     "metadata": {},
     "output_type": "display_data"
    }
   ],
   "source": [
    "cols = 2  # 1行あたりのサブプロットの数\n",
    "rows = chk.shape[0] // cols + (chk.shape[0] % cols > 0)  # 必要な行数\n",
    "\n",
    "plt.figure(figsize=(12, rows * 4))\n",
    "\n",
    "k = 0\n",
    "for i in list(chk.index):  # 各固有ベクトルに対して\n",
    "    plt.subplot(rows, cols, k + 1)  # サブプロットの位置を指定\n",
    "    x = phase.loc[:,i].values\n",
    "    y = mags.loc[:,i].values\n",
    "    for j in range(x.shape[0]):\n",
    "        plt.scatter(x[j], y[j], alpha=0.7)\n",
    "        plt.text(x[j], y[j], variable_namesX[j].replace(' ','\\n'), fontsize=6)\n",
    "\n",
    "    # 座標軸の表示\n",
    "    plt.xlabel('位相（πラジアン）')\n",
    "    plt.xlim(-1,1)\n",
    "    plt.ylim(0,0.5)\n",
    "    plt.ylabel('絶対値')\n",
    "    plt.axhline(0, color='black', linewidth=1)\n",
    "    plt.axvline(0, color='black', linewidth=1)\n",
    "    # 有意水準の表示 \n",
    "    plt.axhline(sig_mean[i]+2*sig_std[i], color='gray', linewidth=1, linestyle='dashed')\n",
    "    plt.axvline(-1*2/12, color='gray', linewidth=1, linestyle='dashed')\n",
    "    plt.title(f'Eigenvector {i}')\n",
    "\n",
    "    k += 1\n",
    "    \n",
    "plt.tight_layout()\n",
    "plt.savefig('img/強度と位相.png')\n",
    "plt.show()\n"
   ]
  },
  {
   "cell_type": "markdown",
   "id": "2c58b581-5d78-4cbe-a28c-28f382904acb",
   "metadata": {},
   "source": [
    "### モードシグナル"
   ]
  },
  {
   "cell_type": "code",
   "execution_count": 28,
   "id": "fa12b0d1-6a4d-484c-9419-bee513a08a19",
   "metadata": {},
   "outputs": [
    {
     "data": {
      "image/png": "[encoded data removed]",
      "text/plain": [
       "<Figure size 1200x400 with 1 Axes>"
      ]
     },
     "metadata": {},
     "output_type": "display_data"
    }
   ],
   "source": [
    "cols = 2  # 1行あたりのサブプロットの数\n",
    "rows = chk.shape[0] // cols + (chk.shape[0] % cols > 0)  # 必要な行数\n",
    "\n",
    "#mode_signal.index = mode_signal.index.to_timestamp()\n",
    "\n",
    "plt.figure(figsize=(12, rows * 4))\n",
    "\n",
    "k = 0\n",
    "for i in list(chk.index):  # 各固有ベクトルに対して\n",
    "    plt.subplot(rows, cols, k + 1)  # サブプロットの位置を指定\n",
    "    plt.plot(np.abs(mode_signal.loc[:,i]))\n",
    "    plt.ylim(0,10)\n",
    "    plt.title(f'Mode signal of eigenvector {i}')\n",
    "    k += 1\n",
    "    \n",
    "plt.tight_layout()\n",
    "plt.savefig('img/mode_signal.png')\n",
    "plt.show()"
   ]
  },
  {
   "cell_type": "code",
   "execution_count": 40,
   "id": "a305d3f1-085b-4ff2-86d5-673e7396faa3",
   "metadata": {},
   "outputs": [
    {
     "data": {
      "text/plain": [
       "<Axes: >"
      ]
     },
     "execution_count": 40,
     "metadata": {},
     "output_type": "execute_result"
    },
    {
     "data": {
      "image/png": "[encoded data removed]",
      "text/plain": [
       "<Figure size 640x480 with 1 Axes>"
      ]
     },
     "metadata": {},
     "output_type": "display_data"
    }
   ],
   "source": [
    "mode_signal.iloc[:,5].plot()"
   ]
  },
  {
   "cell_type": "code",
   "execution_count": 34,
   "id": "b519b71e-7e63-46a6-a9a8-b1bed2035e87",
   "metadata": {},
   "outputs": [
    {
     "data": {
      "text/html": [
       "<div>\n",
       "<style scoped>\n",
       "    .dataframe tbody tr th:only-of-type {\n",
       "        vertical-align: middle;\n",
       "    }\n",
       "\n",
       "    .dataframe tbody tr th {\n",
       "        vertical-align: top;\n",
       "    }\n",
       "\n",
       "    .dataframe thead th {\n",
       "        text-align: right;\n",
       "    }\n",
       "</style>\n",
       "<table border=\"1\" class=\"dataframe\">\n",
       "  <thead>\n",
       "    <tr style=\"text-align: right;\">\n",
       "      <th></th>\n",
       "      <th>0</th>\n",
       "      <th>1</th>\n",
       "      <th>2</th>\n",
       "      <th>3</th>\n",
       "      <th>4</th>\n",
       "      <th>5</th>\n",
       "      <th>6</th>\n",
       "      <th>7</th>\n",
       "      <th>8</th>\n",
       "      <th>9</th>\n",
       "      <th>10</th>\n",
       "    </tr>\n",
       "  </thead>\n",
       "  <tbody>\n",
       "    <tr>\n",
       "      <th>2020-01-31</th>\n",
       "      <td>0.234081</td>\n",
       "      <td>0.050692</td>\n",
       "      <td>0.352895</td>\n",
       "      <td>0.129291</td>\n",
       "      <td>0.013300</td>\n",
       "      <td>0.006456</td>\n",
       "      <td>0.057404</td>\n",
       "      <td>0.056285</td>\n",
       "      <td>0.022176</td>\n",
       "      <td>0.023734</td>\n",
       "      <td>0.053684</td>\n",
       "    </tr>\n",
       "    <tr>\n",
       "      <th>2020-02-29</th>\n",
       "      <td>0.026315</td>\n",
       "      <td>0.219177</td>\n",
       "      <td>0.006263</td>\n",
       "      <td>0.263246</td>\n",
       "      <td>0.253708</td>\n",
       "      <td>0.029024</td>\n",
       "      <td>0.021199</td>\n",
       "      <td>0.031812</td>\n",
       "      <td>0.039108</td>\n",
       "      <td>0.026897</td>\n",
       "      <td>0.083250</td>\n",
       "    </tr>\n",
       "    <tr>\n",
       "      <th>2020-03-31</th>\n",
       "      <td>0.059493</td>\n",
       "      <td>0.139965</td>\n",
       "      <td>0.107286</td>\n",
       "      <td>0.209700</td>\n",
       "      <td>0.308778</td>\n",
       "      <td>0.000617</td>\n",
       "      <td>0.036511</td>\n",
       "      <td>0.062507</td>\n",
       "      <td>0.006500</td>\n",
       "      <td>0.004706</td>\n",
       "      <td>0.063936</td>\n",
       "    </tr>\n",
       "    <tr>\n",
       "      <th>2020-04-30</th>\n",
       "      <td>0.189068</td>\n",
       "      <td>0.070833</td>\n",
       "      <td>0.222075</td>\n",
       "      <td>0.143237</td>\n",
       "      <td>0.220070</td>\n",
       "      <td>0.035730</td>\n",
       "      <td>0.027023</td>\n",
       "      <td>0.048068</td>\n",
       "      <td>0.004070</td>\n",
       "      <td>0.002580</td>\n",
       "      <td>0.037245</td>\n",
       "    </tr>\n",
       "    <tr>\n",
       "      <th>2020-05-31</th>\n",
       "      <td>0.254628</td>\n",
       "      <td>0.061111</td>\n",
       "      <td>0.272580</td>\n",
       "      <td>0.120787</td>\n",
       "      <td>0.107823</td>\n",
       "      <td>0.058978</td>\n",
       "      <td>0.017206</td>\n",
       "      <td>0.015611</td>\n",
       "      <td>0.026466</td>\n",
       "      <td>0.027989</td>\n",
       "      <td>0.036823</td>\n",
       "    </tr>\n",
       "  </tbody>\n",
       "</table>\n",
       "</div>"
      ],
      "text/plain": [
       "                  0         1         2         3         4         5   \\\n",
       "2020-01-31  0.234081  0.050692  0.352895  0.129291  0.013300  0.006456   \n",
       "2020-02-29  0.026315  0.219177  0.006263  0.263246  0.253708  0.029024   \n",
       "2020-03-31  0.059493  0.139965  0.107286  0.209700  0.308778  0.000617   \n",
       "2020-04-30  0.189068  0.070833  0.222075  0.143237  0.220070  0.035730   \n",
       "2020-05-31  0.254628  0.061111  0.272580  0.120787  0.107823  0.058978   \n",
       "\n",
       "                  6         7         8         9         10  \n",
       "2020-01-31  0.057404  0.056285  0.022176  0.023734  0.053684  \n",
       "2020-02-29  0.021199  0.031812  0.039108  0.026897  0.083250  \n",
       "2020-03-31  0.036511  0.062507  0.006500  0.004706  0.063936  \n",
       "2020-04-30  0.027023  0.048068  0.004070  0.002580  0.037245  \n",
       "2020-05-31  0.017206  0.015611  0.026466  0.027989  0.036823  "
      ]
     },
     "execution_count": 34,
     "metadata": {},
     "output_type": "execute_result"
    }
   ],
   "source": [
    "intensity.head()"
   ]
  },
  {
   "cell_type": "code",
   "execution_count": 29,
   "id": "d1e4f144-e75e-4631-b915-a683a0786f04",
   "metadata": {},
   "outputs": [
    {
     "data": {
      "image/png": "[encoded data removed]",
      "text/plain": [
       "<Figure size 1200x400 with 1 Axes>"
      ]
     },
     "metadata": {},
     "output_type": "display_data"
    }
   ],
   "source": [
    "cols = 2  # 1行あたりのサブプロットの数\n",
    "rows = chk.shape[0] // cols + (chk.shape[0] % cols > 0)  # 必要な行数\n",
    "\n",
    "plt.figure(figsize=(12, rows * 4))\n",
    "\n",
    "k = 0\n",
    "for i in list(chk.index):  # 各固有ベクトルに対して\n",
    "    plt.subplot(rows, cols, k + 1)  # サブプロットの位置を指定\n",
    "    plt.plot(intensity.loc[:,i])\n",
    "    plt.ylim(0,1)\n",
    "    plt.title(f'Relative Intensity of eigenvector {i}')\n",
    "    k += 1\n",
    "    \n",
    "plt.tight_layout()\n",
    "plt.savefig('img/主要固有ベクトルの相対強度.png')\n",
    "plt.show()"
   ]
  },
  {
   "cell_type": "markdown",
   "id": "5bb6f1bf-5677-4551-b597-18764eadec40",
   "metadata": {},
   "source": [
    "### 先行指数の生成"
   ]
  },
  {
   "cell_type": "code",
   "execution_count": null,
   "id": "673a0ec8-b3aa-48d7-8e0c-4e385187f7cc",
   "metadata": {},
   "outputs": [],
   "source": [
    "selected_vars = pd.concat([phase[0],mags[0]],axis=1)\n",
    "selected_vars.columns = ['phase','mags']\n",
    "\n",
    "threshold = sig_mean[0]+2*sig_std[0]\n",
    "selected_vars = selected_vars[(selected_vars['phase']<=0)&(selected_vars['mags']>threshold)]\n",
    "\n",
    "selected_vars = list(selected_vars.index)\n",
    "selected_vars = [selected_vars[-1]]+selected_vars[:-1]"
   ]
  },
  {
   "cell_type": "code",
   "execution_count": null,
   "id": "4e73b3a7-86f9-4210-9202-b73086063b95",
   "metadata": {},
   "outputs": [],
   "source": [
    "\n",
    "pd.DataFrame(np.imag(eigenvecs.loc[selected_vars,0])).T"
   ]
  },
  {
   "cell_type": "code",
   "execution_count": null,
   "id": "7dec9c08-5399-4ea8-b776-2ce1cc2b2a1a",
   "metadata": {},
   "outputs": [],
   "source": [
    "\n",
    "pd.DataFrame(np.angle(eigenvecs.loc[selected_vars,0])).T"
   ]
  },
  {
   "cell_type": "code",
   "execution_count": null,
   "id": "4be2de5f-a42c-4b72-bce9-107f18099ef1",
   "metadata": {},
   "outputs": [],
   "source": [
    "freq = 12\n",
    "phi = pd.DataFrame(np.angle(eigenvecs.loc[selected_vars,0])/(2*np.pi)*freq-(np.angle(eigenvecs.loc[selected_vars,0])/(2*np.pi)*54)[0]).T\n",
    "phi.columns = selected_vars\n",
    "phi.index = ['lead']\n",
    "phi = phi.T\n",
    "phi"
   ]
  },
  {
   "cell_type": "code",
   "execution_count": null,
   "id": "239a4b5f-b6a7-448f-8926-14f46af9474a",
   "metadata": {},
   "outputs": [],
   "source": [
    "phi = phase.loc[selected_vars,0] #πラジアン単位\n",
    "phi = np.abs((phi / 2) * 54 // 1)\n",
    "phi"
   ]
  },
  {
   "cell_type": "code",
   "execution_count": null,
   "id": "aea034e1-e99b-46a9-9483-cd5121dbbecc",
   "metadata": {},
   "outputs": [],
   "source": [
    "data_shifted = [data.loc[:,s].shift(int(phi[s])) for s in selected_vars]\n",
    "data_shifted = pd.concat(data_shifted,axis=1).dropna(how='any',axis=0)\n",
    "data_shifted.tail()"
   ]
  },
  {
   "cell_type": "code",
   "execution_count": null,
   "id": "9678c8a7-ebc2-4256-a46c-82f5492e808d",
   "metadata": {},
   "outputs": [],
   "source": [
    "data.loc['2024':,(selected_vars)]"
   ]
  },
  {
   "cell_type": "code",
   "execution_count": null,
   "id": "2647d6d0-3b7f-4768-9492-518f0bb361fe",
   "metadata": {},
   "outputs": [],
   "source": [
    "\n",
    "leading_real = np.dot(data_shifted.iloc[:,1:],np.real(eigenvecs.loc[selected_vars[1:],0].values))\n",
    "leading_real = pd.DataFrame(leading_real)\n",
    "leading_real.index = list(data_shifted.index)\n",
    "leading_real.columns = ['実部ベース']\n",
    "pd.concat([data_shifted.iloc[:,0].cumsum(),leading_real.cumsum()],axis=1).plot()"
   ]
  },
  {
   "cell_type": "code",
   "execution_count": null,
   "id": "bf21c591-034a-4131-a3d7-81f65e9d80a2",
   "metadata": {},
   "outputs": [],
   "source": [
    "\n",
    "leading_abs = np.dot(data_shifted.iloc[:,1:],np.abs(eigenvecs.loc[selected_vars[1:],0].values))\n",
    "leading_abs = pd.DataFrame(leading_abs)\n",
    "leading_abs.index = list(data_shifted.index)\n",
    "leading_abs.columns = ['絶対値ベース']\n",
    "leading_abs.cumsum().plot()"
   ]
  },
  {
   "cell_type": "code",
   "execution_count": null,
   "id": "7e83a06d-59b7-4805-8fec-6902da832771",
   "metadata": {},
   "outputs": [],
   "source": [
    "#phi = np.imag(eigenvecs.loc[selected_vars,0].values).mean()\n",
    "#phi = (phi / (2 * np.pi)) * 54\n",
    "\n",
    "plt.scatter(leading_real.values,leading_abs.values,alpha=0.3)\n",
    "plt.xlabel('実部ベースの先行指数')\n",
    "plt.ylabel('絶対値ベースの先行指数')\n",
    "plt.show()"
   ]
  },
  {
   "cell_type": "markdown",
   "id": "9f574c1e-1352-4f4f-89ab-327662b8f1c0",
   "metadata": {},
   "source": [
    "### 先行指数"
   ]
  },
  {
   "cell_type": "code",
   "execution_count": null,
   "id": "bf3f5af5-7e62-45b3-9b40-19158b0bd01e",
   "metadata": {},
   "outputs": [],
   "source": [
    "\n",
    "X = leading_abs\n",
    "X['C'] = 1\n",
    "#X.columns = ['yen','leading_index','const']\n",
    "y = data_shifted['yen']\n",
    "\n",
    "model = sm.OLS(y, X)\n",
    "res = model.fit()\n",
    "print(res.summary())"
   ]
  },
  {
   "cell_type": "code",
   "execution_count": null,
   "id": "3f52c1e5-db9a-4e30-8037-7db57d293b61",
   "metadata": {},
   "outputs": [],
   "source": [
    "X = leading_real\n",
    "X['C'] = 1\n",
    "#X.columns = ['yen','leading_index','const']\n",
    "y = data_shifted['yen']\n",
    "\n",
    "model = sm.OLS(y, X)\n",
    "res = model.fit()\n",
    "print(res.summary())"
   ]
  },
  {
   "cell_type": "code",
   "execution_count": null,
   "id": "91540173-a8f0-448f-8e8d-0c7ce24e9a23",
   "metadata": {},
   "outputs": [],
   "source": [
    "y_ = res.fittedvalues\n",
    "plt.scatter(y_,y)\n",
    "plt.show()"
   ]
  },
  {
   "cell_type": "markdown",
   "id": "41337b40-537c-4318-8cdb-81a3f3ff03ce",
   "metadata": {},
   "source": [
    "### 有意な成分の位相差を計算"
   ]
  },
  {
   "cell_type": "code",
   "execution_count": null,
   "id": "7543d252-f266-40d3-81df-f83cce9eace9",
   "metadata": {},
   "outputs": [],
   "source": [
    "phi = np.pi/4\n",
    "obs_num = 54\n",
    "# -π/4 に相当する週数を分数で表現\n",
    "#t_fraction = Fraction(phi / (2 * np.pi)).limit_denominator() * obs_num\n",
    "leads = (phi / (2 * np.pi)) * obs_num\n",
    "leads\n"
   ]
  },
  {
   "cell_type": "code",
   "execution_count": null,
   "id": "9225c797-14bb-4963-a68f-5996cb535062",
   "metadata": {},
   "outputs": [],
   "source": [
    "print('終わりました: ',datetime.now()-start)"
   ]
  },
  {
   "cell_type": "code",
   "execution_count": null,
   "id": "8f5a7dde-7dc9-406d-82f3-4ce10e15d4b3",
   "metadata": {},
   "outputs": [],
   "source": [
    "np.angle(-1+0.5j)/np.pi"
   ]
  },
  {
   "cell_type": "code",
   "execution_count": null,
   "id": "77f14931-0bc5-475d-938b-e4f02ec04ba9",
   "metadata": {},
   "outputs": [],
   "source": [
    "np.angle(-1-0.5j)/np.pi"
   ]
  },
  {
   "cell_type": "code",
   "execution_count": null,
   "id": "c16c5c52-8ef4-4329-817e-b3fa134a1b80",
   "metadata": {},
   "outputs": [],
   "source": [
    "-2*2*np.pi/12"
   ]
  },
  {
   "cell_type": "code",
   "execution_count": null,
   "id": "dfcf5198-eb70-4e9f-90c3-c8dc0bc8928b",
   "metadata": {},
   "outputs": [],
   "source": []
  }
 ],
 "metadata": {
  "kernelspec": {
   "display_name": "Python 3 (ipykernel)",
   "language": "python",
   "name": "python3"
  },
  "language_info": {
   "codemirror_mode": {
    "name": "ipython",
    "version": 3
   },
   "file_extension": ".py",
   "mimetype": "text/x-python",
   "name": "python",
   "nbconvert_exporter": "python",
   "pygments_lexer": "ipython3",
   "version": "3.8.18"
  }
 },
 "nbformat": 4,
 "nbformat_minor": 5
}
