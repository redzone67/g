{
 "cells": [
  {
   "cell_type": "code",
   "execution_count": 1,
   "id": "84787432-c9a7-4d92-97de-f3f88e653d63",
   "metadata": {},
   "outputs": [],
   "source": [
    "from pptx import Presentation\n",
    "import json\n",
    "\n",
    "class PowerPointProcessor:\n",
    "    def __init__(self, ppt_path):\n",
    "        self.ppt_path = ppt_path\n",
    "        self.presentation = Presentation(ppt_path)\n",
    "        self.slides_text = {}\n",
    "\n",
    "    def process_presentation(self):\n",
    "        for slide_index, slide in enumerate(self.presentation.slides, start=1):\n",
    "            slide_content = []\n",
    "            \n",
    "            for shape in slide.shapes:\n",
    "                if shape.has_text_frame:\n",
    "                    text = \"\\n\".join([paragraph.text for paragraph in shape.text_frame.paragraphs])\n",
    "                    slide_content.append(text)\n",
    "                elif shape.has_table:\n",
    "                    table = shape.table\n",
    "                    table_text = []\n",
    "                    for row in table.rows:\n",
    "                        row_text = [cell.text for cell in row.cells]\n",
    "                        table_text.append(row_text)\n",
    "                    slide_content.append(table_text)\n",
    "            \n",
    "            self.slides_text[slide_index] = slide_content\n",
    "\n",
    "    def save_as_json(self, json_path):\n",
    "        with open(json_path, \"w\") as json_file:\n",
    "            json.dump(self.slides_text, json_file, ensure_ascii=False, indent=2)\n",
    "\n",
    "    def get_slides_text(self):\n",
    "        return self.slides_text\n",
    "\n",
    "    def translate_and_replace(self, translated_json):\n",
    "        for slide_index, slide in enumerate(self.presentation.slides, start=1):\n",
    "            if str(slide_index) in translated_json:\n",
    "                slide_content = translated_json[str(slide_index)]\n",
    "                content_index = 0\n",
    "                \n",
    "                for shape in slide.shapes:\n",
    "                    if shape.has_text_frame:\n",
    "                        text = slide_content[content_index]\n",
    "                        for i, paragraph in enumerate(shape.text_frame.paragraphs):\n",
    "                            paragraph.text = text.split(\"\\n\")[i] if i < len(text.split(\"\\n\")) else ''\n",
    "                        content_index += 1\n",
    "                    elif shape.has_table:\n",
    "                        table = shape.table\n",
    "                        table_text = slide_content[content_index]\n",
    "                        for row_index, row in enumerate(table.rows):\n",
    "                            for cell_index, cell in enumerate(row.cells):\n",
    "                                cell.text = table_text[row_index][cell_index] if row_index < len(table_text) and cell_index < len(table_text[row_index]) else ''\n",
    "                        content_index += 1\n",
    "\n",
    "    def save_presentation(self, new_ppt_path):\n",
    "        self.presentation.save(new_ppt_path)"
   ]
  },
  {
   "cell_type": "code",
   "execution_count": 2,
   "id": "a026842e-758d-4da0-b6dd-cffdb6fdcf01",
   "metadata": {},
   "outputs": [],
   "source": [
    "#from PowerPointProcessor import PowerPointProcessor\n",
    "\n",
    "ppt_path = \"テスト.pptx\"\n",
    "processor = PowerPointProcessor(ppt_path)"
   ]
  },
  {
   "cell_type": "code",
   "execution_count": 3,
   "id": "0ec03e87-2a10-4125-b4fe-4ebbba0e1d20",
   "metadata": {},
   "outputs": [],
   "source": [
    "processor.process_presentation()"
   ]
  },
  {
   "cell_type": "code",
   "execution_count": 4,
   "id": "5e46d96d-13b4-4a2d-b4c2-25aaa991bda3",
   "metadata": {},
   "outputs": [],
   "source": [
    "json_path = \"slides_text.json\"\n",
    "processor.save_as_json(json_path)"
   ]
  },
  {
   "cell_type": "code",
   "execution_count": 5,
   "id": "244d9edd-ee9d-4983-b129-fb8b41e7ccd2",
   "metadata": {},
   "outputs": [],
   "source": [
    "def trans(json_data):\n",
    "    def translate_text(text):\n",
    "        # Dummy translation function for example\n",
    "        return text+'Translated'\n",
    "\n",
    "    def translate_item(item):\n",
    "        if isinstance(item, str):\n",
    "            return translate_text(item)\n",
    "        elif isinstance(item, list):\n",
    "            return [translate_item(sub_item) for sub_item in item]\n",
    "        elif isinstance(item, dict):\n",
    "            return {key: translate_item(value) for key, value in item.items()}\n",
    "        else:\n",
    "            return item\n",
    "\n",
    "    return translate_item(json_data)"
   ]
  },
  {
   "cell_type": "code",
   "execution_count": 6,
   "id": "b95c2c80-956f-489e-8723-1a9535dd2dbb",
   "metadata": {},
   "outputs": [],
   "source": [
    "with open(json_path, \"r\") as json_file:\n",
    "    original_json = json.load(json_file)\n",
    "\n",
    "translated_json = trans(original_json)\n",
    "\n",
    "processor.translate_and_replace(translated_json)"
   ]
  },
  {
   "cell_type": "code",
   "execution_count": 7,
   "id": "78d6033f-097e-4067-b875-5846b05b5465",
   "metadata": {},
   "outputs": [],
   "source": [
    "processor.save_presentation('テスト_翻訳2.pptx')"
   ]
  },
  {
   "cell_type": "code",
   "execution_count": null,
   "id": "65d27010-9165-41e2-8dc1-c609e6cabff3",
   "metadata": {},
   "outputs": [],
   "source": []
  }
 ],
 "metadata": {
  "kernelspec": {
   "display_name": "Python 3 (ipykernel)",
   "language": "python",
   "name": "python3"
  },
  "language_info": {
   "codemirror_mode": {
    "name": "ipython",
    "version": 3
   },
   "file_extension": ".py",
   "mimetype": "text/x-python",
   "name": "python",
   "nbconvert_exporter": "python",
   "pygments_lexer": "ipython3",
   "version": "3.8.18"
  }
 },
 "nbformat": 4,
 "nbformat_minor": 5
}
